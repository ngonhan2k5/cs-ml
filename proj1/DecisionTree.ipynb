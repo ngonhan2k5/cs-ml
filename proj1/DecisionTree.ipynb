{
  "nbformat": 4,
  "nbformat_minor": 0,
  "metadata": {
    "colab": {
      "name": "DecisionTree.ipynb",
      "provenance": [],
      "collapsed_sections": [],
      "authorship_tag": "ABX9TyO0R6Fv9S8KcxJaxVLlw9MX",
      "include_colab_link": true
    },
    "kernelspec": {
      "name": "python3",
      "display_name": "Python 3"
    },
    "accelerator": "GPU"
  },
  "cells": [
    {
      "cell_type": "markdown",
      "metadata": {
        "id": "view-in-github",
        "colab_type": "text"
      },
      "source": [
        "<a href=\"https://colab.research.google.com/github/ngonhan2k5/cs-ml/blob/master/proj1/DecisionTree.ipynb\" target=\"_parent\"><img src=\"https://colab.research.google.com/assets/colab-badge.svg\" alt=\"Open In Colab\"/></a>"
      ]
    },
    {
      "cell_type": "markdown",
      "metadata": {
        "id": "7ZryG3cuqsg3",
        "colab_type": "text"
      },
      "source": [
        "# 1. Prepare dataset\n",
        "Follow the steps:\n",
        "\n",
        "\n",
        "1.   Load data\n",
        "2.   Clean up data\n",
        "3.   LabelEncoder the categorical features to numeric\n",
        "4.   Remove the unneccessary features\n",
        "5.   Separate the data into input (X) and target (y)\n",
        "6.   Split the data (X,y) into Train set, Test set\n"
      ]
    },
    {
      "cell_type": "code",
      "metadata": {
        "id": "_BF8W7HnPeB3",
        "colab_type": "code",
        "colab": {
          "base_uri": "https://localhost:8080/",
          "height": 72
        },
        "outputId": "d7927c0b-cd66-416f-f4da-647e5ded3689"
      },
      "source": [
        "import pandas as pd\n",
        "import numpy as np\n",
        "import seaborn as sns\n",
        "import matplotlib.pyplot as plt\n",
        "\n",
        "from IPython.core.interactiveshell import InteractiveShell\n",
        "InteractiveShell.ast_node_interactivity = \"all\""
      ],
      "execution_count": 1,
      "outputs": [
        {
          "output_type": "stream",
          "text": [
            "/usr/local/lib/python3.6/dist-packages/statsmodels/tools/_testing.py:19: FutureWarning: pandas.util.testing is deprecated. Use the functions in the public API at pandas.testing instead.\n",
            "  import pandas.util.testing as tm\n"
          ],
          "name": "stderr"
        }
      ]
    },
    {
      "cell_type": "markdown",
      "metadata": {
        "id": "Hn5Ri_Zp40sU",
        "colab_type": "text"
      },
      "source": [
        "**1.1. Load data**"
      ]
    },
    {
      "cell_type": "code",
      "metadata": {
        "id": "Oxk0skMHRTPe",
        "colab_type": "code",
        "colab": {
          "base_uri": "https://localhost:8080/",
          "height": 233
        },
        "outputId": "a5248fee-2dc5-4715-b1c0-4037feaf1457"
      },
      "source": [
        "#load data\n",
        "df = pd.read_csv('https://archive.ics.uci.edu/ml/machine-learning-databases/adult/adult.data', skipinitialspace=True, na_values=\"?\")\n",
        "df.columns = ['age', 'workclass', 'fnlwgt', 'education', \n",
        "                     'education_num', 'marital_status', 'occupation', 'relationship', 'race', 'sex', \n",
        "                     'capital_gain', 'capital_loss', 'hours_per_week', 'native_country', 'income']\n",
        "#df.describe()\n",
        "df.sample(4)"
      ],
      "execution_count": 2,
      "outputs": [
        {
          "output_type": "execute_result",
          "data": {
            "text/html": [
              "<div>\n",
              "<style scoped>\n",
              "    .dataframe tbody tr th:only-of-type {\n",
              "        vertical-align: middle;\n",
              "    }\n",
              "\n",
              "    .dataframe tbody tr th {\n",
              "        vertical-align: top;\n",
              "    }\n",
              "\n",
              "    .dataframe thead th {\n",
              "        text-align: right;\n",
              "    }\n",
              "</style>\n",
              "<table border=\"1\" class=\"dataframe\">\n",
              "  <thead>\n",
              "    <tr style=\"text-align: right;\">\n",
              "      <th></th>\n",
              "      <th>age</th>\n",
              "      <th>workclass</th>\n",
              "      <th>fnlwgt</th>\n",
              "      <th>education</th>\n",
              "      <th>education_num</th>\n",
              "      <th>marital_status</th>\n",
              "      <th>occupation</th>\n",
              "      <th>relationship</th>\n",
              "      <th>race</th>\n",
              "      <th>sex</th>\n",
              "      <th>capital_gain</th>\n",
              "      <th>capital_loss</th>\n",
              "      <th>hours_per_week</th>\n",
              "      <th>native_country</th>\n",
              "      <th>income</th>\n",
              "    </tr>\n",
              "  </thead>\n",
              "  <tbody>\n",
              "    <tr>\n",
              "      <th>4896</th>\n",
              "      <td>36</td>\n",
              "      <td>Private</td>\n",
              "      <td>398931</td>\n",
              "      <td>Bachelors</td>\n",
              "      <td>13</td>\n",
              "      <td>Married-civ-spouse</td>\n",
              "      <td>Prof-specialty</td>\n",
              "      <td>Husband</td>\n",
              "      <td>White</td>\n",
              "      <td>Male</td>\n",
              "      <td>0</td>\n",
              "      <td>1485</td>\n",
              "      <td>50</td>\n",
              "      <td>United-States</td>\n",
              "      <td>&gt;50K</td>\n",
              "    </tr>\n",
              "    <tr>\n",
              "      <th>4102</th>\n",
              "      <td>21</td>\n",
              "      <td>Private</td>\n",
              "      <td>177125</td>\n",
              "      <td>Some-college</td>\n",
              "      <td>10</td>\n",
              "      <td>Never-married</td>\n",
              "      <td>Handlers-cleaners</td>\n",
              "      <td>Not-in-family</td>\n",
              "      <td>White</td>\n",
              "      <td>Male</td>\n",
              "      <td>0</td>\n",
              "      <td>0</td>\n",
              "      <td>20</td>\n",
              "      <td>United-States</td>\n",
              "      <td>&lt;=50K</td>\n",
              "    </tr>\n",
              "    <tr>\n",
              "      <th>29138</th>\n",
              "      <td>40</td>\n",
              "      <td>Self-emp-not-inc</td>\n",
              "      <td>34007</td>\n",
              "      <td>HS-grad</td>\n",
              "      <td>9</td>\n",
              "      <td>Married-civ-spouse</td>\n",
              "      <td>Farming-fishing</td>\n",
              "      <td>Husband</td>\n",
              "      <td>White</td>\n",
              "      <td>Male</td>\n",
              "      <td>0</td>\n",
              "      <td>0</td>\n",
              "      <td>70</td>\n",
              "      <td>United-States</td>\n",
              "      <td>&gt;50K</td>\n",
              "    </tr>\n",
              "    <tr>\n",
              "      <th>30641</th>\n",
              "      <td>38</td>\n",
              "      <td>Self-emp-not-inc</td>\n",
              "      <td>67317</td>\n",
              "      <td>Bachelors</td>\n",
              "      <td>13</td>\n",
              "      <td>Married-civ-spouse</td>\n",
              "      <td>Farming-fishing</td>\n",
              "      <td>Husband</td>\n",
              "      <td>White</td>\n",
              "      <td>Male</td>\n",
              "      <td>0</td>\n",
              "      <td>0</td>\n",
              "      <td>60</td>\n",
              "      <td>United-States</td>\n",
              "      <td>&lt;=50K</td>\n",
              "    </tr>\n",
              "  </tbody>\n",
              "</table>\n",
              "</div>"
            ],
            "text/plain": [
              "       age         workclass  fnlwgt  ... hours_per_week  native_country income\n",
              "4896    36           Private  398931  ...             50   United-States   >50K\n",
              "4102    21           Private  177125  ...             20   United-States  <=50K\n",
              "29138   40  Self-emp-not-inc   34007  ...             70   United-States   >50K\n",
              "30641   38  Self-emp-not-inc   67317  ...             60   United-States  <=50K\n",
              "\n",
              "[4 rows x 15 columns]"
            ]
          },
          "metadata": {
            "tags": []
          },
          "execution_count": 2
        }
      ]
    },
    {
      "cell_type": "markdown",
      "metadata": {
        "id": "tVD8rfxJ4r7V",
        "colab_type": "text"
      },
      "source": [
        "**1.2 Clean up data**\n",
        "\n",
        "As analyzed in the EDA, I remove the records missing values"
      ]
    },
    {
      "cell_type": "code",
      "metadata": {
        "id": "tkIZeEzURxD-",
        "colab_type": "code",
        "colab": {
          "base_uri": "https://localhost:8080/",
          "height": 34
        },
        "outputId": "ba5c28ab-a925-46f9-9e6f-c5bd39b1be32"
      },
      "source": [
        "#remove records missing values\n",
        "no_missing_df= df.drop(df[df.native_country.isnull()].index)\n",
        "no_missing_df= no_missing_df.drop(no_missing_df[no_missing_df.workclass.isnull()].index)\n",
        "no_missing_df= no_missing_df.drop(no_missing_df[no_missing_df.occupation.isnull()].index)\n",
        "no_missing_df.isnull().sum().max() #just checking that there's no missing data missing..."
      ],
      "execution_count": 3,
      "outputs": [
        {
          "output_type": "execute_result",
          "data": {
            "text/plain": [
              "0"
            ]
          },
          "metadata": {
            "tags": []
          },
          "execution_count": 3
        }
      ]
    },
    {
      "cell_type": "markdown",
      "metadata": {
        "id": "YGW5dZiojXz3",
        "colab_type": "text"
      },
      "source": [
        "**1.3. LabelEncoder the categorical features to numeric**\n",
        "\n",
        "Decision Tree requires numeric features. So, I transform the categorical features into numeric by using LabelEncoder"
      ]
    },
    {
      "cell_type": "code",
      "metadata": {
        "id": "1fjvntRCzHCk",
        "colab_type": "code",
        "colab": {}
      },
      "source": [
        "#LabelEncoder\n",
        "from sklearn.preprocessing import LabelEncoder\n",
        "le= LabelEncoder()\n",
        "no_missing_df['workclass_num']= le.fit_transform(no_missing_df['workclass'])\n",
        "no_missing_df['marital_status_num']= le.fit_transform(no_missing_df['marital_status'])\n",
        "no_missing_df['occupation_num']= le.fit_transform(no_missing_df['occupation'])\n",
        "no_missing_df['relationship_num']= le.fit_transform(no_missing_df['relationship'])\n",
        "no_missing_df['race_num']= le.fit_transform(no_missing_df['race'])\n",
        "no_missing_df['sex_num']= le.fit_transform(no_missing_df['sex'])\n",
        "no_missing_df['native_country_num']= le.fit_transform(no_missing_df['native_country'])\n",
        "no_missing_df['income_num']= le.fit_transform(no_missing_df['income'])\n",
        "\n",
        "#.columns"
      ],
      "execution_count": 4,
      "outputs": []
    },
    {
      "cell_type": "markdown",
      "metadata": {
        "id": "bbpNXisokTOl",
        "colab_type": "text"
      },
      "source": [
        "**1.4. Remove the unneccessary features**\n",
        "\n",
        "*   Remove the categorical features because they are represented by the numeric ones\n",
        "*   Remove the unrelated features indicated in the EDA\n",
        "\n"
      ]
    },
    {
      "cell_type": "code",
      "metadata": {
        "id": "A3LI20k6XNZv",
        "colab_type": "code",
        "colab": {}
      },
      "source": [
        "#remove the unnecessary features\n",
        "neccessary_columns_df= no_missing_df.drop(columns=['fnlwgt', 'education', 'workclass', 'income', 'marital_status', 'occupation', 'sex', 'relationship', 'native_country', 'race'])\n",
        "#neccessary_columns_df.columns"
      ],
      "execution_count": 5,
      "outputs": []
    },
    {
      "cell_type": "markdown",
      "metadata": {
        "id": "UYd_D7Bni0GE",
        "colab_type": "text"
      },
      "source": [
        "**1.5. Separate the data into input (X) and target (y)**"
      ]
    },
    {
      "cell_type": "code",
      "metadata": {
        "id": "_9ll30yRV3Un",
        "colab_type": "code",
        "colab": {}
      },
      "source": [
        "#separate input and target\n",
        "X= neccessary_columns_df.drop('income_num', axis='columns')\n",
        "y= neccessary_columns_df['income_num']"
      ],
      "execution_count": 6,
      "outputs": []
    },
    {
      "cell_type": "markdown",
      "metadata": {
        "id": "KfL1kESlqi6M",
        "colab_type": "text"
      },
      "source": [
        "**1.6. Split the data (X,y) into Train set, Test set**\n",
        "\n",
        "Shuffle then split the data"
      ]
    },
    {
      "cell_type": "code",
      "metadata": {
        "id": "RtwlumtGaeU9",
        "colab_type": "code",
        "colab": {
          "base_uri": "https://localhost:8080/",
          "height": 70
        },
        "outputId": "2ed3d43e-c914-49ef-8b3e-30f8b1d85e0b"
      },
      "source": [
        "#Shuffle and Split data into Training, Testing dataframe\n",
        "from sklearn.model_selection import train_test_split\n",
        "X_train, X_test, y_train, y_test = train_test_split(X, y, shuffle=True, test_size=0.2, random_state=1)\n",
        "print(\"Training Data:\", X_train.shape, y_train.shape)\n",
        "print(\"Testing Data :\", X_test.shape, y_test.shape)\n",
        "print('Train: {}% | Test {}%'.format(round(len(y_train)/len(y),2), round(len(y_test)/len(y),2)))"
      ],
      "execution_count": 7,
      "outputs": [
        {
          "output_type": "stream",
          "text": [
            "Training Data: (24128, 12) (24128,)\n",
            "Testing Data : (6033, 12) (6033,)\n",
            "Train: 0.8% | Test 0.2%\n"
          ],
          "name": "stdout"
        }
      ]
    },
    {
      "cell_type": "markdown",
      "metadata": {
        "id": "bi3umnYaqVvJ",
        "colab_type": "text"
      },
      "source": [
        "# 2. Training Model (Decision Tree Classifier)\n",
        "\n",
        "Follow 2 steps to train the model\n",
        "1.   Tune hyper-parameters to find the ones can build the best model\n",
        "2.   Apply the best ones to train the Decision Tree Classifier model\n",
        "\n",
        "Then I show the Confusion matrix, Precision, Recall and F1-score\n",
        "\n"
      ]
    },
    {
      "cell_type": "markdown",
      "metadata": {
        "id": "1o-xMU6zCfSM",
        "colab_type": "text"
      },
      "source": [
        "**2.1. Tuning Hyper-Parameters to find the best ones**\n",
        "\n",
        "Use **GridSearchCV** for tuning"
      ]
    },
    {
      "cell_type": "code",
      "metadata": {
        "id": "IkDGWAVadFwW",
        "colab_type": "code",
        "colab": {}
      },
      "source": [
        "from sklearn.model_selection import GridSearchCV\n",
        "def get_the_GridSearcCV(model, param_dist, X, y):\n",
        "  gs= GridSearchCV(model, param_dist)\n",
        "  gs.fit(X, y)\n",
        "  print('Tuning Hyper-Parameters:')\n",
        "  print('  - The best parameters: ', gs.best_params_)\n",
        "  print('  - The best score: ', gs.best_score_)\n",
        "  return gs"
      ],
      "execution_count": 8,
      "outputs": []
    },
    {
      "cell_type": "code",
      "metadata": {
        "id": "f7ZkARBlbWm_",
        "colab_type": "code",
        "colab": {
          "base_uri": "https://localhost:8080/",
          "height": 70
        },
        "outputId": "0cd0febc-391b-4f60-ed4f-702d5fdd081d"
      },
      "source": [
        "#Tuning hyper-parameters by using GridSearchCV\n",
        "from sklearn.tree import DecisionTreeClassifier\n",
        "param_dist= {'criterion': ['gini','entropy'],\n",
        "             'max_depth': [3,4,5,6,7,8,9],\n",
        "             'min_samples_leaf': [2,3,4,5,],\n",
        "             'min_samples_split': [4,5,6,7,8,9]\n",
        "             }\n",
        "gs= get_the_GridSearcCV(DecisionTreeClassifier(), param_dist,  X, y)"
      ],
      "execution_count": 9,
      "outputs": [
        {
          "output_type": "stream",
          "text": [
            "Tuning Hyper-Parameters:\n",
            "  - The best parameters:  {'criterion': 'gini', 'max_depth': 9, 'min_samples_leaf': 3, 'min_samples_split': 8}\n",
            "  - The best score:  0.8521934070833229\n"
          ],
          "name": "stdout"
        }
      ]
    },
    {
      "cell_type": "markdown",
      "metadata": {
        "id": "dtQQiPTABgLj",
        "colab_type": "text"
      },
      "source": [
        "**2.2. Apply the best hyper-parameters to train the model**\n",
        "\n",
        "The best hyper-parameters:  {**'criterion': 'gini', 'max_depth': 9, 'min_samples_leaf': 3, 'min_samples_split': 8**}\n"
      ]
    },
    {
      "cell_type": "code",
      "metadata": {
        "id": "otFRQ0H2Aa2Q",
        "colab_type": "code",
        "colab": {
          "base_uri": "https://localhost:8080/",
          "height": 34
        },
        "outputId": "e8b40a6f-4e12-48e8-d727-ff49a52a6a9f"
      },
      "source": [
        "best_clf= DecisionTreeClassifier(criterion= 'gini', max_depth=9, min_samples_leaf=3, min_samples_split=8)\n",
        "best_clf= best_clf.fit(X_train, y_train)\n",
        "score= best_clf.score(X_test, y_test)\n",
        "print(\"Test score: \", score)"
      ],
      "execution_count": 10,
      "outputs": [
        {
          "output_type": "stream",
          "text": [
            "Test score:  0.8488314271506713\n"
          ],
          "name": "stdout"
        }
      ]
    },
    {
      "cell_type": "markdown",
      "metadata": {
        "id": "U-1qhNWLDgzd",
        "colab_type": "text"
      },
      "source": [
        "**2.3. The confusion matrix**\n",
        "\n",
        "Apply the trained model to predict the Test set"
      ]
    },
    {
      "cell_type": "code",
      "metadata": {
        "id": "t_eMCIdIscX9",
        "colab_type": "code",
        "colab": {
          "base_uri": "https://localhost:8080/",
          "height": 124
        },
        "outputId": "a651c52f-b068-461c-e4e3-66e3b66d70f3"
      },
      "source": [
        "#predict Testing set\n",
        "y_predict= best_clf.predict(X_test)\n",
        "\n",
        "#Show confusion matrix\n",
        "from sklearn.metrics import confusion_matrix\n",
        "cm= confusion_matrix(y_test, y_predict)\n",
        "confusion_df= pd.DataFrame(cm)\n",
        "print(\"Confussion Matrix when apply the best model to the Test data\")\n",
        "confusion_df"
      ],
      "execution_count": 11,
      "outputs": [
        {
          "output_type": "stream",
          "text": [
            "Confussion Matrix when apply the best model to the Test data\n"
          ],
          "name": "stdout"
        },
        {
          "output_type": "execute_result",
          "data": {
            "text/html": [
              "<div>\n",
              "<style scoped>\n",
              "    .dataframe tbody tr th:only-of-type {\n",
              "        vertical-align: middle;\n",
              "    }\n",
              "\n",
              "    .dataframe tbody tr th {\n",
              "        vertical-align: top;\n",
              "    }\n",
              "\n",
              "    .dataframe thead th {\n",
              "        text-align: right;\n",
              "    }\n",
              "</style>\n",
              "<table border=\"1\" class=\"dataframe\">\n",
              "  <thead>\n",
              "    <tr style=\"text-align: right;\">\n",
              "      <th></th>\n",
              "      <th>0</th>\n",
              "      <th>1</th>\n",
              "    </tr>\n",
              "  </thead>\n",
              "  <tbody>\n",
              "    <tr>\n",
              "      <th>0</th>\n",
              "      <td>4329</td>\n",
              "      <td>182</td>\n",
              "    </tr>\n",
              "    <tr>\n",
              "      <th>1</th>\n",
              "      <td>730</td>\n",
              "      <td>792</td>\n",
              "    </tr>\n",
              "  </tbody>\n",
              "</table>\n",
              "</div>"
            ],
            "text/plain": [
              "      0    1\n",
              "0  4329  182\n",
              "1   730  792"
            ]
          },
          "metadata": {
            "tags": []
          },
          "execution_count": 11
        }
      ]
    },
    {
      "cell_type": "markdown",
      "metadata": {
        "id": "TbN_Gav43k_c",
        "colab_type": "text"
      },
      "source": [
        "**2.4. Precision, Recall, F1-score**"
      ]
    },
    {
      "cell_type": "code",
      "metadata": {
        "id": "bn8EobuEYReP",
        "colab_type": "code",
        "colab": {
          "base_uri": "https://localhost:8080/",
          "height": 175
        },
        "outputId": "92ab45ea-76e8-47b1-c061-d5163710e7cc"
      },
      "source": [
        "# Precision, Recall, F1-score\n",
        "from sklearn.metrics import classification_report\n",
        "print(classification_report(y_test, y_predict))"
      ],
      "execution_count": 12,
      "outputs": [
        {
          "output_type": "stream",
          "text": [
            "              precision    recall  f1-score   support\n",
            "\n",
            "           0       0.86      0.96      0.90      4511\n",
            "           1       0.81      0.52      0.63      1522\n",
            "\n",
            "    accuracy                           0.85      6033\n",
            "   macro avg       0.83      0.74      0.77      6033\n",
            "weighted avg       0.84      0.85      0.84      6033\n",
            "\n"
          ],
          "name": "stdout"
        }
      ]
    },
    {
      "cell_type": "markdown",
      "metadata": {
        "id": "dxhUNhOBEwKk",
        "colab_type": "text"
      },
      "source": [
        "# 3. Learning Curve and Validation Curve\n",
        "\n",
        "Try 3 models with different hyper-parameters and show the Learning Curve and Validation Curve for each model.\n"
      ]
    },
    {
      "cell_type": "code",
      "metadata": {
        "id": "o1q5tS6_ORkK",
        "colab_type": "code",
        "colab": {}
      },
      "source": [
        "def show_curve(train_scores, test_scores, x_axis_range, title, xlabel):\n",
        "  train_scores_mean= np.mean(train_scores, axis=1)\n",
        "  train_scores_std= np.std(train_scores, axis=1)\n",
        "  test_scores_mean= np.mean(test_scores, axis=1)\n",
        "  test_scores_std= np.std(test_scores, axis=1)  \n",
        "  \n",
        "  plt.figure()\n",
        "  plt.plot(x_axis_range, train_scores_mean, marker='o', label= \"Training score\")\n",
        "  plt.plot(x_axis_range, test_scores_mean, marker='o', label=\"Cross-Validation score\")\n",
        "\n",
        "  plt.fill_between(x_axis_range, train_scores_mean-train_scores_std, train_scores_mean+train_scores_std,color= '#33F4FF',alpha=0.5)\n",
        "  plt.fill_between(x_axis_range, test_scores_mean-test_scores_std, test_scores_mean+test_scores_std, color= '#DDDDDD',alpha=0.5)\n",
        "\n",
        "  plt.title(title)\n",
        "  plt.xlabel(xlabel)\n",
        "  plt.ylabel('Score')\n",
        "  plt.legend(loc= 'best')"
      ],
      "execution_count": 13,
      "outputs": []
    },
    {
      "cell_type": "markdown",
      "metadata": {
        "id": "myZPuqV9RClp",
        "colab_type": "text"
      },
      "source": [
        "**Settings**"
      ]
    },
    {
      "cell_type": "code",
      "metadata": {
        "id": "JKHxXoKVyKGz",
        "colab_type": "code",
        "colab": {}
      },
      "source": [
        "from sklearn.model_selection import learning_curve\n",
        "train_sizes= np.linspace(0.01,1,10)\n",
        "scoring= \"accuracy\"\n",
        "\n",
        "from sklearn.model_selection import validation_curve\n",
        "param_name= 'max_depth'\n",
        "param_range = np.linspace(1,12,12)"
      ],
      "execution_count": 14,
      "outputs": []
    },
    {
      "cell_type": "markdown",
      "metadata": {
        "id": "JSPukkBYujdt",
        "colab_type": "text"
      },
      "source": [
        "**1. The best model**\n",
        "\n",
        "Hyper-parameters= {**'criterion': 'gini', 'max_depth': 9, 'min_samples_leaf': 3, 'min_samples_split': 8**}"
      ]
    },
    {
      "cell_type": "code",
      "metadata": {
        "id": "8riYU2ru4LMk",
        "colab_type": "code",
        "colab": {
          "base_uri": "https://localhost:8080/",
          "height": 34
        },
        "outputId": "32808ec9-1ecf-4ddf-ddca-316d5745a8f2"
      },
      "source": [
        "score= best_clf.score(X_test, y_test)\n",
        "print(\"Test score: \", score)"
      ],
      "execution_count": 15,
      "outputs": [
        {
          "output_type": "stream",
          "text": [
            "Test score:  0.8488314271506713\n"
          ],
          "name": "stdout"
        }
      ]
    },
    {
      "cell_type": "markdown",
      "metadata": {
        "id": "tVMLh2vdZ9On",
        "colab_type": "text"
      },
      "source": [
        "***1.1. Learning curve***"
      ]
    },
    {
      "cell_type": "code",
      "metadata": {
        "id": "1bWR2UkwvDX1",
        "colab_type": "code",
        "colab": {
          "base_uri": "https://localhost:8080/",
          "height": 295
        },
        "outputId": "7591e7ea-dfed-4e14-9c8b-ad50649ccc60"
      },
      "source": [
        "train_sizes_showed, train_scores, test_scores= learning_curve(best_clf, X_train, y_train, scoring=scoring, train_sizes= train_sizes)\n",
        "show_curve(train_scores, test_scores, train_sizes_showed, 'Learning Curve', 'Training Size')"
      ],
      "execution_count": 16,
      "outputs": [
        {
          "output_type": "display_data",
          "data": {
            "image/png": "[encoded data removed]",
            "text/plain": [
              "<Figure size 432x288 with 1 Axes>"
            ]
          },
          "metadata": {
            "tags": [],
            "needs_background": "light"
          }
        }
      ]
    },
    {
      "cell_type": "markdown",
      "metadata": {
        "id": "MEmyVV_3W2kB",
        "colab_type": "text"
      },
      "source": [
        "The y-axis is '**score**', so the higher the score, the better the performance of the model.\n",
        "\n",
        "\n",
        "*   Training score decreases gradually then be stable.\n",
        "*   Cross-validation scoare increases gradually then be stable.\n",
        "*   The curves are converge to around 0.85.\n",
        "\n",
        "So, adding more data for training can't help the model better\n"
      ]
    },
    {
      "cell_type": "markdown",
      "metadata": {
        "id": "Pa0Ai_F7aDjD",
        "colab_type": "text"
      },
      "source": [
        "***1.2. Validation curve***"
      ]
    },
    {
      "cell_type": "code",
      "metadata": {
        "id": "yaMEW47NdYtS",
        "colab_type": "code",
        "colab": {
          "base_uri": "https://localhost:8080/",
          "height": 296
        },
        "outputId": "5319c16e-626a-49f7-e0b3-85084502e3b4"
      },
      "source": [
        "train_scores, test_scores= validation_curve(best_clf, X_train, y_train, param_name=param_name, param_range=param_range, scoring= scoring, error_score= 'raise' )\n",
        "show_curve(train_scores, test_scores, param_range, 'Validation Curve', param_name)"
      ],
      "execution_count": 17,
      "outputs": [
        {
          "output_type": "display_data",
          "data": {
            "image/png": "[encoded data removed]",
            "text/plain": [
              "<Figure size 432x288 with 1 Axes>"
            ]
          },
          "metadata": {
            "tags": [],
            "needs_background": "light"
          }
        }
      ]
    },
    {
      "cell_type": "markdown",
      "metadata": {
        "id": "03sbdliyfATw",
        "colab_type": "text"
      },
      "source": [
        "- max_depth > 9: the model is overfitting \n",
        "- max_depth = 9: can get the best validation score"
      ]
    },
    {
      "cell_type": "markdown",
      "metadata": {
        "id": "yYaQHWSuupIU",
        "colab_type": "text"
      },
      "source": [
        "**2. The second model**\n",
        "\n",
        "Hyper-parameters= {**'criterion': 'gini', 'max_depth': 100**}"
      ]
    },
    {
      "cell_type": "code",
      "metadata": {
        "id": "iWhsAVjXvNmM",
        "colab_type": "code",
        "colab": {
          "base_uri": "https://localhost:8080/",
          "height": 34
        },
        "outputId": "27ad3c5c-9988-47ad-8804-b32a2bd86301"
      },
      "source": [
        "second_clf= DecisionTreeClassifier(criterion= 'gini', max_depth=100)\n",
        "second_clf= second_clf.fit(X_train, y_train)\n",
        "score= second_clf.score(X_test, y_test)\n",
        "print(\"Test score: \", score)"
      ],
      "execution_count": 18,
      "outputs": [
        {
          "output_type": "stream",
          "text": [
            "Test score:  0.8045748383888612\n"
          ],
          "name": "stdout"
        }
      ]
    },
    {
      "cell_type": "markdown",
      "metadata": {
        "id": "i1qx4HhLaHX_",
        "colab_type": "text"
      },
      "source": [
        "***2.1. Learning curve***"
      ]
    },
    {
      "cell_type": "code",
      "metadata": {
        "id": "E3WSG9PqvVJH",
        "colab_type": "code",
        "colab": {
          "base_uri": "https://localhost:8080/",
          "height": 348
        },
        "outputId": "a51adbea-be25-40d3-9abf-c7a84729a82a"
      },
      "source": [
        "train_sizes_showed, train_scores, test_scores= learning_curve(second_clf, X_train, y_train, scoring=scoring, train_sizes= train_sizes, verbose=1)\n",
        "show_curve(train_scores, test_scores, train_sizes_showed, 'Learning Curve', 'Training Size')"
      ],
      "execution_count": 19,
      "outputs": [
        {
          "output_type": "stream",
          "text": [
            "[learning_curve] Training set sizes: [  193  2316  4439  6562  8685 10809 12932 15055 17178 19302]\n"
          ],
          "name": "stdout"
        },
        {
          "output_type": "stream",
          "text": [
            "[Parallel(n_jobs=1)]: Using backend SequentialBackend with 1 concurrent workers.\n",
            "[Parallel(n_jobs=1)]: Done  50 out of  50 | elapsed:    1.7s finished\n"
          ],
          "name": "stderr"
        },
        {
          "output_type": "display_data",
          "data": {
            "image/png": "[encoded data removed]",
            "text/plain": [
              "<Figure size 432x288 with 1 Axes>"
            ]
          },
          "metadata": {
            "tags": [],
            "needs_background": "light"
          }
        }
      ]
    },
    {
      "cell_type": "markdown",
      "metadata": {
        "id": "Y4nmjAlsazCQ",
        "colab_type": "text"
      },
      "source": [
        "The y-axis is '**score**', so the higher the score, the better the performance of the model.\n",
        "\n",
        "\n",
        "*   Training score is so high.\n",
        "*   Cross-validation score is slow\n",
        "\n",
        "The model is overfitting, so increasing the training data size can't improve the model. So, tuning hyper-parameters can get it better.\n"
      ]
    },
    {
      "cell_type": "markdown",
      "metadata": {
        "id": "0kYVs4exaJza",
        "colab_type": "text"
      },
      "source": [
        "***2.2. Validation curve***"
      ]
    },
    {
      "cell_type": "code",
      "metadata": {
        "id": "H9buZmq2tFtT",
        "colab_type": "code",
        "colab": {
          "base_uri": "https://localhost:8080/",
          "height": 296
        },
        "outputId": "f4abb678-9883-4c71-d723-0c3aa0e5c2eb"
      },
      "source": [
        "train_scores, test_scores= validation_curve(second_clf, X_train, y_train, param_name=param_name, param_range=param_range, scoring= scoring, error_score= 'raise' )\n",
        "show_curve(train_scores, test_scores, param_range, 'Validation Curve', param_name)"
      ],
      "execution_count": 20,
      "outputs": [
        {
          "output_type": "display_data",
          "data": {
            "image/png": "[encoded data removed]",
            "text/plain": [
              "<Figure size 432x288 with 1 Axes>"
            ]
          },
          "metadata": {
            "tags": [],
            "needs_background": "light"
          }
        }
      ]
    },
    {
      "cell_type": "markdown",
      "metadata": {
        "id": "A0D1piQngQem",
        "colab_type": "text"
      },
      "source": [
        "- max_depth > 9: the model is overfitting \n",
        "- max_depth = 9: can get the best validation score"
      ]
    },
    {
      "cell_type": "markdown",
      "metadata": {
        "id": "mXr6ww8uuxXr",
        "colab_type": "text"
      },
      "source": [
        "**3. The third model**\n",
        "\n",
        "Hyper-parameters= {**'criterion': 'entropy'**}"
      ]
    },
    {
      "cell_type": "code",
      "metadata": {
        "id": "QEckJy9xvl19",
        "colab_type": "code",
        "colab": {
          "base_uri": "https://localhost:8080/",
          "height": 34
        },
        "outputId": "3b2e5914-d82e-4acb-e77a-e6f26add6b6f"
      },
      "source": [
        "third_clf= DecisionTreeClassifier(criterion= 'entropy')\n",
        "third_clf= third_clf.fit(X_train, y_train)\n",
        "score= third_clf.score(X_test, y_test)\n",
        "print(\"Test score: \", score)"
      ],
      "execution_count": 21,
      "outputs": [
        {
          "output_type": "stream",
          "text": [
            "Test score:  0.808055693684734\n"
          ],
          "name": "stdout"
        }
      ]
    },
    {
      "cell_type": "markdown",
      "metadata": {
        "id": "iKw9OG75aOJt",
        "colab_type": "text"
      },
      "source": [
        "***3.1. Learning curve***"
      ]
    },
    {
      "cell_type": "code",
      "metadata": {
        "id": "xAK3EVaoU4J3",
        "colab_type": "code",
        "colab": {
          "base_uri": "https://localhost:8080/",
          "height": 348
        },
        "outputId": "48ebe707-0214-41b3-90d7-207bc8d8555d"
      },
      "source": [
        "train_sizes_showed, train_scores, test_scores= learning_curve(third_clf, X_train, y_train, scoring=scoring, train_sizes= train_sizes, verbose=1)\n",
        "show_curve(train_scores, test_scores, train_sizes_showed, 'Learning Curve', 'Training Size')"
      ],
      "execution_count": 22,
      "outputs": [
        {
          "output_type": "stream",
          "text": [
            "[learning_curve] Training set sizes: [  193  2316  4439  6562  8685 10809 12932 15055 17178 19302]\n"
          ],
          "name": "stdout"
        },
        {
          "output_type": "stream",
          "text": [
            "[Parallel(n_jobs=1)]: Using backend SequentialBackend with 1 concurrent workers.\n",
            "[Parallel(n_jobs=1)]: Done  50 out of  50 | elapsed:    1.8s finished\n"
          ],
          "name": "stderr"
        },
        {
          "output_type": "display_data",
          "data": {
            "image/png": "[encoded data removed]",
            "text/plain": [
              "<Figure size 432x288 with 1 Axes>"
            ]
          },
          "metadata": {
            "tags": [],
            "needs_background": "light"
          }
        }
      ]
    },
    {
      "cell_type": "markdown",
      "metadata": {
        "id": "TYhqgYNbbW1B",
        "colab_type": "text"
      },
      "source": [
        "The y-axis is '**score**', so the higher the score, the better the performance of the model.\n",
        "\n",
        "- Training score is so high.\n",
        "- Cross-validation score is slow\n",
        "\n",
        "The model is overfitting, so increasing the training data size can't improve the model. So, tuning hyper-parameters can get it better."
      ]
    },
    {
      "cell_type": "markdown",
      "metadata": {
        "id": "z-nTFZddaQmf",
        "colab_type": "text"
      },
      "source": [
        "***3.2. Validation curve***"
      ]
    },
    {
      "cell_type": "code",
      "metadata": {
        "id": "tnsA5o7-wPXN",
        "colab_type": "code",
        "colab": {
          "base_uri": "https://localhost:8080/",
          "height": 296
        },
        "outputId": "d23eb8f0-78f4-4e21-e79b-4d5461d5526c"
      },
      "source": [
        "train_scores, test_scores= validation_curve(third_clf, X_train, y_train, param_name=param_name, param_range=param_range, scoring=scoring)\n",
        "show_curve(train_scores, test_scores, param_range, 'Validation Curve', param_name)"
      ],
      "execution_count": 23,
      "outputs": [
        {
          "output_type": "display_data",
          "data": {
            "image/png": "[encoded data removed]",
            "text/plain": [
              "<Figure size 432x288 with 1 Axes>"
            ]
          },
          "metadata": {
            "tags": [],
            "needs_background": "light"
          }
        }
      ]
    },
    {
      "cell_type": "markdown",
      "metadata": {
        "id": "GtcbKEvBge72",
        "colab_type": "text"
      },
      "source": [
        "- max_depth > 9: the model is overfitting \n",
        "- max_depth = 9: can get the best validation score"
      ]
    }
  ]
}