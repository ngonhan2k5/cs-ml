{
  "nbformat": 4,
  "nbformat_minor": 0,
  "metadata": {
    "colab": {
      "name": "DecisionTree.ipynb",
      "provenance": [],
      "collapsed_sections": [
        "7ZryG3cuqsg3"
      ],
      "authorship_tag": "ABX9TyNsSFfCkH/TATTCqQPEE9Zi",
      "include_colab_link": true
    },
    "kernelspec": {
      "name": "python3",
      "display_name": "Python 3"
    },
    "accelerator": "GPU"
  },
  "cells": [
    {
      "cell_type": "markdown",
      "metadata": {
        "id": "view-in-github",
        "colab_type": "text"
      },
      "source": [
        "<a href=\"https://colab.research.google.com/github/ngonhan2k5/cs-ml/blob/master/proj1/DecisionTree.ipynb\" target=\"_parent\"><img src=\"https://colab.research.google.com/assets/colab-badge.svg\" alt=\"Open In Colab\"/></a>"
      ]
    },
    {
      "cell_type": "markdown",
      "metadata": {
        "id": "7ZryG3cuqsg3",
        "colab_type": "text"
      },
      "source": [
        "# 1. Prepare dataset"
      ]
    },
    {
      "cell_type": "code",
      "metadata": {
        "id": "_BF8W7HnPeB3",
        "colab_type": "code",
        "colab": {
          "base_uri": "https://localhost:8080/",
          "height": 72
        },
        "outputId": "b42f6b0e-787c-43bb-fba1-f480facd9332"
      },
      "source": [
        "import pandas as pd\n",
        "import numpy as np\n",
        "import matplotlib.pyplot as plt\n",
        "import seaborn as sns\n",
        "\n",
        "from IPython.core.interactiveshell import InteractiveShell\n",
        "InteractiveShell.ast_node_interactivity = \"all\""
      ],
      "execution_count": 2,
      "outputs": [
        {
          "output_type": "stream",
          "text": [
            "/usr/local/lib/python3.6/dist-packages/statsmodels/tools/_testing.py:19: FutureWarning: pandas.util.testing is deprecated. Use the functions in the public API at pandas.testing instead.\n",
            "  import pandas.util.testing as tm\n"
          ],
          "name": "stderr"
        }
      ]
    },
    {
      "cell_type": "markdown",
      "metadata": {
        "id": "Hn5Ri_Zp40sU",
        "colab_type": "text"
      },
      "source": [
        "**Load data**"
      ]
    },
    {
      "cell_type": "code",
      "metadata": {
        "id": "Oxk0skMHRTPe",
        "colab_type": "code",
        "colab": {
          "base_uri": "https://localhost:8080/",
          "height": 199
        },
        "outputId": "d3a1db1c-ad4a-48db-e121-675bcb78a164"
      },
      "source": [
        "#load data\n",
        "df = pd.read_csv('https://archive.ics.uci.edu/ml/machine-learning-databases/adult/adult.data', skipinitialspace=True, na_values=\"?\")\n",
        "df.columns = ['age', 'workclass', 'fnlwgt', 'education', \n",
        "                     'education_num', 'marital_status', 'occupation', 'relationship', 'race', 'sex', \n",
        "                     'capital_gain', 'capital_loss', 'hours_per_week', 'native_country', 'income']\n",
        "#df.describe()\n",
        "df.sample(4)"
      ],
      "execution_count": 112,
      "outputs": [
        {
          "output_type": "execute_result",
          "data": {
            "text/html": [
              "<div>\n",
              "<style scoped>\n",
              "    .dataframe tbody tr th:only-of-type {\n",
              "        vertical-align: middle;\n",
              "    }\n",
              "\n",
              "    .dataframe tbody tr th {\n",
              "        vertical-align: top;\n",
              "    }\n",
              "\n",
              "    .dataframe thead th {\n",
              "        text-align: right;\n",
              "    }\n",
              "</style>\n",
              "<table border=\"1\" class=\"dataframe\">\n",
              "  <thead>\n",
              "    <tr style=\"text-align: right;\">\n",
              "      <th></th>\n",
              "      <th>age</th>\n",
              "      <th>workclass</th>\n",
              "      <th>fnlwgt</th>\n",
              "      <th>education</th>\n",
              "      <th>education_num</th>\n",
              "      <th>marital_status</th>\n",
              "      <th>occupation</th>\n",
              "      <th>relationship</th>\n",
              "      <th>race</th>\n",
              "      <th>sex</th>\n",
              "      <th>capital_gain</th>\n",
              "      <th>capital_loss</th>\n",
              "      <th>hours_per_week</th>\n",
              "      <th>native_country</th>\n",
              "      <th>income</th>\n",
              "    </tr>\n",
              "  </thead>\n",
              "  <tbody>\n",
              "    <tr>\n",
              "      <th>16548</th>\n",
              "      <td>35</td>\n",
              "      <td>Private</td>\n",
              "      <td>112512</td>\n",
              "      <td>HS-grad</td>\n",
              "      <td>9</td>\n",
              "      <td>Widowed</td>\n",
              "      <td>Other-service</td>\n",
              "      <td>Own-child</td>\n",
              "      <td>White</td>\n",
              "      <td>Female</td>\n",
              "      <td>0</td>\n",
              "      <td>0</td>\n",
              "      <td>40</td>\n",
              "      <td>United-States</td>\n",
              "      <td>&lt;=50K</td>\n",
              "    </tr>\n",
              "    <tr>\n",
              "      <th>17396</th>\n",
              "      <td>45</td>\n",
              "      <td>Private</td>\n",
              "      <td>54744</td>\n",
              "      <td>Some-college</td>\n",
              "      <td>10</td>\n",
              "      <td>Married-civ-spouse</td>\n",
              "      <td>Craft-repair</td>\n",
              "      <td>Husband</td>\n",
              "      <td>White</td>\n",
              "      <td>Male</td>\n",
              "      <td>0</td>\n",
              "      <td>1848</td>\n",
              "      <td>40</td>\n",
              "      <td>United-States</td>\n",
              "      <td>&gt;50K</td>\n",
              "    </tr>\n",
              "    <tr>\n",
              "      <th>8227</th>\n",
              "      <td>48</td>\n",
              "      <td>State-gov</td>\n",
              "      <td>122086</td>\n",
              "      <td>HS-grad</td>\n",
              "      <td>9</td>\n",
              "      <td>Married-civ-spouse</td>\n",
              "      <td>Protective-serv</td>\n",
              "      <td>Husband</td>\n",
              "      <td>White</td>\n",
              "      <td>Male</td>\n",
              "      <td>0</td>\n",
              "      <td>0</td>\n",
              "      <td>40</td>\n",
              "      <td>United-States</td>\n",
              "      <td>&lt;=50K</td>\n",
              "    </tr>\n",
              "    <tr>\n",
              "      <th>16463</th>\n",
              "      <td>67</td>\n",
              "      <td>Local-gov</td>\n",
              "      <td>176931</td>\n",
              "      <td>7th-8th</td>\n",
              "      <td>4</td>\n",
              "      <td>Widowed</td>\n",
              "      <td>Other-service</td>\n",
              "      <td>Not-in-family</td>\n",
              "      <td>White</td>\n",
              "      <td>Female</td>\n",
              "      <td>0</td>\n",
              "      <td>0</td>\n",
              "      <td>20</td>\n",
              "      <td>United-States</td>\n",
              "      <td>&lt;=50K</td>\n",
              "    </tr>\n",
              "  </tbody>\n",
              "</table>\n",
              "</div>"
            ],
            "text/plain": [
              "       age  workclass  fnlwgt  ... hours_per_week  native_country income\n",
              "16548   35    Private  112512  ...             40   United-States  <=50K\n",
              "17396   45    Private   54744  ...             40   United-States   >50K\n",
              "8227    48  State-gov  122086  ...             40   United-States  <=50K\n",
              "16463   67  Local-gov  176931  ...             20   United-States  <=50K\n",
              "\n",
              "[4 rows x 15 columns]"
            ]
          },
          "metadata": {
            "tags": []
          },
          "execution_count": 112
        }
      ]
    },
    {
      "cell_type": "markdown",
      "metadata": {
        "id": "tVD8rfxJ4r7V",
        "colab_type": "text"
      },
      "source": [
        "**Clean up data**"
      ]
    },
    {
      "cell_type": "code",
      "metadata": {
        "id": "tkIZeEzURxD-",
        "colab_type": "code",
        "colab": {
          "base_uri": "https://localhost:8080/",
          "height": 34
        },
        "outputId": "cb8eb37b-88f1-4d3c-e5f8-2edb6259833f"
      },
      "source": [
        "#remove records missing values\n",
        "no_missing_df= df.drop(df[df.native_country.isnull()].index)\n",
        "no_missing_df= no_missing_df.drop(no_missing_df[no_missing_df.workclass.isnull()].index)\n",
        "no_missing_df= no_missing_df.drop(no_missing_df[no_missing_df.occupation.isnull()].index)\n",
        "no_missing_df.isnull().sum().max() #just checking that there's no missing data missing..."
      ],
      "execution_count": 113,
      "outputs": [
        {
          "output_type": "execute_result",
          "data": {
            "text/plain": [
              "0"
            ]
          },
          "metadata": {
            "tags": []
          },
          "execution_count": 113
        }
      ]
    },
    {
      "cell_type": "code",
      "metadata": {
        "id": "1fjvntRCzHCk",
        "colab_type": "code",
        "colab": {}
      },
      "source": [
        "#LabelEncoder\n",
        "from sklearn.preprocessing import LabelEncoder\n",
        "le= LabelEncoder()\n",
        "no_missing_df['workclass_num']= le.fit_transform(no_missing_df['workclass'])\n",
        "no_missing_df['marital_status_num']= le.fit_transform(no_missing_df['marital_status'])\n",
        "no_missing_df['occupation_num']= le.fit_transform(no_missing_df['occupation'])\n",
        "no_missing_df['relationship_num']= le.fit_transform(no_missing_df['relationship'])\n",
        "no_missing_df['race_num']= le.fit_transform(no_missing_df['race'])\n",
        "no_missing_df['sex_num']= le.fit_transform(no_missing_df['sex'])\n",
        "no_missing_df['native_country_num']= le.fit_transform(no_missing_df['native_country'])\n",
        "no_missing_df['income_num']= le.fit_transform(no_missing_df['income'])\n",
        "\n",
        "#.columns"
      ],
      "execution_count": 122,
      "outputs": []
    },
    {
      "cell_type": "code",
      "metadata": {
        "id": "A3LI20k6XNZv",
        "colab_type": "code",
        "colab": {}
      },
      "source": [
        "#remove the unnecessary features\n",
        "neccessary_columns_df= no_missing_df.drop(columns=['fnlwgt', 'education', 'workclass', 'income', 'marital_status', 'occupation', 'sex', 'relationship', 'native_country', 'race'])\n",
        "#neccessary_columns_df.columns"
      ],
      "execution_count": 121,
      "outputs": []
    },
    {
      "cell_type": "code",
      "metadata": {
        "id": "_9ll30yRV3Un",
        "colab_type": "code",
        "colab": {}
      },
      "source": [
        "#separate input and target\n",
        "input_df= neccessary_columns_df.drop('income_num', axis='columns')\n",
        "target_df= neccessary_columns_df['income_num']"
      ],
      "execution_count": 120,
      "outputs": []
    },
    {
      "cell_type": "markdown",
      "metadata": {
        "id": "KfL1kESlqi6M",
        "colab_type": "text"
      },
      "source": [
        "**Split data into Training and Testing**"
      ]
    },
    {
      "cell_type": "code",
      "metadata": {
        "id": "RtwlumtGaeU9",
        "colab_type": "code",
        "colab": {
          "base_uri": "https://localhost:8080/",
          "height": 52
        },
        "outputId": "4899529b-a7bd-4c38-ebe1-ba047f0b86bd"
      },
      "source": [
        "#Split data into Training and Testing dataframe\n",
        "from sklearn.model_selection import train_test_split\n",
        "X_train, X_test, y_train, y_test = train_test_split(input_df, target_df, test_size=0.3, random_state=0)\n",
        "print(\"Training Data:\", X_train.shape, y_train.shape)\n",
        "print(\"Testing Data :\", X_test.shape, y_test.shape)"
      ],
      "execution_count": 119,
      "outputs": [
        {
          "output_type": "stream",
          "text": [
            "Training Data: (21112, 12) (21112,)\n",
            "Testing Data : (9049, 12) (9049,)\n"
          ],
          "name": "stdout"
        }
      ]
    },
    {
      "cell_type": "markdown",
      "metadata": {
        "id": "bi3umnYaqVvJ",
        "colab_type": "text"
      },
      "source": [
        "# 2. Training Model using Decision Tree Classifier"
      ]
    },
    {
      "cell_type": "markdown",
      "metadata": {
        "id": "1o-xMU6zCfSM",
        "colab_type": "text"
      },
      "source": [
        "**Tuning Hyper-Parameter to find the best parameters**"
      ]
    },
    {
      "cell_type": "code",
      "metadata": {
        "id": "IkDGWAVadFwW",
        "colab_type": "code",
        "colab": {}
      },
      "source": [
        "from sklearn.model_selection import GridSearchCV\n",
        "def get_the_GridSearcCV(model, param_dist, X, y):\n",
        "  gs= GridSearchCV(model, param_dist)\n",
        "  gs.fit(X, y)\n",
        "  print('Tuning Hyper-Parameters:')\n",
        "  print('  - The best parameters: ', gs.best_params_)\n",
        "  print('  - The best score: ', gs.best_score_)\n",
        "  return gs"
      ],
      "execution_count": 124,
      "outputs": []
    },
    {
      "cell_type": "code",
      "metadata": {
        "id": "f7ZkARBlbWm_",
        "colab_type": "code",
        "colab": {
          "base_uri": "https://localhost:8080/",
          "height": 70
        },
        "outputId": "1185fd51-6b40-4a58-b44b-5f44b30e7d5a"
      },
      "source": [
        "#Tuning hyper-parameters by using GridSearchCV\n",
        "from sklearn.tree import DecisionTreeClassifier\n",
        "param_dist= {'criterion': ['gini','entropy'],\n",
        "             'max_depth': [1,2,3,4,5,6,7,8,9],\n",
        "             'min_samples_leaf': [2,3,4],\n",
        "             'min_samples_split': [4,5,6,7,8,9]\n",
        "             }\n",
        "gs= get_the_GridSearcCV(DecisionTreeClassifier(), param_dist,  input_df, target_df)"
      ],
      "execution_count": 203,
      "outputs": [
        {
          "output_type": "stream",
          "text": [
            "Tuning Hyper-Parameters:\n",
            "  - The best parameters:  {'criterion': 'gini', 'max_depth': 9, 'min_samples_leaf': 3, 'min_samples_split': 7}\n",
            "  - The best score:  0.8521602395929374\n"
          ],
          "name": "stdout"
        }
      ]
    },
    {
      "cell_type": "markdown",
      "metadata": {
        "id": "dtQQiPTABgLj",
        "colab_type": "text"
      },
      "source": [
        "**Apply the best parameters to train the model**\n",
        "*   The best parameters:  {**'criterion': 'gini', 'max_depth': 9, 'min_samples_leaf': 3, 'min_samples_split': 7**}\n",
        "*   The best score     :  0.8521602395929374\n"
      ]
    },
    {
      "cell_type": "code",
      "metadata": {
        "id": "otFRQ0H2Aa2Q",
        "colab_type": "code",
        "colab": {
          "base_uri": "https://localhost:8080/",
          "height": 34
        },
        "outputId": "9e5ccadf-64a9-4bcd-f1ff-c6c4c40b2bb7"
      },
      "source": [
        "best_clf= DecisionTreeClassifier(criterion= 'gini', max_depth=9, min_samples_leaf=3, min_samples_split=7)\n",
        "best_clf= best_clf.fit(X_train, y_train)\n",
        "score= best_clf.score(X_test, y_test)\n",
        "print(\"Test score: \", score)"
      ],
      "execution_count": 205,
      "outputs": [
        {
          "output_type": "stream",
          "text": [
            "Test score:  0.8468339042988176\n"
          ],
          "name": "stdout"
        }
      ]
    },
    {
      "cell_type": "markdown",
      "metadata": {
        "id": "U-1qhNWLDgzd",
        "colab_type": "text"
      },
      "source": [
        "**The confusion matrix**\n",
        "*   Apply the trained model to predict the Test set"
      ]
    },
    {
      "cell_type": "code",
      "metadata": {
        "id": "t_eMCIdIscX9",
        "colab_type": "code",
        "colab": {
          "base_uri": "https://localhost:8080/",
          "height": 124
        },
        "outputId": "4492d3a7-1dcd-442c-d543-0659ef82c75f"
      },
      "source": [
        "#predict Testing set\n",
        "y_predict= best_clf.predict(X_test)\n",
        "\n",
        "#Show confusion matrix\n",
        "from sklearn.metrics import confusion_matrix\n",
        "cm= confusion_matrix(y_test, y_predict)\n",
        "confusion_df= pd.DataFrame(cm)\n",
        "print(\"Confussion Matrix when apply the best model to the Test data\")\n",
        "confusion_df"
      ],
      "execution_count": 208,
      "outputs": [
        {
          "output_type": "stream",
          "text": [
            "Confussion Matrix when apply the best model to the Test data\n"
          ],
          "name": "stdout"
        },
        {
          "output_type": "execute_result",
          "data": {
            "text/html": [
              "<div>\n",
              "<style scoped>\n",
              "    .dataframe tbody tr th:only-of-type {\n",
              "        vertical-align: middle;\n",
              "    }\n",
              "\n",
              "    .dataframe tbody tr th {\n",
              "        vertical-align: top;\n",
              "    }\n",
              "\n",
              "    .dataframe thead th {\n",
              "        text-align: right;\n",
              "    }\n",
              "</style>\n",
              "<table border=\"1\" class=\"dataframe\">\n",
              "  <thead>\n",
              "    <tr style=\"text-align: right;\">\n",
              "      <th></th>\n",
              "      <th>0</th>\n",
              "      <th>1</th>\n",
              "    </tr>\n",
              "  </thead>\n",
              "  <tbody>\n",
              "    <tr>\n",
              "      <th>0</th>\n",
              "      <td>6490</td>\n",
              "      <td>380</td>\n",
              "    </tr>\n",
              "    <tr>\n",
              "      <th>1</th>\n",
              "      <td>1006</td>\n",
              "      <td>1173</td>\n",
              "    </tr>\n",
              "  </tbody>\n",
              "</table>\n",
              "</div>"
            ],
            "text/plain": [
              "      0     1\n",
              "0  6490   380\n",
              "1  1006  1173"
            ]
          },
          "metadata": {
            "tags": []
          },
          "execution_count": 208
        }
      ]
    },
    {
      "cell_type": "code",
      "metadata": {
        "id": "bn8EobuEYReP",
        "colab_type": "code",
        "colab": {
          "base_uri": "https://localhost:8080/",
          "height": 175
        },
        "outputId": "fb80e5c6-cddb-4756-d24d-4eca6a830128"
      },
      "source": [
        "\n",
        "# Compute precision, recall, F-measure and support\n",
        "from sklearn.metrics import classification_report\n",
        "print(classification_report(y_test, y_predict))"
      ],
      "execution_count": 210,
      "outputs": [
        {
          "output_type": "stream",
          "text": [
            "              precision    recall  f1-score   support\n",
            "\n",
            "           0       0.87      0.94      0.90      6870\n",
            "           1       0.76      0.54      0.63      2179\n",
            "\n",
            "    accuracy                           0.85      9049\n",
            "   macro avg       0.81      0.74      0.77      9049\n",
            "weighted avg       0.84      0.85      0.84      9049\n",
            "\n"
          ],
          "name": "stdout"
        }
      ]
    },
    {
      "cell_type": "markdown",
      "metadata": {
        "id": "dxhUNhOBEwKk",
        "colab_type": "text"
      },
      "source": [
        "# 3. Complexity Curve"
      ]
    },
    {
      "cell_type": "markdown",
      "metadata": {
        "id": "bL9wIVX1FFVg",
        "colab_type": "text"
      },
      "source": [
        "# 4. Learning Curve"
      ]
    },
    {
      "cell_type": "code",
      "metadata": {
        "id": "o1q5tS6_ORkK",
        "colab_type": "code",
        "colab": {}
      },
      "source": [
        "def show_learning_curve(train_scores_mean, train_scores_std, test_scores_mean, test_scores_std):\n",
        "  train_scores_mean= np.mean(train_scores, axis=1)\n",
        "  train_scores_std= np.std(train_scores, axis=1)\n",
        "  test_scores_mean= np.mean(test_scores, axis=1)\n",
        "  test_scores_std= np.std(test_scores, axis=1)\n",
        "\n",
        "  plt.plot(train_sizes, train_scores_mean, label= \"Training score\")\n",
        "  plt.plot(train_sizes, test_scores_mean, label=\"Cross-Validation score\")\n",
        "\n",
        "  plt.fill_between(train_sizes, train_scores_mean-train_scores_std, train_scores_mean+train_scores_std,color= '#DDDDDD')\n",
        "  plt.fill_between(train_sizes, test_scores_mean-test_scores_std, test_scores_mean+test_scores_std, color= '#DDDDDD')\n",
        "\n",
        "  plt.title(\"Learning Curve\")\n",
        "  plt.xlabel('Training Size')\n",
        "  plt.ylabel('Accuracy')\n",
        "  plt.legend(loc= 'best')"
      ],
      "execution_count": 161,
      "outputs": []
    },
    {
      "cell_type": "markdown",
      "metadata": {
        "id": "pS9rC0VcO-nP",
        "colab_type": "text"
      },
      "source": [
        "**The best model**\n",
        "\n",
        "*   Hyper-parameters= {**'criterion': 'gini', 'max_depth': 9, 'min_samples_leaf': 3, 'min_samples_split': 7**}\n",
        "\n"
      ]
    },
    {
      "cell_type": "code",
      "metadata": {
        "id": "_H6xb5TPHuJw",
        "colab_type": "code",
        "colab": {
          "base_uri": "https://localhost:8080/",
          "height": 418
        },
        "outputId": "a709ab2b-f8d8-4e56-b215-0b33c1b88d7e"
      },
      "source": [
        "from sklearn.model_selection import learning_curve\n",
        "train_sizes, train_scores, test_scores= learning_curve(best_clf, input_df, target_df, scoring='accuracy', train_sizes= np.linspace(0.01,1,50), verbose=1)\n",
        "show_learning_curve(train_scores_mean, train_scores_std, test_scores_mean, test_scores_std)"
      ],
      "execution_count": 209,
      "outputs": [
        {
          "output_type": "stream",
          "text": [
            "[learning_curve] Training set sizes: [  241   728  1216  1703  2191  2678  3166  3653  4141  4628  5116  5603\n",
            "  6091  6578  7066  7553  8041  8528  9015  9503  9990 10478 10965 11453\n",
            " 11940 12428 12915 13403 13890 14378 14865 15353 15840 16328 16815 17303\n",
            " 17790 18278 18765 19253 19740 20228 20715 21203 21690 22178 22665 23153\n",
            " 23640 24128]\n"
          ],
          "name": "stdout"
        },
        {
          "output_type": "stream",
          "text": [
            "[Parallel(n_jobs=1)]: Using backend SequentialBackend with 1 concurrent workers.\n",
            "[Parallel(n_jobs=1)]: Done 250 out of 250 | elapsed:    6.4s finished\n"
          ],
          "name": "stderr"
        },
        {
          "output_type": "display_data",
          "data": {
            "image/png": "[encoded data removed]",
            "text/plain": [
              "<Figure size 432x288 with 1 Axes>"
            ]
          },
          "metadata": {
            "tags": [],
            "needs_background": "light"
          }
        }
      ]
    },
    {
      "cell_type": "markdown",
      "metadata": {
        "id": "FoUnRuU_Q1KD",
        "colab_type": "text"
      },
      "source": [
        "**The other models**\n",
        "\n",
        "**1.**   Hyper-parameters= {**'criterion': 'gini', 'max_depth': 15**}\n",
        "\n"
      ]
    },
    {
      "cell_type": "code",
      "metadata": {
        "id": "aHxHsN4OREsh",
        "colab_type": "code",
        "colab": {
          "base_uri": "https://localhost:8080/",
          "height": 436
        },
        "outputId": "c60e5076-8c65-44d5-9626-4edb9618b158"
      },
      "source": [
        "second_clf= DecisionTreeClassifier(criterion= 'gini', max_depth=15)\n",
        "second_clf= second_clf.fit(X_train, y_train)\n",
        "score= second_clf.score(X_test, y_test)\n",
        "print(\"Test score: \", score)\n",
        "\n",
        "train_sizes, train_scores, test_scores= learning_curve(second_clf, input_df, target_df, scoring='accuracy', train_sizes= np.linspace(0.01,1,50), verbose=1)\n",
        "show_learning_curve(train_scores_mean, train_scores_std, test_scores_mean, test_scores_std)"
      ],
      "execution_count": 200,
      "outputs": [
        {
          "output_type": "stream",
          "text": [
            "Test score:  0.8373300917228423\n",
            "[learning_curve] Training set sizes: [  241   728  1216  1703  2191  2678  3166  3653  4141  4628  5116  5603\n",
            "  6091  6578  7066  7553  8041  8528  9015  9503  9990 10478 10965 11453\n",
            " 11940 12428 12915 13403 13890 14378 14865 15353 15840 16328 16815 17303\n",
            " 17790 18278 18765 19253 19740 20228 20715 21203 21690 22178 22665 23153\n",
            " 23640 24128]\n"
          ],
          "name": "stdout"
        },
        {
          "output_type": "stream",
          "text": [
            "[Parallel(n_jobs=1)]: Using backend SequentialBackend with 1 concurrent workers.\n",
            "[Parallel(n_jobs=1)]: Done 250 out of 250 | elapsed:    8.8s finished\n"
          ],
          "name": "stderr"
        },
        {
          "output_type": "display_data",
          "data": {
            "image/png": "[encoded data removed]",
            "text/plain": [
              "<Figure size 432x288 with 1 Axes>"
            ]
          },
          "metadata": {
            "tags": [],
            "needs_background": "light"
          }
        }
      ]
    },
    {
      "cell_type": "markdown",
      "metadata": {
        "id": "yvvUUDtdUuBW",
        "colab_type": "text"
      },
      "source": [
        "**2.**   Hyper-parameters= {**'criterion': 'entropy'**}"
      ]
    },
    {
      "cell_type": "code",
      "metadata": {
        "id": "xAK3EVaoU4J3",
        "colab_type": "code",
        "colab": {
          "base_uri": "https://localhost:8080/",
          "height": 436
        },
        "outputId": "bcbc77a7-d0a9-4091-d4a0-12f62c2c6edf"
      },
      "source": [
        "third_clf= DecisionTreeClassifier(criterion= 'entropy')\n",
        "third_clf= third_clf.fit(X_train, y_train)\n",
        "score= third_clf.score(X_test, y_test)\n",
        "print(\"Test score: \", score)\n",
        "\n",
        "train_sizes, train_scores, test_scores= learning_curve(third_clf, input_df, target_df, scoring='accuracy', train_sizes= np.linspace(0.01,1,50), verbose=1)\n",
        "show_learning_curve(train_scores_mean, train_scores_std, test_scores_mean, test_scores_std)"
      ],
      "execution_count": 204,
      "outputs": [
        {
          "output_type": "stream",
          "text": [
            "Test score:  0.8127969941429992\n",
            "[learning_curve] Training set sizes: [  241   728  1216  1703  2191  2678  3166  3653  4141  4628  5116  5603\n",
            "  6091  6578  7066  7553  8041  8528  9015  9503  9990 10478 10965 11453\n",
            " 11940 12428 12915 13403 13890 14378 14865 15353 15840 16328 16815 17303\n",
            " 17790 18278 18765 19253 19740 20228 20715 21203 21690 22178 22665 23153\n",
            " 23640 24128]\n"
          ],
          "name": "stdout"
        },
        {
          "output_type": "stream",
          "text": [
            "[Parallel(n_jobs=1)]: Using backend SequentialBackend with 1 concurrent workers.\n",
            "[Parallel(n_jobs=1)]: Done 250 out of 250 | elapsed:   11.0s finished\n"
          ],
          "name": "stderr"
        },
        {
          "output_type": "display_data",
          "data": {
            "image/png": "[encoded data removed]",
            "text/plain": [
              "<Figure size 432x288 with 1 Axes>"
            ]
          },
          "metadata": {
            "tags": [],
            "needs_background": "light"
          }
        }
      ]
    }
  ]
}