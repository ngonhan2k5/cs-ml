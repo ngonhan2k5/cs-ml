{
  "nbformat": 4,
  "nbformat_minor": 0,
  "metadata": {
    "colab": {
      "name": "DecisionTree.ipynb",
      "provenance": [],
      "collapsed_sections": [],
      "authorship_tag": "ABX9TyMV6asOFl+7eNhsgDG59pHI",
      "include_colab_link": true
    },
    "kernelspec": {
      "name": "python3",
      "display_name": "Python 3"
    },
    "accelerator": "GPU"
  },
  "cells": [
    {
      "cell_type": "markdown",
      "metadata": {
        "id": "view-in-github",
        "colab_type": "text"
      },
      "source": [
        "<a href=\"https://colab.research.google.com/github/ngonhan2k5/cs-ml/blob/master/proj1/DecisionTree.ipynb\" target=\"_parent\"><img src=\"https://colab.research.google.com/assets/colab-badge.svg\" alt=\"Open In Colab\"/></a>"
      ]
    },
    {
      "cell_type": "markdown",
      "metadata": {
        "id": "7ZryG3cuqsg3",
        "colab_type": "text"
      },
      "source": [
        "# 1. Prepare dataset\n",
        "Follow the steps:\n",
        "\n",
        "\n",
        "1.   Load data\n",
        "2.   Clean up data\n",
        "3.   LabelEncoder the categorical features to numeric\n",
        "4.   Remove the unneccessary features\n",
        "5.   Separate the data into input (X) and target (y)\n",
        "6.   Split the data (X,y) into Train set, Test set\n"
      ]
    },
    {
      "cell_type": "code",
      "metadata": {
        "id": "_BF8W7HnPeB3",
        "colab_type": "code",
        "colab": {}
      },
      "source": [
        "import pandas as pd\n",
        "import numpy as np\n",
        "import seaborn as sns\n",
        "import matplotlib.pyplot as plt\n",
        "\n",
        "from IPython.core.interactiveshell import InteractiveShell\n",
        "InteractiveShell.ast_node_interactivity = \"all\""
      ],
      "execution_count": 195,
      "outputs": []
    },
    {
      "cell_type": "markdown",
      "metadata": {
        "id": "Hn5Ri_Zp40sU",
        "colab_type": "text"
      },
      "source": [
        "**1.1. Load data**"
      ]
    },
    {
      "cell_type": "code",
      "metadata": {
        "id": "Oxk0skMHRTPe",
        "colab_type": "code",
        "colab": {
          "base_uri": "https://localhost:8080/",
          "height": 216
        },
        "outputId": "1074f4f0-48f2-45ec-e60b-22ec2f51df57"
      },
      "source": [
        "#load data\n",
        "df = pd.read_csv('https://archive.ics.uci.edu/ml/machine-learning-databases/adult/adult.data', skipinitialspace=True, na_values=\"?\")\n",
        "df.columns = ['age', 'workclass', 'fnlwgt', 'education', \n",
        "                     'education_num', 'marital_status', 'occupation', 'relationship', 'race', 'sex', \n",
        "                     'capital_gain', 'capital_loss', 'hours_per_week', 'native_country', 'income']\n",
        "#df.describe()\n",
        "df.sample(4)"
      ],
      "execution_count": 196,
      "outputs": [
        {
          "output_type": "execute_result",
          "data": {
            "text/html": [
              "<div>\n",
              "<style scoped>\n",
              "    .dataframe tbody tr th:only-of-type {\n",
              "        vertical-align: middle;\n",
              "    }\n",
              "\n",
              "    .dataframe tbody tr th {\n",
              "        vertical-align: top;\n",
              "    }\n",
              "\n",
              "    .dataframe thead th {\n",
              "        text-align: right;\n",
              "    }\n",
              "</style>\n",
              "<table border=\"1\" class=\"dataframe\">\n",
              "  <thead>\n",
              "    <tr style=\"text-align: right;\">\n",
              "      <th></th>\n",
              "      <th>age</th>\n",
              "      <th>workclass</th>\n",
              "      <th>fnlwgt</th>\n",
              "      <th>education</th>\n",
              "      <th>education_num</th>\n",
              "      <th>marital_status</th>\n",
              "      <th>occupation</th>\n",
              "      <th>relationship</th>\n",
              "      <th>race</th>\n",
              "      <th>sex</th>\n",
              "      <th>capital_gain</th>\n",
              "      <th>capital_loss</th>\n",
              "      <th>hours_per_week</th>\n",
              "      <th>native_country</th>\n",
              "      <th>income</th>\n",
              "    </tr>\n",
              "  </thead>\n",
              "  <tbody>\n",
              "    <tr>\n",
              "      <th>16971</th>\n",
              "      <td>34</td>\n",
              "      <td>State-gov</td>\n",
              "      <td>355700</td>\n",
              "      <td>HS-grad</td>\n",
              "      <td>9</td>\n",
              "      <td>Separated</td>\n",
              "      <td>Adm-clerical</td>\n",
              "      <td>Unmarried</td>\n",
              "      <td>White</td>\n",
              "      <td>Female</td>\n",
              "      <td>0</td>\n",
              "      <td>0</td>\n",
              "      <td>20</td>\n",
              "      <td>United-States</td>\n",
              "      <td>&lt;=50K</td>\n",
              "    </tr>\n",
              "    <tr>\n",
              "      <th>5222</th>\n",
              "      <td>61</td>\n",
              "      <td>Private</td>\n",
              "      <td>73809</td>\n",
              "      <td>Some-college</td>\n",
              "      <td>10</td>\n",
              "      <td>Divorced</td>\n",
              "      <td>Adm-clerical</td>\n",
              "      <td>Not-in-family</td>\n",
              "      <td>White</td>\n",
              "      <td>Female</td>\n",
              "      <td>0</td>\n",
              "      <td>0</td>\n",
              "      <td>40</td>\n",
              "      <td>United-States</td>\n",
              "      <td>&lt;=50K</td>\n",
              "    </tr>\n",
              "    <tr>\n",
              "      <th>31395</th>\n",
              "      <td>23</td>\n",
              "      <td>Private</td>\n",
              "      <td>118023</td>\n",
              "      <td>Some-college</td>\n",
              "      <td>10</td>\n",
              "      <td>Never-married</td>\n",
              "      <td>Exec-managerial</td>\n",
              "      <td>Not-in-family</td>\n",
              "      <td>White</td>\n",
              "      <td>Male</td>\n",
              "      <td>0</td>\n",
              "      <td>0</td>\n",
              "      <td>45</td>\n",
              "      <td>NaN</td>\n",
              "      <td>&lt;=50K</td>\n",
              "    </tr>\n",
              "    <tr>\n",
              "      <th>7791</th>\n",
              "      <td>37</td>\n",
              "      <td>Private</td>\n",
              "      <td>213008</td>\n",
              "      <td>Assoc-voc</td>\n",
              "      <td>11</td>\n",
              "      <td>Married-civ-spouse</td>\n",
              "      <td>Prof-specialty</td>\n",
              "      <td>Husband</td>\n",
              "      <td>White</td>\n",
              "      <td>Male</td>\n",
              "      <td>0</td>\n",
              "      <td>0</td>\n",
              "      <td>40</td>\n",
              "      <td>Japan</td>\n",
              "      <td>&lt;=50K</td>\n",
              "    </tr>\n",
              "  </tbody>\n",
              "</table>\n",
              "</div>"
            ],
            "text/plain": [
              "       age  workclass  fnlwgt  ... hours_per_week  native_country income\n",
              "16971   34  State-gov  355700  ...             20   United-States  <=50K\n",
              "5222    61    Private   73809  ...             40   United-States  <=50K\n",
              "31395   23    Private  118023  ...             45             NaN  <=50K\n",
              "7791    37    Private  213008  ...             40           Japan  <=50K\n",
              "\n",
              "[4 rows x 15 columns]"
            ]
          },
          "metadata": {
            "tags": []
          },
          "execution_count": 196
        }
      ]
    },
    {
      "cell_type": "markdown",
      "metadata": {
        "id": "tVD8rfxJ4r7V",
        "colab_type": "text"
      },
      "source": [
        "**1.2 Clean up data**\n",
        "\n",
        "As analyzed in the EDA, I remove the records missing values"
      ]
    },
    {
      "cell_type": "code",
      "metadata": {
        "id": "tkIZeEzURxD-",
        "colab_type": "code",
        "colab": {
          "base_uri": "https://localhost:8080/",
          "height": 34
        },
        "outputId": "78764e62-fb9c-4ba3-cb37-005d8fd32041"
      },
      "source": [
        "#remove records missing values\n",
        "no_missing_df= df.drop(df[df.native_country.isnull()].index)\n",
        "no_missing_df= no_missing_df.drop(no_missing_df[no_missing_df.workclass.isnull()].index)\n",
        "no_missing_df= no_missing_df.drop(no_missing_df[no_missing_df.occupation.isnull()].index)\n",
        "no_missing_df.isnull().sum().max() #just checking that there's no missing data missing..."
      ],
      "execution_count": 197,
      "outputs": [
        {
          "output_type": "execute_result",
          "data": {
            "text/plain": [
              "0"
            ]
          },
          "metadata": {
            "tags": []
          },
          "execution_count": 197
        }
      ]
    },
    {
      "cell_type": "markdown",
      "metadata": {
        "id": "YGW5dZiojXz3",
        "colab_type": "text"
      },
      "source": [
        "**1.3. LabelEncoder the categorical features to numeric**\n",
        "\n",
        "Decision Tree requires numeric features. So, I transform the categorical features into numeric by using LabelEncoder"
      ]
    },
    {
      "cell_type": "code",
      "metadata": {
        "id": "1fjvntRCzHCk",
        "colab_type": "code",
        "colab": {}
      },
      "source": [
        "#LabelEncoder\n",
        "from sklearn.preprocessing import LabelEncoder\n",
        "le= LabelEncoder()\n",
        "no_missing_df['workclass_num']= le.fit_transform(no_missing_df['workclass'])\n",
        "no_missing_df['marital_status_num']= le.fit_transform(no_missing_df['marital_status'])\n",
        "no_missing_df['occupation_num']= le.fit_transform(no_missing_df['occupation'])\n",
        "no_missing_df['relationship_num']= le.fit_transform(no_missing_df['relationship'])\n",
        "no_missing_df['race_num']= le.fit_transform(no_missing_df['race'])\n",
        "no_missing_df['sex_num']= le.fit_transform(no_missing_df['sex'])\n",
        "no_missing_df['native_country_num']= le.fit_transform(no_missing_df['native_country'])\n",
        "no_missing_df['income_num']= le.fit_transform(no_missing_df['income'])\n",
        "\n",
        "#.columns"
      ],
      "execution_count": 198,
      "outputs": []
    },
    {
      "cell_type": "markdown",
      "metadata": {
        "id": "bbpNXisokTOl",
        "colab_type": "text"
      },
      "source": [
        "**1.4. Remove the unneccessary features**\n",
        "\n",
        "*   Remove the categorical features because they are represented by the numeric ones\n",
        "*   Remove the unrelated features indicated in the EDA\n",
        "\n"
      ]
    },
    {
      "cell_type": "code",
      "metadata": {
        "id": "A3LI20k6XNZv",
        "colab_type": "code",
        "colab": {}
      },
      "source": [
        "#remove the unnecessary features\n",
        "neccessary_columns_df= no_missing_df.drop(columns=['fnlwgt', 'education', 'workclass', 'income', 'marital_status', 'occupation', 'sex', 'relationship', 'native_country', 'race'])\n",
        "#neccessary_columns_df.columns"
      ],
      "execution_count": 199,
      "outputs": []
    },
    {
      "cell_type": "markdown",
      "metadata": {
        "id": "UYd_D7Bni0GE",
        "colab_type": "text"
      },
      "source": [
        "**1.5. Separate the data into input (X) and target (y)**"
      ]
    },
    {
      "cell_type": "code",
      "metadata": {
        "id": "_9ll30yRV3Un",
        "colab_type": "code",
        "colab": {}
      },
      "source": [
        "#separate input and target\n",
        "X= neccessary_columns_df.drop('income_num', axis='columns')\n",
        "y= neccessary_columns_df['income_num']"
      ],
      "execution_count": 200,
      "outputs": []
    },
    {
      "cell_type": "markdown",
      "metadata": {
        "id": "KfL1kESlqi6M",
        "colab_type": "text"
      },
      "source": [
        "**1.6. Split the data (X,y) into Train set, Test set**\n",
        "\n",
        "Shuffle then split the data"
      ]
    },
    {
      "cell_type": "code",
      "metadata": {
        "id": "RtwlumtGaeU9",
        "colab_type": "code",
        "colab": {
          "base_uri": "https://localhost:8080/",
          "height": 70
        },
        "outputId": "60e02e72-5465-4abe-a2cd-b1383aa47cf5"
      },
      "source": [
        "#Shuffle and Split data into Training, Testing dataframe\n",
        "from sklearn.model_selection import train_test_split\n",
        "X_train, X_test, y_train, y_test = train_test_split(X, y, shuffle=True, test_size=0.2, random_state=1)\n",
        "print(\"Training Data:\", X_train.shape, y_train.shape)\n",
        "print(\"Testing Data :\", X_test.shape, y_test.shape)\n",
        "print('Train: {}% | Test {}%'.format(round(len(y_train)/len(y),2), round(len(y_test)/len(y),2)))"
      ],
      "execution_count": 201,
      "outputs": [
        {
          "output_type": "stream",
          "text": [
            "Training Data: (24128, 12) (24128,)\n",
            "Testing Data : (6033, 12) (6033,)\n",
            "Train: 0.8% | Test 0.2%\n"
          ],
          "name": "stdout"
        }
      ]
    },
    {
      "cell_type": "markdown",
      "metadata": {
        "id": "bi3umnYaqVvJ",
        "colab_type": "text"
      },
      "source": [
        "# 2. Training Model (Decision Tree Classifier)\n",
        "\n",
        "Follow 2 steps to train the model\n",
        "1.   Tune hyper-parameters to find the ones can build the best model\n",
        "2.   Apply the best ones to train the Decision Tree Classifier model\n",
        "\n",
        "Then I show the Confusion matrix, Precision, Recall and F1-score\n",
        "\n"
      ]
    },
    {
      "cell_type": "markdown",
      "metadata": {
        "id": "1o-xMU6zCfSM",
        "colab_type": "text"
      },
      "source": [
        "**2.1. Tuning Hyper-Parameters to find the best ones**\n",
        "\n",
        "Use **GridSearchCV** for tuning"
      ]
    },
    {
      "cell_type": "code",
      "metadata": {
        "id": "IkDGWAVadFwW",
        "colab_type": "code",
        "colab": {}
      },
      "source": [
        "from sklearn.model_selection import GridSearchCV\n",
        "def get_the_GridSearcCV(model, param_dist, X, y):\n",
        "  gs= GridSearchCV(model, param_dist)\n",
        "  gs.fit(X, y)\n",
        "  print('Tuning Hyper-Parameters:')\n",
        "  print('  - The best parameters: ', gs.best_params_)\n",
        "  print('  - The best score: ', gs.best_score_)\n",
        "  return gs"
      ],
      "execution_count": 202,
      "outputs": []
    },
    {
      "cell_type": "code",
      "metadata": {
        "id": "f7ZkARBlbWm_",
        "colab_type": "code",
        "colab": {
          "base_uri": "https://localhost:8080/",
          "height": 70
        },
        "outputId": "34463e94-7b30-4ceb-fe13-6a598d77d364"
      },
      "source": [
        "#Tuning hyper-parameters by using GridSearchCV\n",
        "from sklearn.tree import DecisionTreeClassifier\n",
        "param_dist= {'criterion': ['gini','entropy'],\n",
        "             'max_depth': [3,4,5,6,7,8,9],\n",
        "             'min_samples_leaf': [2,3,4,5,],\n",
        "             'min_samples_split': [4,5,6,7,8,9]\n",
        "             }\n",
        "gs= get_the_GridSearcCV(DecisionTreeClassifier(), param_dist,  X, y)"
      ],
      "execution_count": 204,
      "outputs": [
        {
          "output_type": "stream",
          "text": [
            "Tuning Hyper-Parameters:\n",
            "  - The best parameters:  {'criterion': 'gini', 'max_depth': 9, 'min_samples_leaf': 3, 'min_samples_split': 8}\n",
            "  - The best score:  0.8521602505846492\n"
          ],
          "name": "stdout"
        }
      ]
    },
    {
      "cell_type": "markdown",
      "metadata": {
        "id": "dtQQiPTABgLj",
        "colab_type": "text"
      },
      "source": [
        "**2.2. Apply the best hyper-parameters to train the model**\n",
        "\n",
        "The best hyper-parameters:  {**'criterion': 'gini', 'max_depth': 9, 'min_samples_leaf': 3, 'min_samples_split': 8**}\n"
      ]
    },
    {
      "cell_type": "code",
      "metadata": {
        "id": "otFRQ0H2Aa2Q",
        "colab_type": "code",
        "colab": {
          "base_uri": "https://localhost:8080/",
          "height": 34
        },
        "outputId": "29eb1804-8b49-482c-fe0e-e92f050c63c8"
      },
      "source": [
        "best_clf= DecisionTreeClassifier(criterion= 'gini', max_depth=9, min_samples_leaf=3, min_samples_split=8)\n",
        "best_clf= best_clf.fit(X_train, y_train)\n",
        "score= best_clf.score(X_test, y_test)\n",
        "print(\"Test score: \", score)"
      ],
      "execution_count": 205,
      "outputs": [
        {
          "output_type": "stream",
          "text": [
            "Test score:  0.8488314271506713\n"
          ],
          "name": "stdout"
        }
      ]
    },
    {
      "cell_type": "markdown",
      "metadata": {
        "id": "U-1qhNWLDgzd",
        "colab_type": "text"
      },
      "source": [
        "**2.3. The confusion matrix**\n",
        "\n",
        "Apply the trained model to predict the Test set"
      ]
    },
    {
      "cell_type": "code",
      "metadata": {
        "id": "t_eMCIdIscX9",
        "colab_type": "code",
        "colab": {
          "base_uri": "https://localhost:8080/",
          "height": 124
        },
        "outputId": "3185ec44-3041-4c6b-babf-47eb94e98fdc"
      },
      "source": [
        "#predict Testing set\n",
        "y_predict= best_clf.predict(X_test)\n",
        "\n",
        "#Show confusion matrix\n",
        "from sklearn.metrics import confusion_matrix\n",
        "cm= confusion_matrix(y_test, y_predict)\n",
        "confusion_df= pd.DataFrame(cm)\n",
        "print(\"Confussion Matrix when apply the best model to the Test data\")\n",
        "confusion_df"
      ],
      "execution_count": 206,
      "outputs": [
        {
          "output_type": "stream",
          "text": [
            "Confussion Matrix when apply the best model to the Test data\n"
          ],
          "name": "stdout"
        },
        {
          "output_type": "execute_result",
          "data": {
            "text/html": [
              "<div>\n",
              "<style scoped>\n",
              "    .dataframe tbody tr th:only-of-type {\n",
              "        vertical-align: middle;\n",
              "    }\n",
              "\n",
              "    .dataframe tbody tr th {\n",
              "        vertical-align: top;\n",
              "    }\n",
              "\n",
              "    .dataframe thead th {\n",
              "        text-align: right;\n",
              "    }\n",
              "</style>\n",
              "<table border=\"1\" class=\"dataframe\">\n",
              "  <thead>\n",
              "    <tr style=\"text-align: right;\">\n",
              "      <th></th>\n",
              "      <th>0</th>\n",
              "      <th>1</th>\n",
              "    </tr>\n",
              "  </thead>\n",
              "  <tbody>\n",
              "    <tr>\n",
              "      <th>0</th>\n",
              "      <td>4329</td>\n",
              "      <td>182</td>\n",
              "    </tr>\n",
              "    <tr>\n",
              "      <th>1</th>\n",
              "      <td>730</td>\n",
              "      <td>792</td>\n",
              "    </tr>\n",
              "  </tbody>\n",
              "</table>\n",
              "</div>"
            ],
            "text/plain": [
              "      0    1\n",
              "0  4329  182\n",
              "1   730  792"
            ]
          },
          "metadata": {
            "tags": []
          },
          "execution_count": 206
        }
      ]
    },
    {
      "cell_type": "markdown",
      "metadata": {
        "id": "TbN_Gav43k_c",
        "colab_type": "text"
      },
      "source": [
        "**2.4. Precision, Recall, F1-score**"
      ]
    },
    {
      "cell_type": "code",
      "metadata": {
        "id": "bn8EobuEYReP",
        "colab_type": "code",
        "colab": {
          "base_uri": "https://localhost:8080/",
          "height": 175
        },
        "outputId": "97f7f480-2577-4567-f6e3-36111b55453d"
      },
      "source": [
        "# Precision, Recall, F1-score\n",
        "from sklearn.metrics import classification_report\n",
        "print(classification_report(y_test, y_predict))"
      ],
      "execution_count": 207,
      "outputs": [
        {
          "output_type": "stream",
          "text": [
            "              precision    recall  f1-score   support\n",
            "\n",
            "           0       0.86      0.96      0.90      4511\n",
            "           1       0.81      0.52      0.63      1522\n",
            "\n",
            "    accuracy                           0.85      6033\n",
            "   macro avg       0.83      0.74      0.77      6033\n",
            "weighted avg       0.84      0.85      0.84      6033\n",
            "\n"
          ],
          "name": "stdout"
        }
      ]
    },
    {
      "cell_type": "markdown",
      "metadata": {
        "id": "dxhUNhOBEwKk",
        "colab_type": "text"
      },
      "source": [
        "# 3. Learning Curve and Validation Curve\n",
        "\n",
        "Try 3 models with different hyper-parameters and show the Learning Curve and Validation Curve for each model.\n"
      ]
    },
    {
      "cell_type": "code",
      "metadata": {
        "id": "o1q5tS6_ORkK",
        "colab_type": "code",
        "colab": {}
      },
      "source": [
        "def show_curve(train_scores, test_scores, x_axis_range, title, xlabel):\n",
        "  train_scores_mean= np.mean(train_scores, axis=1)\n",
        "  train_scores_std= np.std(train_scores, axis=1)\n",
        "  test_scores_mean= np.mean(test_scores, axis=1)\n",
        "  test_scores_std= np.std(test_scores, axis=1)  \n",
        "  \n",
        "  plt.figure()\n",
        "  plt.plot(x_axis_range, train_scores_mean, marker='o', label= \"Training score\")\n",
        "  plt.plot(x_axis_range, test_scores_mean, marker='o', label=\"Cross-Validation score\")\n",
        "\n",
        "  plt.fill_between(x_axis_range, train_scores_mean-train_scores_std, train_scores_mean+train_scores_std,color= '#33F4FF',alpha=0.5)\n",
        "  plt.fill_between(x_axis_range, test_scores_mean-test_scores_std, test_scores_mean+test_scores_std, color= '#DDDDDD',alpha=0.5)\n",
        "\n",
        "  plt.title(title)\n",
        "  plt.xlabel(xlabel)\n",
        "  plt.ylabel('Score')\n",
        "  plt.legend(loc= 'best')"
      ],
      "execution_count": 208,
      "outputs": []
    },
    {
      "cell_type": "markdown",
      "metadata": {
        "id": "myZPuqV9RClp",
        "colab_type": "text"
      },
      "source": [
        "**Settings**"
      ]
    },
    {
      "cell_type": "code",
      "metadata": {
        "id": "JKHxXoKVyKGz",
        "colab_type": "code",
        "colab": {}
      },
      "source": [
        "from sklearn.model_selection import learning_curve\n",
        "train_sizes= np.linspace(0.01,1,10)\n",
        "scoring= \"accuracy\"\n",
        "\n",
        "from sklearn.model_selection import validation_curve\n",
        "param_name= 'max_depth'\n",
        "param_range = np.linspace(1,12,12)"
      ],
      "execution_count": 209,
      "outputs": []
    },
    {
      "cell_type": "markdown",
      "metadata": {
        "id": "JSPukkBYujdt",
        "colab_type": "text"
      },
      "source": [
        "**1. The best model**\n",
        "\n",
        "Hyper-parameters= {**'criterion': 'gini', 'max_depth': 9, 'min_samples_leaf': 3, 'min_samples_split': 8**}"
      ]
    },
    {
      "cell_type": "code",
      "metadata": {
        "id": "8riYU2ru4LMk",
        "colab_type": "code",
        "colab": {
          "base_uri": "https://localhost:8080/",
          "height": 34
        },
        "outputId": "7482d7a2-8ec3-4ae1-d511-3a42c8386ce5"
      },
      "source": [
        "score= best_clf.score(X_test, y_test)\n",
        "print(\"Test score: \", score)"
      ],
      "execution_count": 210,
      "outputs": [
        {
          "output_type": "stream",
          "text": [
            "Test score:  0.8488314271506713\n"
          ],
          "name": "stdout"
        }
      ]
    },
    {
      "cell_type": "markdown",
      "metadata": {
        "id": "tVMLh2vdZ9On",
        "colab_type": "text"
      },
      "source": [
        "***1.1. Learning curve***"
      ]
    },
    {
      "cell_type": "code",
      "metadata": {
        "id": "1bWR2UkwvDX1",
        "colab_type": "code",
        "colab": {
          "base_uri": "https://localhost:8080/",
          "height": 295
        },
        "outputId": "0148f24f-8d27-4135-d2ca-9b7bac66c09a"
      },
      "source": [
        "train_sizes, train_scores, test_scores= learning_curve(best_clf, X_train, y_train, scoring=scoring, train_sizes= train_sizes)\n",
        "show_curve(train_scores, test_scores, train_sizes, 'Learning Curve', 'Training Size')"
      ],
      "execution_count": 211,
      "outputs": [
        {
          "output_type": "display_data",
          "data": {
            "image/png": "[encoded data removed]",
            "text/plain": [
              "<Figure size 432x288 with 1 Axes>"
            ]
          },
          "metadata": {
            "tags": [],
            "needs_background": "light"
          }
        }
      ]
    },
    {
      "cell_type": "markdown",
      "metadata": {
        "id": "MEmyVV_3W2kB",
        "colab_type": "text"
      },
      "source": [
        "The y-axis is '**score**', so the higher the score, the better the performance of the model.\n",
        "\n",
        "\n",
        "*   Training score decreases gradually then be stable.\n",
        "*   Cross-validation scoare increases gradually then be stable.\n",
        "*   The curves are converge to around 0.85.\n",
        "\n",
        "So, adding more data for training can't help the model better\n"
      ]
    },
    {
      "cell_type": "markdown",
      "metadata": {
        "id": "Pa0Ai_F7aDjD",
        "colab_type": "text"
      },
      "source": [
        "***1.2. Validation curve***"
      ]
    },
    {
      "cell_type": "code",
      "metadata": {
        "id": "yaMEW47NdYtS",
        "colab_type": "code",
        "colab": {
          "base_uri": "https://localhost:8080/",
          "height": 296
        },
        "outputId": "3d3151d9-351f-49e5-e116-fa059ab59255"
      },
      "source": [
        "train_scores, test_scores= validation_curve(best_clf, X_train, y_train, param_name=param_name, param_range=param_range, scoring= scoring, error_score= 'raise' )\n",
        "show_curve(train_scores, test_scores, param_range, 'Validation Curve', param_name)"
      ],
      "execution_count": 212,
      "outputs": [
        {
          "output_type": "display_data",
          "data": {
            "image/png": "[encoded data removed]",
            "text/plain": [
              "<Figure size 432x288 with 1 Axes>"
            ]
          },
          "metadata": {
            "tags": [],
            "needs_background": "light"
          }
        }
      ]
    },
    {
      "cell_type": "markdown",
      "metadata": {
        "id": "03sbdliyfATw",
        "colab_type": "text"
      },
      "source": [
        "- max_depth > 9: the model is overfitting \n",
        "- max_depth = 9: can get the best validation score"
      ]
    },
    {
      "cell_type": "markdown",
      "metadata": {
        "id": "yYaQHWSuupIU",
        "colab_type": "text"
      },
      "source": [
        "**2. The second model**\n",
        "\n",
        "Hyper-parameters= {**'criterion': 'gini', 'max_depth': 100**}"
      ]
    },
    {
      "cell_type": "code",
      "metadata": {
        "id": "iWhsAVjXvNmM",
        "colab_type": "code",
        "colab": {
          "base_uri": "https://localhost:8080/",
          "height": 34
        },
        "outputId": "2a33dafe-cf37-4c28-9cdf-a4dd90be68f1"
      },
      "source": [
        "second_clf= DecisionTreeClassifier(criterion= 'gini', max_depth=100)\n",
        "second_clf= second_clf.fit(X_train, y_train)\n",
        "score= second_clf.score(X_test, y_test)\n",
        "print(\"Test score: \", score)"
      ],
      "execution_count": 213,
      "outputs": [
        {
          "output_type": "stream",
          "text": [
            "Test score:  0.8039118183325046\n"
          ],
          "name": "stdout"
        }
      ]
    },
    {
      "cell_type": "markdown",
      "metadata": {
        "id": "i1qx4HhLaHX_",
        "colab_type": "text"
      },
      "source": [
        "***2.1. Learning curve***"
      ]
    },
    {
      "cell_type": "code",
      "metadata": {
        "id": "E3WSG9PqvVJH",
        "colab_type": "code",
        "colab": {
          "base_uri": "https://localhost:8080/",
          "height": 348
        },
        "outputId": "52beb878-4de7-4956-f688-e75bd8cf3a88"
      },
      "source": [
        "train_sizes, train_scores, test_scores= learning_curve(second_clf, X_train, y_train, scoring=scoring, train_sizes= train_sizes, verbose=1)\n",
        "show_curve(train_scores, test_scores, train_sizes, 'Learning Curve', 'Training Size')"
      ],
      "execution_count": 214,
      "outputs": [
        {
          "output_type": "stream",
          "text": [
            "[learning_curve] Training set sizes: [  193  2316  4439  6562  8685 10809 12932 15055 17178 19302]\n"
          ],
          "name": "stdout"
        },
        {
          "output_type": "stream",
          "text": [
            "[Parallel(n_jobs=1)]: Using backend SequentialBackend with 1 concurrent workers.\n",
            "[Parallel(n_jobs=1)]: Done  50 out of  50 | elapsed:    1.9s finished\n"
          ],
          "name": "stderr"
        },
        {
          "output_type": "display_data",
          "data": {
            "image/png": "[encoded data removed]",
            "text/plain": [
              "<Figure size 432x288 with 1 Axes>"
            ]
          },
          "metadata": {
            "tags": [],
            "needs_background": "light"
          }
        }
      ]
    },
    {
      "cell_type": "markdown",
      "metadata": {
        "id": "Y4nmjAlsazCQ",
        "colab_type": "text"
      },
      "source": [
        "The y-axis is '**score**', so the higher the score, the better the performance of the model.\n",
        "\n",
        "\n",
        "*   Training score is so high.\n",
        "*   Cross-validation score is slow\n",
        "\n",
        "The model is overfitting, so increasing the training data size can't improve the model. So, tuning hyper-parameters can get it better.\n"
      ]
    },
    {
      "cell_type": "markdown",
      "metadata": {
        "id": "0kYVs4exaJza",
        "colab_type": "text"
      },
      "source": [
        "***2.2. Validation curve***"
      ]
    },
    {
      "cell_type": "code",
      "metadata": {
        "id": "H9buZmq2tFtT",
        "colab_type": "code",
        "colab": {
          "base_uri": "https://localhost:8080/",
          "height": 296
        },
        "outputId": "823709fd-1e6d-4040-e6bc-ec4078369410"
      },
      "source": [
        "train_scores, test_scores= validation_curve(second_clf, X_train, y_train, param_name=param_name, param_range=param_range, scoring= scoring, error_score= 'raise' )\n",
        "show_curve(train_scores, test_scores, param_range, 'Validation Curve', param_name)"
      ],
      "execution_count": 215,
      "outputs": [
        {
          "output_type": "display_data",
          "data": {
            "image/png": "[encoded data removed]",
            "text/plain": [
              "<Figure size 432x288 with 1 Axes>"
            ]
          },
          "metadata": {
            "tags": [],
            "needs_background": "light"
          }
        }
      ]
    },
    {
      "cell_type": "markdown",
      "metadata": {
        "id": "A0D1piQngQem",
        "colab_type": "text"
      },
      "source": [
        "- max_depth > 9: the model is overfitting \n",
        "- max_depth = 9: can get the best validation score"
      ]
    },
    {
      "cell_type": "markdown",
      "metadata": {
        "id": "mXr6ww8uuxXr",
        "colab_type": "text"
      },
      "source": [
        "**3. The third model**\n",
        "\n",
        "Hyper-parameters= {**'criterion': 'entropy'**}"
      ]
    },
    {
      "cell_type": "code",
      "metadata": {
        "id": "QEckJy9xvl19",
        "colab_type": "code",
        "colab": {
          "base_uri": "https://localhost:8080/",
          "height": 34
        },
        "outputId": "0a2e405f-5c20-49ef-aed8-85c3628be546"
      },
      "source": [
        "third_clf= DecisionTreeClassifier(criterion= 'entropy')\n",
        "third_clf= third_clf.fit(X_train, y_train)\n",
        "score= third_clf.score(X_test, y_test)\n",
        "print(\"Test score: \", score)"
      ],
      "execution_count": 216,
      "outputs": [
        {
          "output_type": "stream",
          "text": [
            "Test score:  0.8067296535720205\n"
          ],
          "name": "stdout"
        }
      ]
    },
    {
      "cell_type": "markdown",
      "metadata": {
        "id": "iKw9OG75aOJt",
        "colab_type": "text"
      },
      "source": [
        "***3.1. Learning curve***"
      ]
    },
    {
      "cell_type": "code",
      "metadata": {
        "id": "xAK3EVaoU4J3",
        "colab_type": "code",
        "colab": {
          "base_uri": "https://localhost:8080/",
          "height": 348
        },
        "outputId": "fb662e7c-7eae-4c72-cad6-b6140d6b3d07"
      },
      "source": [
        "train_sizes, train_scores, test_scores= learning_curve(third_clf, X_train, y_train, scoring=scoring, train_sizes= train_sizes, verbose=1)\n",
        "show_curve(train_scores, test_scores, train_sizes, 'Learning Curve', 'Training Size')"
      ],
      "execution_count": 217,
      "outputs": [
        {
          "output_type": "stream",
          "text": [
            "[learning_curve] Training set sizes: [  193  2316  4439  6562  8685 10809 12932 15055 17178 19302]\n"
          ],
          "name": "stdout"
        },
        {
          "output_type": "stream",
          "text": [
            "[Parallel(n_jobs=1)]: Using backend SequentialBackend with 1 concurrent workers.\n",
            "[Parallel(n_jobs=1)]: Done  50 out of  50 | elapsed:    2.1s finished\n"
          ],
          "name": "stderr"
        },
        {
          "output_type": "display_data",
          "data": {
            "image/png": "[encoded data removed]",
            "text/plain": [
              "<Figure size 432x288 with 1 Axes>"
            ]
          },
          "metadata": {
            "tags": [],
            "needs_background": "light"
          }
        }
      ]
    },
    {
      "cell_type": "markdown",
      "metadata": {
        "id": "TYhqgYNbbW1B",
        "colab_type": "text"
      },
      "source": [
        "The y-axis is '**score**', so the higher the score, the better the performance of the model.\n",
        "\n",
        "- Training score is so high.\n",
        "- Cross-validation score is slow\n",
        "\n",
        "The model is overfitting, so increasing the training data size can't improve the model. So, tuning hyper-parameters can get it better."
      ]
    },
    {
      "cell_type": "markdown",
      "metadata": {
        "id": "z-nTFZddaQmf",
        "colab_type": "text"
      },
      "source": [
        "***3.2. Validation curve***"
      ]
    },
    {
      "cell_type": "code",
      "metadata": {
        "id": "tnsA5o7-wPXN",
        "colab_type": "code",
        "colab": {
          "base_uri": "https://localhost:8080/",
          "height": 296
        },
        "outputId": "849470e5-a1ce-46ae-d0f5-64f209304a31"
      },
      "source": [
        "train_scores, test_scores= validation_curve(third_clf, X_train, y_train, param_name=param_name, param_range=param_range, scoring=scoring)\n",
        "show_curve(train_scores, test_scores, param_range, 'Validation Curve', param_name)"
      ],
      "execution_count": 218,
      "outputs": [
        {
          "output_type": "display_data",
          "data": {
            "image/png": "[encoded data removed]",
            "text/plain": [
              "<Figure size 432x288 with 1 Axes>"
            ]
          },
          "metadata": {
            "tags": [],
            "needs_background": "light"
          }
        }
      ]
    },
    {
      "cell_type": "markdown",
      "metadata": {
        "id": "GtcbKEvBge72",
        "colab_type": "text"
      },
      "source": [
        "- max_depth > 9: the model is overfitting \n",
        "- max_depth = 9: can get the best validation score"
      ]
    }
  ]
}