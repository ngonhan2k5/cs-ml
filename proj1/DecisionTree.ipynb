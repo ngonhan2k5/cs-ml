{
  "nbformat": 4,
  "nbformat_minor": 0,
  "metadata": {
    "colab": {
      "name": "DecisionTree.ipynb",
      "provenance": [],
      "collapsed_sections": [
        "7ZryG3cuqsg3"
      ],
      "authorship_tag": "ABX9TyOW4o98azaGGSWNM+1F/fmX",
      "include_colab_link": true
    },
    "kernelspec": {
      "name": "python3",
      "display_name": "Python 3"
    },
    "accelerator": "GPU"
  },
  "cells": [
    {
      "cell_type": "markdown",
      "metadata": {
        "id": "view-in-github",
        "colab_type": "text"
      },
      "source": [
        "<a href=\"https://colab.research.google.com/github/ngonhan2k5/cs-ml/blob/master/proj1/DecisionTree.ipynb\" target=\"_parent\"><img src=\"https://colab.research.google.com/assets/colab-badge.svg\" alt=\"Open In Colab\"/></a>"
      ]
    },
    {
      "cell_type": "markdown",
      "metadata": {
        "id": "7ZryG3cuqsg3",
        "colab_type": "text"
      },
      "source": [
        "# 1. Prepare dataset\n",
        "Follow the steps:\n",
        "\n",
        "\n",
        "1.   Load data\n",
        "2.   Clean up data\n",
        "3.   LabelEncoder the categorical features to numeric\n",
        "4.   Remove the unneccessary features\n",
        "5.   Separate the data into input (X) and target (y)\n",
        "6.   Split the data (X,y) into Train set, Test set\n"
      ]
    },
    {
      "cell_type": "code",
      "metadata": {
        "id": "_BF8W7HnPeB3",
        "colab_type": "code",
        "colab": {}
      },
      "source": [
        "import pandas as pd\n",
        "import numpy as np\n",
        "import matplotlib.pyplot as plt\n",
        "import seaborn as sns\n",
        "\n",
        "from IPython.core.interactiveshell import InteractiveShell\n",
        "InteractiveShell.ast_node_interactivity = \"all\""
      ],
      "execution_count": 18,
      "outputs": []
    },
    {
      "cell_type": "markdown",
      "metadata": {
        "id": "Hn5Ri_Zp40sU",
        "colab_type": "text"
      },
      "source": [
        "**1.1. Load data**"
      ]
    },
    {
      "cell_type": "code",
      "metadata": {
        "id": "Oxk0skMHRTPe",
        "colab_type": "code",
        "colab": {
          "base_uri": "https://localhost:8080/",
          "height": 164
        },
        "outputId": "1fd781d3-23f1-478e-ffb7-052001a2c461"
      },
      "source": [
        "#load data\n",
        "df = pd.read_csv('https://archive.ics.uci.edu/ml/machine-learning-databases/adult/adult.data', skipinitialspace=True, na_values=\"?\")\n",
        "df.columns = ['age', 'workclass', 'fnlwgt', 'education', \n",
        "                     'education_num', 'marital_status', 'occupation', 'relationship', 'race', 'sex', \n",
        "                     'capital_gain', 'capital_loss', 'hours_per_week', 'native_country', 'income']\n",
        "#df.describe()\n",
        "df.sample(4)"
      ],
      "execution_count": 19,
      "outputs": [
        {
          "output_type": "execute_result",
          "data": {
            "text/html": [
              "<div>\n",
              "<style scoped>\n",
              "    .dataframe tbody tr th:only-of-type {\n",
              "        vertical-align: middle;\n",
              "    }\n",
              "\n",
              "    .dataframe tbody tr th {\n",
              "        vertical-align: top;\n",
              "    }\n",
              "\n",
              "    .dataframe thead th {\n",
              "        text-align: right;\n",
              "    }\n",
              "</style>\n",
              "<table border=\"1\" class=\"dataframe\">\n",
              "  <thead>\n",
              "    <tr style=\"text-align: right;\">\n",
              "      <th></th>\n",
              "      <th>age</th>\n",
              "      <th>workclass</th>\n",
              "      <th>fnlwgt</th>\n",
              "      <th>education</th>\n",
              "      <th>education_num</th>\n",
              "      <th>marital_status</th>\n",
              "      <th>occupation</th>\n",
              "      <th>relationship</th>\n",
              "      <th>race</th>\n",
              "      <th>sex</th>\n",
              "      <th>capital_gain</th>\n",
              "      <th>capital_loss</th>\n",
              "      <th>hours_per_week</th>\n",
              "      <th>native_country</th>\n",
              "      <th>income</th>\n",
              "    </tr>\n",
              "  </thead>\n",
              "  <tbody>\n",
              "    <tr>\n",
              "      <th>15183</th>\n",
              "      <td>38</td>\n",
              "      <td>State-gov</td>\n",
              "      <td>272944</td>\n",
              "      <td>HS-grad</td>\n",
              "      <td>9</td>\n",
              "      <td>Divorced</td>\n",
              "      <td>Other-service</td>\n",
              "      <td>Not-in-family</td>\n",
              "      <td>White</td>\n",
              "      <td>Male</td>\n",
              "      <td>0</td>\n",
              "      <td>0</td>\n",
              "      <td>40</td>\n",
              "      <td>United-States</td>\n",
              "      <td>&lt;=50K</td>\n",
              "    </tr>\n",
              "    <tr>\n",
              "      <th>839</th>\n",
              "      <td>17</td>\n",
              "      <td>Private</td>\n",
              "      <td>198124</td>\n",
              "      <td>11th</td>\n",
              "      <td>7</td>\n",
              "      <td>Never-married</td>\n",
              "      <td>Sales</td>\n",
              "      <td>Own-child</td>\n",
              "      <td>White</td>\n",
              "      <td>Male</td>\n",
              "      <td>0</td>\n",
              "      <td>0</td>\n",
              "      <td>20</td>\n",
              "      <td>United-States</td>\n",
              "      <td>&lt;=50K</td>\n",
              "    </tr>\n",
              "    <tr>\n",
              "      <th>24892</th>\n",
              "      <td>21</td>\n",
              "      <td>Private</td>\n",
              "      <td>355287</td>\n",
              "      <td>9th</td>\n",
              "      <td>5</td>\n",
              "      <td>Never-married</td>\n",
              "      <td>Machine-op-inspct</td>\n",
              "      <td>Not-in-family</td>\n",
              "      <td>White</td>\n",
              "      <td>Male</td>\n",
              "      <td>0</td>\n",
              "      <td>0</td>\n",
              "      <td>48</td>\n",
              "      <td>Mexico</td>\n",
              "      <td>&lt;=50K</td>\n",
              "    </tr>\n",
              "    <tr>\n",
              "      <th>7445</th>\n",
              "      <td>33</td>\n",
              "      <td>Private</td>\n",
              "      <td>180551</td>\n",
              "      <td>HS-grad</td>\n",
              "      <td>9</td>\n",
              "      <td>Divorced</td>\n",
              "      <td>Exec-managerial</td>\n",
              "      <td>Unmarried</td>\n",
              "      <td>White</td>\n",
              "      <td>Female</td>\n",
              "      <td>0</td>\n",
              "      <td>0</td>\n",
              "      <td>40</td>\n",
              "      <td>United-States</td>\n",
              "      <td>&lt;=50K</td>\n",
              "    </tr>\n",
              "  </tbody>\n",
              "</table>\n",
              "</div>"
            ],
            "text/plain": [
              "       age  workclass  fnlwgt  ... hours_per_week  native_country income\n",
              "15183   38  State-gov  272944  ...             40   United-States  <=50K\n",
              "839     17    Private  198124  ...             20   United-States  <=50K\n",
              "24892   21    Private  355287  ...             48          Mexico  <=50K\n",
              "7445    33    Private  180551  ...             40   United-States  <=50K\n",
              "\n",
              "[4 rows x 15 columns]"
            ]
          },
          "metadata": {
            "tags": []
          },
          "execution_count": 19
        }
      ]
    },
    {
      "cell_type": "markdown",
      "metadata": {
        "id": "tVD8rfxJ4r7V",
        "colab_type": "text"
      },
      "source": [
        "**1.2 Clean up data**\n",
        "\n",
        "As analyzed in the EDA, I remove the records missing values"
      ]
    },
    {
      "cell_type": "code",
      "metadata": {
        "id": "tkIZeEzURxD-",
        "colab_type": "code",
        "colab": {
          "base_uri": "https://localhost:8080/",
          "height": 35
        },
        "outputId": "0366c422-d725-4293-c169-2e3e31a78683"
      },
      "source": [
        "#remove records missing values\n",
        "no_missing_df= df.drop(df[df.native_country.isnull()].index)\n",
        "no_missing_df= no_missing_df.drop(no_missing_df[no_missing_df.workclass.isnull()].index)\n",
        "no_missing_df= no_missing_df.drop(no_missing_df[no_missing_df.occupation.isnull()].index)\n",
        "no_missing_df.isnull().sum().max() #just checking that there's no missing data missing..."
      ],
      "execution_count": 20,
      "outputs": [
        {
          "output_type": "execute_result",
          "data": {
            "text/plain": [
              "0"
            ]
          },
          "metadata": {
            "tags": []
          },
          "execution_count": 20
        }
      ]
    },
    {
      "cell_type": "markdown",
      "metadata": {
        "id": "YGW5dZiojXz3",
        "colab_type": "text"
      },
      "source": [
        "**1.3. LabelEncoder the categorical features to numeric**\n",
        "\n",
        "Decision Tree requires numeric features. So, I transform the categorical features into numeric by using LabelEncoder"
      ]
    },
    {
      "cell_type": "code",
      "metadata": {
        "id": "1fjvntRCzHCk",
        "colab_type": "code",
        "colab": {}
      },
      "source": [
        "#LabelEncoder\n",
        "from sklearn.preprocessing import LabelEncoder\n",
        "le= LabelEncoder()\n",
        "no_missing_df['workclass_num']= le.fit_transform(no_missing_df['workclass'])\n",
        "no_missing_df['marital_status_num']= le.fit_transform(no_missing_df['marital_status'])\n",
        "no_missing_df['occupation_num']= le.fit_transform(no_missing_df['occupation'])\n",
        "no_missing_df['relationship_num']= le.fit_transform(no_missing_df['relationship'])\n",
        "no_missing_df['race_num']= le.fit_transform(no_missing_df['race'])\n",
        "no_missing_df['sex_num']= le.fit_transform(no_missing_df['sex'])\n",
        "no_missing_df['native_country_num']= le.fit_transform(no_missing_df['native_country'])\n",
        "no_missing_df['income_num']= le.fit_transform(no_missing_df['income'])\n",
        "\n",
        "#.columns"
      ],
      "execution_count": 25,
      "outputs": []
    },
    {
      "cell_type": "markdown",
      "metadata": {
        "id": "bbpNXisokTOl",
        "colab_type": "text"
      },
      "source": [
        "**1.4. Remove the unneccessary features**\n",
        "\n",
        "*   Remove the categorical features because they are represented by the numeric ones\n",
        "*   Remove the unrelated features indicated in the EDA\n",
        "\n"
      ]
    },
    {
      "cell_type": "code",
      "metadata": {
        "id": "A3LI20k6XNZv",
        "colab_type": "code",
        "colab": {}
      },
      "source": [
        "#remove the unnecessary features\n",
        "neccessary_columns_df= no_missing_df.drop(columns=['fnlwgt', 'education', 'workclass', 'income', 'marital_status', 'occupation', 'sex', 'relationship', 'native_country', 'race'])\n",
        "#neccessary_columns_df.columns"
      ],
      "execution_count": 30,
      "outputs": []
    },
    {
      "cell_type": "markdown",
      "metadata": {
        "id": "UYd_D7Bni0GE",
        "colab_type": "text"
      },
      "source": [
        "**1.5. Separate the data into input (X) and target (y)**"
      ]
    },
    {
      "cell_type": "code",
      "metadata": {
        "id": "_9ll30yRV3Un",
        "colab_type": "code",
        "colab": {}
      },
      "source": [
        "#separate input and target\n",
        "X= neccessary_columns_df.drop('income_num', axis='columns')\n",
        "y= neccessary_columns_df['income_num']"
      ],
      "execution_count": 32,
      "outputs": []
    },
    {
      "cell_type": "markdown",
      "metadata": {
        "id": "KfL1kESlqi6M",
        "colab_type": "text"
      },
      "source": [
        "**1.6. Split the data (X,y) into Train set, Test set**\n",
        "\n",
        "Shuffle then split the data"
      ]
    },
    {
      "cell_type": "code",
      "metadata": {
        "id": "RtwlumtGaeU9",
        "colab_type": "code",
        "colab": {
          "base_uri": "https://localhost:8080/",
          "height": 70
        },
        "outputId": "32ebc82b-53c5-4c73-8f65-57a61f69e2f0"
      },
      "source": [
        "#Shuffle and Split data into Training, Testing dataframe\n",
        "from sklearn.model_selection import train_test_split\n",
        "X_train, X_test, y_train, y_test = train_test_split(X, y, shuffle=True, test_size=0.3, random_state=1)\n",
        "print(\"Training Data:\", X_train.shape, y_train.shape)\n",
        "print(\"Testing Data :\", X_test.shape, y_test.shape)\n",
        "print('Train: {}% | Test {}%'.format(round(len(y_train)/len(target_df),2), round(len(y_test)/len(target_df),2)))\n",
        "\n",
        "# X_intermediate, X_test, y_intermediate, y_test = train_test_split(X, y, shuffle=True, test_size=0.2, random_state=1)\n",
        "# X_train, X_validation, y_train, y_validation = train_test_split(X_intermediate, y_intermediate, shuffle=False, test_size=0.25, random_state=1)\n",
        "# del X_intermediate, y_intermediate\n",
        "\n",
        "# print(\"Training Data:\", X_train.shape, y_train.shape)\n",
        "# print(\"Training Data:\", X_validation.shape, y_validation.shape)\n",
        "# print(\"Testing Data :\", X_test.shape, y_test.shape)\n",
        "# print('Train: {}% | Validation: {}% | Test {}%'.format(round(len(y_train)/len(target_df),2), round(len(y_validation)/len(target_df),2), round(len(y_test)/len(target_df),2)))"
      ],
      "execution_count": 33,
      "outputs": [
        {
          "output_type": "stream",
          "text": [
            "Training Data: (21112, 12) (21112,)\n",
            "Testing Data : (9049, 12) (9049,)\n",
            "Train: 0.7% | Test 0.3%\n"
          ],
          "name": "stdout"
        }
      ]
    },
    {
      "cell_type": "markdown",
      "metadata": {
        "id": "bi3umnYaqVvJ",
        "colab_type": "text"
      },
      "source": [
        "# 2. Training Model (Decision Tree Classifier)\n",
        "\n",
        "Follow 2 steps to train the model\n",
        "1.   Tune hyper-parameters to find the ones can build the best model\n",
        "2.   Apply the best ones to train the Decision Tree Classifier model\n",
        "\n",
        "Then I show the Confusion matrix, Precision, Recall and F1-score\n",
        "\n"
      ]
    },
    {
      "cell_type": "markdown",
      "metadata": {
        "id": "1o-xMU6zCfSM",
        "colab_type": "text"
      },
      "source": [
        "**2.1. Tuning Hyper-Parameters to find the best ones**\n",
        "\n",
        "Use **GridSearchCV** for tuning"
      ]
    },
    {
      "cell_type": "code",
      "metadata": {
        "id": "IkDGWAVadFwW",
        "colab_type": "code",
        "colab": {}
      },
      "source": [
        "from sklearn.model_selection import GridSearchCV\n",
        "def get_the_GridSearcCV(model, param_dist, X, y):\n",
        "  gs= GridSearchCV(model, param_dist)\n",
        "  gs.fit(X, y)\n",
        "  print('Tuning Hyper-Parameters:')\n",
        "  print('  - The best parameters: ', gs.best_params_)\n",
        "  print('  - The best score: ', gs.best_score_)\n",
        "  return gs"
      ],
      "execution_count": 34,
      "outputs": []
    },
    {
      "cell_type": "code",
      "metadata": {
        "id": "f7ZkARBlbWm_",
        "colab_type": "code",
        "colab": {
          "base_uri": "https://localhost:8080/",
          "height": 70
        },
        "outputId": "d92cb6d9-c079-45d4-960b-b966db1ec49b"
      },
      "source": [
        "#Tuning hyper-parameters by using GridSearchCV\n",
        "from sklearn.tree import DecisionTreeClassifier\n",
        "param_dist= {'criterion': ['gini','entropy'],\n",
        "             'max_depth': [1,2,3,4,5,6,7,8,9],\n",
        "             'min_samples_leaf': [2,3,4],\n",
        "             'min_samples_split': [4,5,6,7,8,9]\n",
        "             }\n",
        "gs= get_the_GridSearcCV(DecisionTreeClassifier(), param_dist,  X, y)"
      ],
      "execution_count": 35,
      "outputs": [
        {
          "output_type": "stream",
          "text": [
            "Tuning Hyper-Parameters:\n",
            "  - The best parameters:  {'criterion': 'gini', 'max_depth': 9, 'min_samples_leaf': 3, 'min_samples_split': 6}\n",
            "  - The best score:  0.8520939265955899\n"
          ],
          "name": "stdout"
        }
      ]
    },
    {
      "cell_type": "markdown",
      "metadata": {
        "id": "dtQQiPTABgLj",
        "colab_type": "text"
      },
      "source": [
        "**2.2. Apply the best hyper-parameters to train the model**\n",
        "\n",
        "The best hyper-parameters:  {**'criterion': 'gini', 'max_depth': 9, 'min_samples_leaf': 3, 'min_samples_split': 8**}\n"
      ]
    },
    {
      "cell_type": "code",
      "metadata": {
        "id": "otFRQ0H2Aa2Q",
        "colab_type": "code",
        "colab": {
          "base_uri": "https://localhost:8080/",
          "height": 35
        },
        "outputId": "7109956c-008e-475c-fcc9-c54d35293b85"
      },
      "source": [
        "best_clf= DecisionTreeClassifier(criterion= 'gini', max_depth=9, min_samples_leaf=3, min_samples_split=8)\n",
        "best_clf= best_clf.fit(X_train, y_train)\n",
        "score= best_clf.score(X_test, y_test)\n",
        "print(\"Test score: \", score)"
      ],
      "execution_count": 39,
      "outputs": [
        {
          "output_type": "stream",
          "text": [
            "Test score:  0.8498176594098795\n"
          ],
          "name": "stdout"
        }
      ]
    },
    {
      "cell_type": "markdown",
      "metadata": {
        "id": "U-1qhNWLDgzd",
        "colab_type": "text"
      },
      "source": [
        "**2.3. The confusion matrix**\n",
        "\n",
        "Apply the trained model to predict the Test set"
      ]
    },
    {
      "cell_type": "code",
      "metadata": {
        "id": "t_eMCIdIscX9",
        "colab_type": "code",
        "colab": {
          "base_uri": "https://localhost:8080/",
          "height": 124
        },
        "outputId": "6028dee6-eb1d-4682-988e-3313c476def0"
      },
      "source": [
        "#predict Testing set\n",
        "y_predict= best_clf.predict(X_test)\n",
        "\n",
        "#Show confusion matrix\n",
        "from sklearn.metrics import confusion_matrix\n",
        "cm= confusion_matrix(y_test, y_predict)\n",
        "confusion_df= pd.DataFrame(cm)\n",
        "print(\"Confussion Matrix when apply the best model to the Test data\")\n",
        "confusion_df"
      ],
      "execution_count": 40,
      "outputs": [
        {
          "output_type": "stream",
          "text": [
            "Confussion Matrix when apply the best model to the Test data\n"
          ],
          "name": "stdout"
        },
        {
          "output_type": "execute_result",
          "data": {
            "text/html": [
              "<div>\n",
              "<style scoped>\n",
              "    .dataframe tbody tr th:only-of-type {\n",
              "        vertical-align: middle;\n",
              "    }\n",
              "\n",
              "    .dataframe tbody tr th {\n",
              "        vertical-align: top;\n",
              "    }\n",
              "\n",
              "    .dataframe thead th {\n",
              "        text-align: right;\n",
              "    }\n",
              "</style>\n",
              "<table border=\"1\" class=\"dataframe\">\n",
              "  <thead>\n",
              "    <tr style=\"text-align: right;\">\n",
              "      <th></th>\n",
              "      <th>0</th>\n",
              "      <th>1</th>\n",
              "    </tr>\n",
              "  </thead>\n",
              "  <tbody>\n",
              "    <tr>\n",
              "      <th>0</th>\n",
              "      <td>6446</td>\n",
              "      <td>337</td>\n",
              "    </tr>\n",
              "    <tr>\n",
              "      <th>1</th>\n",
              "      <td>1022</td>\n",
              "      <td>1244</td>\n",
              "    </tr>\n",
              "  </tbody>\n",
              "</table>\n",
              "</div>"
            ],
            "text/plain": [
              "      0     1\n",
              "0  6446   337\n",
              "1  1022  1244"
            ]
          },
          "metadata": {
            "tags": []
          },
          "execution_count": 40
        }
      ]
    },
    {
      "cell_type": "markdown",
      "metadata": {
        "id": "TbN_Gav43k_c",
        "colab_type": "text"
      },
      "source": [
        "**2.4. Precision, Recall, F1-score**"
      ]
    },
    {
      "cell_type": "code",
      "metadata": {
        "id": "bn8EobuEYReP",
        "colab_type": "code",
        "colab": {
          "base_uri": "https://localhost:8080/",
          "height": 177
        },
        "outputId": "8c99d13b-5ec3-4a0a-fc08-36d210217ff1"
      },
      "source": [
        "# Precision, Recall, F1-score\n",
        "from sklearn.metrics import classification_report\n",
        "print(classification_report(y_test, y_predict))"
      ],
      "execution_count": 41,
      "outputs": [
        {
          "output_type": "stream",
          "text": [
            "              precision    recall  f1-score   support\n",
            "\n",
            "           0       0.86      0.95      0.90      6783\n",
            "           1       0.79      0.55      0.65      2266\n",
            "\n",
            "    accuracy                           0.85      9049\n",
            "   macro avg       0.82      0.75      0.78      9049\n",
            "weighted avg       0.84      0.85      0.84      9049\n",
            "\n"
          ],
          "name": "stdout"
        }
      ]
    },
    {
      "cell_type": "markdown",
      "metadata": {
        "id": "E9uCPVCVe9MQ",
        "colab_type": "text"
      },
      "source": [
        "*The result above shows that:*\n",
        "\n",
        "*   *y=0:  precision= 0.87, f1-score= 0.9*\n",
        "*   *y=1:  precision= 0.76, f1-score= 0.54*\n",
        "\n",
        "*Why exists the gaps between those score?*\n",
        "\n",
        "*We also see the support of y=0 is much higher than the support of y=1 about 3.15%.*\n",
        "\n",
        "*   *y=0:  support= 6870*\n",
        "*   *y=1:  support= 2176*\n",
        "\n",
        "*Because y=0 has many support, it got trained and predicted better than y=1.*"
      ]
    },
    {
      "cell_type": "markdown",
      "metadata": {
        "id": "dxhUNhOBEwKk",
        "colab_type": "text"
      },
      "source": [
        "# 3. Learning Curve and Validation Curve\n",
        "\n",
        "I try 3 models with different hyper-parameters and draw the Learning Curve and Validation Curve for each model.\n"
      ]
    },
    {
      "cell_type": "code",
      "metadata": {
        "id": "o1q5tS6_ORkK",
        "colab_type": "code",
        "colab": {}
      },
      "source": [
        "def show_curve(train_scores, test_scores, title):\n",
        "  train_scores_mean= np.mean(train_scores, axis=1)\n",
        "  train_scores_std= np.std(train_scores, axis=1)\n",
        "  test_scores_mean= np.mean(test_scores, axis=1)\n",
        "  test_scores_std= np.std(test_scores, axis=1)\n",
        "\n",
        "  plt.plot(train_sizes, train_scores_mean, marker='o', label= \"Training score\")\n",
        "  plt.plot(train_sizes, test_scores_mean, marker='o', label=\"Cross-Validation score\")\n",
        "\n",
        "  plt.fill_between(train_sizes, train_scores_mean-train_scores_std, train_scores_mean+train_scores_std,color= '#33F4FF',alpha=0.5)\n",
        "  plt.fill_between(train_sizes, test_scores_mean-test_scores_std, test_scores_mean+test_scores_std, color= '#DDDDDD',alpha=0.5)\n",
        "\n",
        "  plt.title(title)\n",
        "  plt.xlabel('Training Size')\n",
        "  plt.ylabel('Score')\n",
        "  plt.legend(loc= 'best')"
      ],
      "execution_count": 42,
      "outputs": []
    },
    {
      "cell_type": "code",
      "metadata": {
        "id": "JKHxXoKVyKGz",
        "colab_type": "code",
        "colab": {}
      },
      "source": [
        "from sklearn.model_selection import learning_curve\n",
        "from sklearn.model_selection import validation_curve\n",
        "param_name= 'min_samples_split'\n",
        "param_range = np.linspace(0.01,1,20)\n",
        "train_sizes= np.linspace(0.01,1,20)\n",
        "scoring= 'accuracy'"
      ],
      "execution_count": 43,
      "outputs": []
    },
    {
      "cell_type": "markdown",
      "metadata": {
        "id": "JSPukkBYujdt",
        "colab_type": "text"
      },
      "source": [
        "**1. The best model**\n",
        "\n",
        "Hyper-parameters= {**'criterion': 'gini', 'max_depth': 9, 'min_samples_leaf': 3, 'min_samples_split': 8**}"
      ]
    },
    {
      "cell_type": "code",
      "metadata": {
        "id": "8riYU2ru4LMk",
        "colab_type": "code",
        "colab": {
          "base_uri": "https://localhost:8080/",
          "height": 35
        },
        "outputId": "62597cd9-a0e1-4539-e3fb-c4b4f980f51c"
      },
      "source": [
        "score= best_clf.score(X_test, y_test)\n",
        "print(\"Test score: \", score)"
      ],
      "execution_count": 44,
      "outputs": [
        {
          "output_type": "stream",
          "text": [
            "Test score:  0.8498176594098795\n"
          ],
          "name": "stdout"
        }
      ]
    },
    {
      "cell_type": "markdown",
      "metadata": {
        "id": "tVMLh2vdZ9On",
        "colab_type": "text"
      },
      "source": [
        "***1.1. Learning curve***"
      ]
    },
    {
      "cell_type": "code",
      "metadata": {
        "id": "1bWR2UkwvDX1",
        "colab_type": "code",
        "colab": {
          "base_uri": "https://localhost:8080/",
          "height": 366
        },
        "outputId": "5522287a-82ff-4fc7-9702-b85532548a15"
      },
      "source": [
        "train_sizes, train_scores, test_scores= learning_curve(best_clf, X, y, scoring=scoring, train_sizes= train_sizes, verbose=1)\n",
        "show_curve(train_scores, test_scores, 'Learning Curve')"
      ],
      "execution_count": 45,
      "outputs": [
        {
          "output_type": "stream",
          "text": [
            "[learning_curve] Training set sizes: [  241  1498  2755  4012  5270  6527  7784  9041 10298 11556 12813 14070\n",
            " 15327 16584 17842 19099 20356 21613 22870 24128]\n"
          ],
          "name": "stdout"
        },
        {
          "output_type": "stream",
          "text": [
            "[Parallel(n_jobs=1)]: Using backend SequentialBackend with 1 concurrent workers.\n",
            "[Parallel(n_jobs=1)]: Done 100 out of 100 | elapsed:    2.8s finished\n"
          ],
          "name": "stderr"
        },
        {
          "output_type": "display_data",
          "data": {
            "image/png": "[encoded data removed]",
            "text/plain": [
              "<Figure size 432x288 with 1 Axes>"
            ]
          },
          "metadata": {
            "tags": [],
            "needs_background": "light"
          }
        }
      ]
    },
    {
      "cell_type": "markdown",
      "metadata": {
        "id": "MEmyVV_3W2kB",
        "colab_type": "text"
      },
      "source": [
        "The y-axis is '**score**', so the higher the score, the better the performance of the model.\n",
        "\n",
        "\n",
        "*   Training score decreases gradually then be stable.\n",
        "*   Cross-validation scoare increases gradually then be stable.\n",
        "*   The gap between cross-validation score and training score is quite small.\n",
        "\n",
        "The model is acceptable.\n"
      ]
    },
    {
      "cell_type": "markdown",
      "metadata": {
        "id": "Pa0Ai_F7aDjD",
        "colab_type": "text"
      },
      "source": [
        "***1.2. Validation curve***"
      ]
    },
    {
      "cell_type": "code",
      "metadata": {
        "id": "yaMEW47NdYtS",
        "colab_type": "code",
        "colab": {
          "base_uri": "https://localhost:8080/",
          "height": 295
        },
        "outputId": "e3029e41-4c8e-4f88-dfc7-6584d553372b"
      },
      "source": [
        "train_scores, test_scores= validation_curve(best_clf, X, y, param_name=param_name, param_range=param_range, scoring= scoring)\n",
        "show_curve(train_scores, test_scores, 'Validation Curve')"
      ],
      "execution_count": 46,
      "outputs": [
        {
          "output_type": "display_data",
          "data": {
            "image/png": "[encoded data removed]",
            "text/plain": [
              "<Figure size 432x288 with 1 Axes>"
            ]
          },
          "metadata": {
            "tags": [],
            "needs_background": "light"
          }
        }
      ]
    },
    {
      "cell_type": "markdown",
      "metadata": {
        "id": "yYaQHWSuupIU",
        "colab_type": "text"
      },
      "source": [
        "**2. The second model**\n",
        "\n",
        "Hyper-parameters= {**'criterion': 'gini', 'max_depth': 100**}"
      ]
    },
    {
      "cell_type": "code",
      "metadata": {
        "id": "iWhsAVjXvNmM",
        "colab_type": "code",
        "colab": {
          "base_uri": "https://localhost:8080/",
          "height": 35
        },
        "outputId": "3b32c7bc-7e64-4a5d-e7ff-f5f6be16bec1"
      },
      "source": [
        "second_clf= DecisionTreeClassifier(criterion= 'gini', max_depth=100)\n",
        "second_clf= second_clf.fit(X_train, y_train)\n",
        "score= second_clf.score(X_test, y_test)\n",
        "print(\"Test score: \", score)"
      ],
      "execution_count": 47,
      "outputs": [
        {
          "output_type": "stream",
          "text": [
            "Test score:  0.804066747706929\n"
          ],
          "name": "stdout"
        }
      ]
    },
    {
      "cell_type": "markdown",
      "metadata": {
        "id": "i1qx4HhLaHX_",
        "colab_type": "text"
      },
      "source": [
        "***2.1. Learning curve***"
      ]
    },
    {
      "cell_type": "code",
      "metadata": {
        "id": "E3WSG9PqvVJH",
        "colab_type": "code",
        "colab": {
          "base_uri": "https://localhost:8080/",
          "height": 366
        },
        "outputId": "f7f10204-89f0-42b0-97a6-530eb0f69b9c"
      },
      "source": [
        "train_sizes, train_scores, test_scores= learning_curve(second_clf, X, y, scoring=scoring, train_sizes= train_sizes, verbose=1)\n",
        "show_curve(train_scores, test_scores, 'Learning Curve')"
      ],
      "execution_count": 48,
      "outputs": [
        {
          "output_type": "stream",
          "text": [
            "[learning_curve] Training set sizes: [  241  1498  2755  4012  5270  6527  7784  9041 10298 11556 12813 14070\n",
            " 15327 16584 17842 19099 20356 21613 22870 24128]\n"
          ],
          "name": "stdout"
        },
        {
          "output_type": "stream",
          "text": [
            "[Parallel(n_jobs=1)]: Using backend SequentialBackend with 1 concurrent workers.\n",
            "[Parallel(n_jobs=1)]: Done 100 out of 100 | elapsed:    4.5s finished\n"
          ],
          "name": "stderr"
        },
        {
          "output_type": "display_data",
          "data": {
            "image/png": "[encoded data removed]",
            "text/plain": [
              "<Figure size 432x288 with 1 Axes>"
            ]
          },
          "metadata": {
            "tags": [],
            "needs_background": "light"
          }
        }
      ]
    },
    {
      "cell_type": "markdown",
      "metadata": {
        "id": "Y4nmjAlsazCQ",
        "colab_type": "text"
      },
      "source": [
        "The y-axis is '**score**', so the higher the score, the better the performance of the model.\n",
        "\n",
        "\n",
        "*   Training score decreases over time.\n",
        "*   Cross-validation scoare increases over time.\n",
        "*   The gap between cross-validation score and training score is huge.\n",
        "\n",
        "We should tune hyper-parameters to get the better score, the better model.\n"
      ]
    },
    {
      "cell_type": "markdown",
      "metadata": {
        "id": "0kYVs4exaJza",
        "colab_type": "text"
      },
      "source": [
        "***2.2. Validation curve***"
      ]
    },
    {
      "cell_type": "code",
      "metadata": {
        "id": "H9buZmq2tFtT",
        "colab_type": "code",
        "colab": {
          "base_uri": "https://localhost:8080/",
          "height": 295
        },
        "outputId": "57d43f2d-c217-4c9a-db15-8c44c747e720"
      },
      "source": [
        "train_scores, test_scores= validation_curve(second_clf, X, y, param_name=param_name, param_range=param_range, scoring=scoring)\n",
        "show_curve(train_scores, test_scores, 'Validation Curve')"
      ],
      "execution_count": 49,
      "outputs": [
        {
          "output_type": "display_data",
          "data": {
            "image/png": "[encoded data removed]",
            "text/plain": [
              "<Figure size 432x288 with 1 Axes>"
            ]
          },
          "metadata": {
            "tags": [],
            "needs_background": "light"
          }
        }
      ]
    },
    {
      "cell_type": "markdown",
      "metadata": {
        "id": "mXr6ww8uuxXr",
        "colab_type": "text"
      },
      "source": [
        "**3. The third model**\n",
        "\n",
        "Hyper-parameters= {**'criterion': 'entropy'**}"
      ]
    },
    {
      "cell_type": "code",
      "metadata": {
        "id": "QEckJy9xvl19",
        "colab_type": "code",
        "colab": {
          "base_uri": "https://localhost:8080/",
          "height": 35
        },
        "outputId": "8de4f902-180d-46e9-f135-d8656834372a"
      },
      "source": [
        "third_clf= DecisionTreeClassifier(criterion= 'entropy')\n",
        "third_clf= third_clf.fit(X_train, y_train)\n",
        "score= third_clf.score(X_test, y_test)\n",
        "print(\"Test score: \", score)"
      ],
      "execution_count": 50,
      "outputs": [
        {
          "output_type": "stream",
          "text": [
            "Test score:  0.806276936678086\n"
          ],
          "name": "stdout"
        }
      ]
    },
    {
      "cell_type": "markdown",
      "metadata": {
        "id": "iKw9OG75aOJt",
        "colab_type": "text"
      },
      "source": [
        "***3.1. Learning curve***"
      ]
    },
    {
      "cell_type": "code",
      "metadata": {
        "id": "xAK3EVaoU4J3",
        "colab_type": "code",
        "colab": {
          "base_uri": "https://localhost:8080/",
          "height": 366
        },
        "outputId": "4ff185e1-127c-48f5-e4cd-0216812be6a8"
      },
      "source": [
        "train_sizes, train_scores, test_scores= learning_curve(third_clf, X, y, scoring=scoring, train_sizes= train_sizes, verbose=1)\n",
        "show_curve(train_scores, test_scores, 'Learning Curve')"
      ],
      "execution_count": 51,
      "outputs": [
        {
          "output_type": "stream",
          "text": [
            "[learning_curve] Training set sizes: [  241  1498  2755  4012  5270  6527  7784  9041 10298 11556 12813 14070\n",
            " 15327 16584 17842 19099 20356 21613 22870 24128]\n"
          ],
          "name": "stdout"
        },
        {
          "output_type": "stream",
          "text": [
            "[Parallel(n_jobs=1)]: Using backend SequentialBackend with 1 concurrent workers.\n",
            "[Parallel(n_jobs=1)]: Done 100 out of 100 | elapsed:    5.1s finished\n"
          ],
          "name": "stderr"
        },
        {
          "output_type": "display_data",
          "data": {
            "image/png": "[encoded data removed]",
            "text/plain": [
              "<Figure size 432x288 with 1 Axes>"
            ]
          },
          "metadata": {
            "tags": [],
            "needs_background": "light"
          }
        }
      ]
    },
    {
      "cell_type": "markdown",
      "metadata": {
        "id": "TYhqgYNbbW1B",
        "colab_type": "text"
      },
      "source": [
        "The y-axis is '**score**', so the higher the score, the better the performance of the model.\n",
        "\n",
        "\n",
        "*   Training score decreases over time.\n",
        "*   Cross-validation scoare increases over time.\n",
        "*   The gap between cross-validation score and training score is huge.\n",
        "\n",
        "We should tune hyper-parameters to get the better score, the better model.\n"
      ]
    },
    {
      "cell_type": "markdown",
      "metadata": {
        "id": "z-nTFZddaQmf",
        "colab_type": "text"
      },
      "source": [
        "***3.2. Validation curve***"
      ]
    },
    {
      "cell_type": "code",
      "metadata": {
        "id": "tnsA5o7-wPXN",
        "colab_type": "code",
        "colab": {
          "base_uri": "https://localhost:8080/",
          "height": 295
        },
        "outputId": "7554ba24-468f-4f71-892d-d42cf7327513"
      },
      "source": [
        "train_scores, test_scores= validation_curve(third_clf, X, y, param_name=param_name, param_range=param_range, scoring=scoring)\n",
        "show_curve(train_scores, test_scores, 'Validation Curve')"
      ],
      "execution_count": 52,
      "outputs": [
        {
          "output_type": "display_data",
          "data": {
            "image/png": "[encoded data removed]",
            "text/plain": [
              "<Figure size 432x288 with 1 Axes>"
            ]
          },
          "metadata": {
            "tags": [],
            "needs_background": "light"
          }
        }
      ]
    }
  ]
}