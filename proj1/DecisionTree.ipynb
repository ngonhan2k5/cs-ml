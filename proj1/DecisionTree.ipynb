{
  "nbformat": 4,
  "nbformat_minor": 0,
  "metadata": {
    "colab": {
      "name": "DecisionTree.ipynb",
      "provenance": [],
      "collapsed_sections": [
        "7ZryG3cuqsg3"
      ],
      "authorship_tag": "ABX9TyM6FeKsnGKDN0uUJlx6PAwh",
      "include_colab_link": true
    },
    "kernelspec": {
      "name": "python3",
      "display_name": "Python 3"
    },
    "accelerator": "GPU"
  },
  "cells": [
    {
      "cell_type": "markdown",
      "metadata": {
        "id": "view-in-github",
        "colab_type": "text"
      },
      "source": [
        "<a href=\"https://colab.research.google.com/github/ngonhan2k5/cs-ml/blob/master/proj1/DecisionTree.ipynb\" target=\"_parent\"><img src=\"https://colab.research.google.com/assets/colab-badge.svg\" alt=\"Open In Colab\"/></a>"
      ]
    },
    {
      "cell_type": "markdown",
      "metadata": {
        "id": "7ZryG3cuqsg3",
        "colab_type": "text"
      },
      "source": [
        "# 1. Prepare dataset"
      ]
    },
    {
      "cell_type": "code",
      "metadata": {
        "id": "_BF8W7HnPeB3",
        "colab_type": "code",
        "colab": {
          "base_uri": "https://localhost:8080/",
          "height": 52
        },
        "outputId": "218d08b5-72f1-4dca-e307-8c0b00e92579"
      },
      "source": [
        "import pandas as pd\n",
        "import numpy as np\n",
        "import matplotlib.pyplot as plt\n",
        "import seaborn as sns\n",
        "\n",
        "from IPython.core.interactiveshell import InteractiveShell\n",
        "InteractiveShell.ast_node_interactivity = \"all\""
      ],
      "execution_count": 1,
      "outputs": [
        {
          "output_type": "stream",
          "text": [
            "/usr/local/lib/python3.6/dist-packages/statsmodels/tools/_testing.py:19: FutureWarning: pandas.util.testing is deprecated. Use the functions in the public API at pandas.testing instead.\n",
            "  import pandas.util.testing as tm\n"
          ],
          "name": "stderr"
        }
      ]
    },
    {
      "cell_type": "markdown",
      "metadata": {
        "id": "Hn5Ri_Zp40sU",
        "colab_type": "text"
      },
      "source": [
        "**Load data**"
      ]
    },
    {
      "cell_type": "code",
      "metadata": {
        "id": "Oxk0skMHRTPe",
        "colab_type": "code",
        "colab": {
          "base_uri": "https://localhost:8080/",
          "height": 164
        },
        "outputId": "b3187e0d-b2b9-4a46-aab6-effc05af670c"
      },
      "source": [
        "#load data\n",
        "df = pd.read_csv('https://archive.ics.uci.edu/ml/machine-learning-databases/adult/adult.data', skipinitialspace=True, na_values=\"?\")\n",
        "df.columns = ['age', 'workclass', 'fnlwgt', 'education', \n",
        "                     'education_num', 'marital_status', 'occupation', 'relationship', 'race', 'sex', \n",
        "                     'capital_gain', 'capital_loss', 'hours_per_week', 'native_country', 'income']\n",
        "#df.describe()\n",
        "df.sample(4)"
      ],
      "execution_count": 2,
      "outputs": [
        {
          "output_type": "execute_result",
          "data": {
            "text/html": [
              "<div>\n",
              "<style scoped>\n",
              "    .dataframe tbody tr th:only-of-type {\n",
              "        vertical-align: middle;\n",
              "    }\n",
              "\n",
              "    .dataframe tbody tr th {\n",
              "        vertical-align: top;\n",
              "    }\n",
              "\n",
              "    .dataframe thead th {\n",
              "        text-align: right;\n",
              "    }\n",
              "</style>\n",
              "<table border=\"1\" class=\"dataframe\">\n",
              "  <thead>\n",
              "    <tr style=\"text-align: right;\">\n",
              "      <th></th>\n",
              "      <th>age</th>\n",
              "      <th>workclass</th>\n",
              "      <th>fnlwgt</th>\n",
              "      <th>education</th>\n",
              "      <th>education_num</th>\n",
              "      <th>marital_status</th>\n",
              "      <th>occupation</th>\n",
              "      <th>relationship</th>\n",
              "      <th>race</th>\n",
              "      <th>sex</th>\n",
              "      <th>capital_gain</th>\n",
              "      <th>capital_loss</th>\n",
              "      <th>hours_per_week</th>\n",
              "      <th>native_country</th>\n",
              "      <th>income</th>\n",
              "    </tr>\n",
              "  </thead>\n",
              "  <tbody>\n",
              "    <tr>\n",
              "      <th>22597</th>\n",
              "      <td>41</td>\n",
              "      <td>Private</td>\n",
              "      <td>29762</td>\n",
              "      <td>Some-college</td>\n",
              "      <td>10</td>\n",
              "      <td>Married-civ-spouse</td>\n",
              "      <td>Craft-repair</td>\n",
              "      <td>Husband</td>\n",
              "      <td>White</td>\n",
              "      <td>Male</td>\n",
              "      <td>0</td>\n",
              "      <td>0</td>\n",
              "      <td>60</td>\n",
              "      <td>United-States</td>\n",
              "      <td>&lt;=50K</td>\n",
              "    </tr>\n",
              "    <tr>\n",
              "      <th>4691</th>\n",
              "      <td>55</td>\n",
              "      <td>Self-emp-not-inc</td>\n",
              "      <td>168625</td>\n",
              "      <td>Some-college</td>\n",
              "      <td>10</td>\n",
              "      <td>Divorced</td>\n",
              "      <td>Tech-support</td>\n",
              "      <td>Not-in-family</td>\n",
              "      <td>White</td>\n",
              "      <td>Female</td>\n",
              "      <td>0</td>\n",
              "      <td>0</td>\n",
              "      <td>12</td>\n",
              "      <td>United-States</td>\n",
              "      <td>&gt;50K</td>\n",
              "    </tr>\n",
              "    <tr>\n",
              "      <th>30964</th>\n",
              "      <td>54</td>\n",
              "      <td>Local-gov</td>\n",
              "      <td>127943</td>\n",
              "      <td>HS-grad</td>\n",
              "      <td>9</td>\n",
              "      <td>Widowed</td>\n",
              "      <td>Other-service</td>\n",
              "      <td>Unmarried</td>\n",
              "      <td>Black</td>\n",
              "      <td>Female</td>\n",
              "      <td>0</td>\n",
              "      <td>0</td>\n",
              "      <td>40</td>\n",
              "      <td>United-States</td>\n",
              "      <td>&lt;=50K</td>\n",
              "    </tr>\n",
              "    <tr>\n",
              "      <th>19626</th>\n",
              "      <td>53</td>\n",
              "      <td>Private</td>\n",
              "      <td>228500</td>\n",
              "      <td>HS-grad</td>\n",
              "      <td>9</td>\n",
              "      <td>Married-civ-spouse</td>\n",
              "      <td>Machine-op-inspct</td>\n",
              "      <td>Husband</td>\n",
              "      <td>White</td>\n",
              "      <td>Male</td>\n",
              "      <td>0</td>\n",
              "      <td>0</td>\n",
              "      <td>40</td>\n",
              "      <td>United-States</td>\n",
              "      <td>&gt;50K</td>\n",
              "    </tr>\n",
              "  </tbody>\n",
              "</table>\n",
              "</div>"
            ],
            "text/plain": [
              "       age         workclass  fnlwgt  ... hours_per_week  native_country income\n",
              "22597   41           Private   29762  ...             60   United-States  <=50K\n",
              "4691    55  Self-emp-not-inc  168625  ...             12   United-States   >50K\n",
              "30964   54         Local-gov  127943  ...             40   United-States  <=50K\n",
              "19626   53           Private  228500  ...             40   United-States   >50K\n",
              "\n",
              "[4 rows x 15 columns]"
            ]
          },
          "metadata": {
            "tags": []
          },
          "execution_count": 2
        }
      ]
    },
    {
      "cell_type": "markdown",
      "metadata": {
        "id": "tVD8rfxJ4r7V",
        "colab_type": "text"
      },
      "source": [
        "**Clean up data**"
      ]
    },
    {
      "cell_type": "code",
      "metadata": {
        "id": "tkIZeEzURxD-",
        "colab_type": "code",
        "colab": {
          "base_uri": "https://localhost:8080/",
          "height": 35
        },
        "outputId": "e606e1b0-f759-44a1-f8a7-790ef5f121ae"
      },
      "source": [
        "#remove records missing values\n",
        "no_missing_df= df.drop(df[df.native_country.isnull()].index)\n",
        "no_missing_df= no_missing_df.drop(no_missing_df[no_missing_df.workclass.isnull()].index)\n",
        "no_missing_df= no_missing_df.drop(no_missing_df[no_missing_df.occupation.isnull()].index)\n",
        "no_missing_df.isnull().sum().max() #just checking that there's no missing data missing..."
      ],
      "execution_count": 3,
      "outputs": [
        {
          "output_type": "execute_result",
          "data": {
            "text/plain": [
              "0"
            ]
          },
          "metadata": {
            "tags": []
          },
          "execution_count": 3
        }
      ]
    },
    {
      "cell_type": "code",
      "metadata": {
        "id": "1fjvntRCzHCk",
        "colab_type": "code",
        "colab": {}
      },
      "source": [
        "#LabelEncoder\n",
        "from sklearn.preprocessing import LabelEncoder\n",
        "le= LabelEncoder()\n",
        "no_missing_df['workclass_num']= le.fit_transform(no_missing_df['workclass'])\n",
        "no_missing_df['marital_status_num']= le.fit_transform(no_missing_df['marital_status'])\n",
        "no_missing_df['occupation_num']= le.fit_transform(no_missing_df['occupation'])\n",
        "no_missing_df['relationship_num']= le.fit_transform(no_missing_df['relationship'])\n",
        "no_missing_df['race_num']= le.fit_transform(no_missing_df['race'])\n",
        "no_missing_df['sex_num']= le.fit_transform(no_missing_df['sex'])\n",
        "no_missing_df['native_country_num']= le.fit_transform(no_missing_df['native_country'])\n",
        "no_missing_df['income_num']= le.fit_transform(no_missing_df['income'])\n",
        "\n",
        "#.columns"
      ],
      "execution_count": 4,
      "outputs": []
    },
    {
      "cell_type": "code",
      "metadata": {
        "id": "A3LI20k6XNZv",
        "colab_type": "code",
        "colab": {}
      },
      "source": [
        "#remove the unnecessary features\n",
        "neccessary_columns_df= no_missing_df.drop(columns=['fnlwgt', 'education', 'workclass', 'income', 'marital_status', 'occupation', 'sex', 'relationship', 'native_country', 'race'])\n",
        "#neccessary_columns_df.columns"
      ],
      "execution_count": 5,
      "outputs": []
    },
    {
      "cell_type": "code",
      "metadata": {
        "id": "_9ll30yRV3Un",
        "colab_type": "code",
        "colab": {}
      },
      "source": [
        "#separate input and target\n",
        "input_df= neccessary_columns_df.drop('income_num', axis='columns')\n",
        "target_df= neccessary_columns_df['income_num']"
      ],
      "execution_count": 6,
      "outputs": []
    },
    {
      "cell_type": "markdown",
      "metadata": {
        "id": "KfL1kESlqi6M",
        "colab_type": "text"
      },
      "source": [
        "**Split data into Training and Testing**"
      ]
    },
    {
      "cell_type": "code",
      "metadata": {
        "id": "RtwlumtGaeU9",
        "colab_type": "code",
        "colab": {
          "base_uri": "https://localhost:8080/",
          "height": 52
        },
        "outputId": "5854eabb-0386-4af8-a29f-c20e945ce546"
      },
      "source": [
        "#Split data into Training and Testing dataframe\n",
        "from sklearn.model_selection import train_test_split\n",
        "X_train, X_test, y_train, y_test = train_test_split(input_df, target_df, test_size=0.3, random_state=0)\n",
        "print(\"Training Data:\", X_train.shape, y_train.shape)\n",
        "print(\"Testing Data :\", X_test.shape, y_test.shape)"
      ],
      "execution_count": 7,
      "outputs": [
        {
          "output_type": "stream",
          "text": [
            "Training Data: (21112, 12) (21112,)\n",
            "Testing Data : (9049, 12) (9049,)\n"
          ],
          "name": "stdout"
        }
      ]
    },
    {
      "cell_type": "markdown",
      "metadata": {
        "id": "bi3umnYaqVvJ",
        "colab_type": "text"
      },
      "source": [
        "# 2. Training Model using Decision Tree Classifier"
      ]
    },
    {
      "cell_type": "markdown",
      "metadata": {
        "id": "1o-xMU6zCfSM",
        "colab_type": "text"
      },
      "source": [
        "**Tuning Hyper-Parameter to find the best parameters**"
      ]
    },
    {
      "cell_type": "code",
      "metadata": {
        "id": "IkDGWAVadFwW",
        "colab_type": "code",
        "colab": {}
      },
      "source": [
        "from sklearn.model_selection import GridSearchCV\n",
        "def get_the_GridSearcCV(model, param_dist, X, y):\n",
        "  gs= GridSearchCV(model, param_dist)\n",
        "  gs.fit(X, y)\n",
        "  print('Tuning Hyper-Parameters:')\n",
        "  print('  - The best parameters: ', gs.best_params_)\n",
        "  print('  - The best score: ', gs.best_score_)\n",
        "  return gs"
      ],
      "execution_count": 8,
      "outputs": []
    },
    {
      "cell_type": "code",
      "metadata": {
        "id": "f7ZkARBlbWm_",
        "colab_type": "code",
        "colab": {
          "base_uri": "https://localhost:8080/",
          "height": 70
        },
        "outputId": "befb3409-ec81-4ea8-c0d2-db447e2b6829"
      },
      "source": [
        "#Tuning hyper-parameters by using GridSearchCV\n",
        "from sklearn.tree import DecisionTreeClassifier\n",
        "param_dist= {'criterion': ['gini','entropy'],\n",
        "             'max_depth': [1,2,3,4,5,6,7,8,9],\n",
        "             'min_samples_leaf': [2,3,4],\n",
        "             'min_samples_split': [4,5,6,7,8,9]\n",
        "             }\n",
        "gs= get_the_GridSearcCV(DecisionTreeClassifier(), param_dist,  input_df, target_df)"
      ],
      "execution_count": 9,
      "outputs": [
        {
          "output_type": "stream",
          "text": [
            "Tuning Hyper-Parameters:\n",
            "  - The best parameters:  {'criterion': 'gini', 'max_depth': 9, 'min_samples_leaf': 3, 'min_samples_split': 9}\n",
            "  - The best score:  0.852060775592772\n"
          ],
          "name": "stdout"
        }
      ]
    },
    {
      "cell_type": "markdown",
      "metadata": {
        "id": "dtQQiPTABgLj",
        "colab_type": "text"
      },
      "source": [
        "**Apply the best parameters to train the model**\n",
        "*   The best parameters:  {**'criterion': 'gini', 'max_depth': 9, 'min_samples_leaf': 3, 'min_samples_split': 8**}\n",
        "*   The best score     :  0.8521602395929374\n"
      ]
    },
    {
      "cell_type": "code",
      "metadata": {
        "id": "otFRQ0H2Aa2Q",
        "colab_type": "code",
        "colab": {
          "base_uri": "https://localhost:8080/",
          "height": 35
        },
        "outputId": "fa09927c-4faf-4ec3-d52d-75d78799da68"
      },
      "source": [
        "best_clf= DecisionTreeClassifier(criterion= 'gini', max_depth=9, min_samples_leaf=3, min_samples_split=8)\n",
        "best_clf= best_clf.fit(X_train, y_train)\n",
        "score= best_clf.score(X_test, y_test)\n",
        "print(\"Test score: \", score)"
      ],
      "execution_count": 10,
      "outputs": [
        {
          "output_type": "stream",
          "text": [
            "Test score:  0.8472759420930489\n"
          ],
          "name": "stdout"
        }
      ]
    },
    {
      "cell_type": "markdown",
      "metadata": {
        "id": "U-1qhNWLDgzd",
        "colab_type": "text"
      },
      "source": [
        "**The confusion matrix**\n",
        "*   Apply the trained model to predict the Test set"
      ]
    },
    {
      "cell_type": "code",
      "metadata": {
        "id": "t_eMCIdIscX9",
        "colab_type": "code",
        "colab": {
          "base_uri": "https://localhost:8080/",
          "height": 124
        },
        "outputId": "43999b29-d115-4608-b7f6-28217b195199"
      },
      "source": [
        "#predict Testing set\n",
        "y_predict= best_clf.predict(X_test)\n",
        "\n",
        "#Show confusion matrix\n",
        "from sklearn.metrics import confusion_matrix\n",
        "cm= confusion_matrix(y_test, y_predict)\n",
        "confusion_df= pd.DataFrame(cm)\n",
        "print(\"Confussion Matrix when apply the best model to the Test data\")\n",
        "confusion_df"
      ],
      "execution_count": 11,
      "outputs": [
        {
          "output_type": "stream",
          "text": [
            "Confussion Matrix when apply the best model to the Test data\n"
          ],
          "name": "stdout"
        },
        {
          "output_type": "execute_result",
          "data": {
            "text/html": [
              "<div>\n",
              "<style scoped>\n",
              "    .dataframe tbody tr th:only-of-type {\n",
              "        vertical-align: middle;\n",
              "    }\n",
              "\n",
              "    .dataframe tbody tr th {\n",
              "        vertical-align: top;\n",
              "    }\n",
              "\n",
              "    .dataframe thead th {\n",
              "        text-align: right;\n",
              "    }\n",
              "</style>\n",
              "<table border=\"1\" class=\"dataframe\">\n",
              "  <thead>\n",
              "    <tr style=\"text-align: right;\">\n",
              "      <th></th>\n",
              "      <th>0</th>\n",
              "      <th>1</th>\n",
              "    </tr>\n",
              "  </thead>\n",
              "  <tbody>\n",
              "    <tr>\n",
              "      <th>0</th>\n",
              "      <td>6489</td>\n",
              "      <td>381</td>\n",
              "    </tr>\n",
              "    <tr>\n",
              "      <th>1</th>\n",
              "      <td>1001</td>\n",
              "      <td>1178</td>\n",
              "    </tr>\n",
              "  </tbody>\n",
              "</table>\n",
              "</div>"
            ],
            "text/plain": [
              "      0     1\n",
              "0  6489   381\n",
              "1  1001  1178"
            ]
          },
          "metadata": {
            "tags": []
          },
          "execution_count": 11
        }
      ]
    },
    {
      "cell_type": "markdown",
      "metadata": {
        "id": "TbN_Gav43k_c",
        "colab_type": "text"
      },
      "source": [
        "**Precision, Recall, F1-score**"
      ]
    },
    {
      "cell_type": "code",
      "metadata": {
        "id": "bn8EobuEYReP",
        "colab_type": "code",
        "colab": {
          "base_uri": "https://localhost:8080/",
          "height": 177
        },
        "outputId": "e9fdfd26-d59a-42ae-de3f-1f6fea2fac66"
      },
      "source": [
        "# Precision, Recall, F1-score\n",
        "from sklearn.metrics import classification_report\n",
        "print(classification_report(y_test, y_predict))"
      ],
      "execution_count": 12,
      "outputs": [
        {
          "output_type": "stream",
          "text": [
            "              precision    recall  f1-score   support\n",
            "\n",
            "           0       0.87      0.94      0.90      6870\n",
            "           1       0.76      0.54      0.63      2179\n",
            "\n",
            "    accuracy                           0.85      9049\n",
            "   macro avg       0.81      0.74      0.77      9049\n",
            "weighted avg       0.84      0.85      0.84      9049\n",
            "\n"
          ],
          "name": "stdout"
        }
      ]
    },
    {
      "cell_type": "markdown",
      "metadata": {
        "id": "dxhUNhOBEwKk",
        "colab_type": "text"
      },
      "source": [
        "# 3. Learning Curve and Validation Curve"
      ]
    },
    {
      "cell_type": "code",
      "metadata": {
        "id": "o1q5tS6_ORkK",
        "colab_type": "code",
        "colab": {}
      },
      "source": [
        "def show_curve(train_scores, test_scores, title):\n",
        "  train_scores_mean= np.mean(train_scores, axis=1)\n",
        "  train_scores_std= np.std(train_scores, axis=1)\n",
        "  test_scores_mean= np.mean(test_scores, axis=1)\n",
        "  test_scores_std= np.std(test_scores, axis=1)\n",
        "\n",
        "  plt.plot(train_sizes, train_scores_mean, marker='o', label= \"Training score\")\n",
        "  plt.plot(train_sizes, test_scores_mean, marker='o', label=\"Cross-Validation score\")\n",
        "\n",
        "  plt.fill_between(train_sizes, train_scores_mean-train_scores_std, train_scores_mean+train_scores_std,color= '#33F4FF',alpha=0.5)\n",
        "  plt.fill_between(train_sizes, test_scores_mean-test_scores_std, test_scores_mean+test_scores_std, color= '#DDDDDD',alpha=0.5)\n",
        "\n",
        "  plt.title(title)\n",
        "  plt.xlabel('Training Size')\n",
        "  plt.ylabel('Score')\n",
        "  plt.legend(loc= 'best')"
      ],
      "execution_count": 13,
      "outputs": []
    },
    {
      "cell_type": "code",
      "metadata": {
        "id": "JKHxXoKVyKGz",
        "colab_type": "code",
        "colab": {}
      },
      "source": [
        "from sklearn.model_selection import learning_curve\n",
        "from sklearn.model_selection import validation_curve\n",
        "param_name= 'min_samples_split'\n",
        "param_range = np.linspace(0.01,1,20)\n",
        "train_sizes= np.linspace(0.01,1,20)\n",
        "scoring= 'accuracy'"
      ],
      "execution_count": 54,
      "outputs": []
    },
    {
      "cell_type": "markdown",
      "metadata": {
        "id": "JSPukkBYujdt",
        "colab_type": "text"
      },
      "source": [
        "**1. The best model**\n",
        "\n",
        "Hyper-parameters= {**'criterion': 'gini', 'max_depth': 9, 'min_samples_leaf': 3, 'min_samples_split': 8**}"
      ]
    },
    {
      "cell_type": "code",
      "metadata": {
        "id": "8riYU2ru4LMk",
        "colab_type": "code",
        "colab": {
          "base_uri": "https://localhost:8080/",
          "height": 35
        },
        "outputId": "0b92083d-19a2-4bfb-8680-97d4ffef5178"
      },
      "source": [
        "score= best_clf.score(X_test, y_test)\n",
        "print(\"Test score: \", score)"
      ],
      "execution_count": 39,
      "outputs": [
        {
          "output_type": "stream",
          "text": [
            "Test score:  0.8472759420930489\n"
          ],
          "name": "stdout"
        }
      ]
    },
    {
      "cell_type": "code",
      "metadata": {
        "id": "1bWR2UkwvDX1",
        "colab_type": "code",
        "colab": {
          "base_uri": "https://localhost:8080/",
          "height": 366
        },
        "outputId": "eb0c6942-3a19-4ae7-8f22-4965e9fa1347"
      },
      "source": [
        "train_sizes, train_scores, test_scores= learning_curve(best_clf, input_df, target_df, scoring=scoring, train_sizes= train_sizes, verbose=1)\n",
        "show_curve(train_scores, test_scores, 'Learning Curve')"
      ],
      "execution_count": 40,
      "outputs": [
        {
          "output_type": "stream",
          "text": [
            "[learning_curve] Training set sizes: [  241  1498  2755  4012  5270  6527  7784  9041 10298 11556 12813 14070\n",
            " 15327 16584 17842 19099 20356 21613 22870 24128]\n"
          ],
          "name": "stdout"
        },
        {
          "output_type": "stream",
          "text": [
            "[Parallel(n_jobs=1)]: Using backend SequentialBackend with 1 concurrent workers.\n",
            "[Parallel(n_jobs=1)]: Done 100 out of 100 | elapsed:    2.5s finished\n"
          ],
          "name": "stderr"
        },
        {
          "output_type": "display_data",
          "data": {
            "image/png": "[encoded data removed]",
            "text/plain": [
              "<Figure size 432x288 with 1 Axes>"
            ]
          },
          "metadata": {
            "tags": [],
            "needs_background": "light"
          }
        }
      ]
    },
    {
      "cell_type": "code",
      "metadata": {
        "id": "yaMEW47NdYtS",
        "colab_type": "code",
        "colab": {
          "base_uri": "https://localhost:8080/",
          "height": 295
        },
        "outputId": "38fd693c-69d0-487a-fb35-acd97a660403"
      },
      "source": [
        "train_scores, test_scores= validation_curve(best_clf, input_df, target_df, param_name=param_name, param_range=param_range, scoring= scoring)\n",
        "show_curve(train_scores, test_scores, 'Validation Curve')"
      ],
      "execution_count": 55,
      "outputs": [
        {
          "output_type": "display_data",
          "data": {
            "image/png": "[encoded data removed]",
            "text/plain": [
              "<Figure size 432x288 with 1 Axes>"
            ]
          },
          "metadata": {
            "tags": [],
            "needs_background": "light"
          }
        }
      ]
    },
    {
      "cell_type": "markdown",
      "metadata": {
        "id": "yYaQHWSuupIU",
        "colab_type": "text"
      },
      "source": [
        "**2. The second model**\n",
        "\n",
        "Hyper-parameters= {**'criterion': 'gini', 'max_depth': 15**}"
      ]
    },
    {
      "cell_type": "code",
      "metadata": {
        "id": "iWhsAVjXvNmM",
        "colab_type": "code",
        "colab": {
          "base_uri": "https://localhost:8080/",
          "height": 35
        },
        "outputId": "6b3afaeb-f806-44d5-8e37-bab98d99d73d"
      },
      "source": [
        "second_clf= DecisionTreeClassifier(criterion= 'gini', max_depth=15)\n",
        "second_clf= second_clf.fit(X_train, y_train)\n",
        "score= second_clf.score(X_test, y_test)\n",
        "print(\"Test score: \", score)"
      ],
      "execution_count": 18,
      "outputs": [
        {
          "output_type": "stream",
          "text": [
            "Test score:  0.8381036578627473\n"
          ],
          "name": "stdout"
        }
      ]
    },
    {
      "cell_type": "code",
      "metadata": {
        "id": "E3WSG9PqvVJH",
        "colab_type": "code",
        "colab": {
          "base_uri": "https://localhost:8080/",
          "height": 366
        },
        "outputId": "67de98b5-7bfe-4add-f5a2-e8fb33232fca"
      },
      "source": [
        "train_sizes, train_scores, test_scores= learning_curve(second_clf, input_df, target_df, scoring=scoring, train_sizes= train_sizes, verbose=1)\n",
        "show_curve(train_scores, test_scores, 'Learning Curve')"
      ],
      "execution_count": 42,
      "outputs": [
        {
          "output_type": "stream",
          "text": [
            "[learning_curve] Training set sizes: [  241  1498  2755  4012  5270  6527  7784  9041 10298 11556 12813 14070\n",
            " 15327 16584 17842 19099 20356 21613 22870 24128]\n"
          ],
          "name": "stdout"
        },
        {
          "output_type": "stream",
          "text": [
            "[Parallel(n_jobs=1)]: Using backend SequentialBackend with 1 concurrent workers.\n",
            "[Parallel(n_jobs=1)]: Done 100 out of 100 | elapsed:    3.5s finished\n"
          ],
          "name": "stderr"
        },
        {
          "output_type": "display_data",
          "data": {
            "image/png": "[encoded data removed]",
            "text/plain": [
              "<Figure size 432x288 with 1 Axes>"
            ]
          },
          "metadata": {
            "tags": [],
            "needs_background": "light"
          }
        }
      ]
    },
    {
      "cell_type": "code",
      "metadata": {
        "id": "H9buZmq2tFtT",
        "colab_type": "code",
        "colab": {
          "base_uri": "https://localhost:8080/",
          "height": 295
        },
        "outputId": "e00ff10d-8771-4766-9c37-a3fdee779b57"
      },
      "source": [
        "train_scores, test_scores= validation_curve(second_clf, input_df, target_df, param_name=param_name, param_range=param_range, scoring=scoring)\n",
        "show_curve(train_scores, test_scores, 'Validation Curve')"
      ],
      "execution_count": 56,
      "outputs": [
        {
          "output_type": "display_data",
          "data": {
            "image/png": "[encoded data removed]",
            "text/plain": [
              "<Figure size 432x288 with 1 Axes>"
            ]
          },
          "metadata": {
            "tags": [],
            "needs_background": "light"
          }
        }
      ]
    },
    {
      "cell_type": "markdown",
      "metadata": {
        "id": "mXr6ww8uuxXr",
        "colab_type": "text"
      },
      "source": [
        "**3. The third model**\n",
        "\n",
        "Hyper-parameters= {**'criterion': 'entropy'**}"
      ]
    },
    {
      "cell_type": "code",
      "metadata": {
        "id": "QEckJy9xvl19",
        "colab_type": "code",
        "colab": {
          "base_uri": "https://localhost:8080/",
          "height": 35
        },
        "outputId": "041aa126-9933-4bb8-e32f-f15dda55afcc"
      },
      "source": [
        "third_clf= DecisionTreeClassifier(criterion= 'entropy')\n",
        "third_clf= third_clf.fit(X_train, y_train)\n",
        "score= third_clf.score(X_test, y_test)\n",
        "print(\"Test score: \", score)"
      ],
      "execution_count": 21,
      "outputs": [
        {
          "output_type": "stream",
          "text": [
            "Test score:  0.8132390319372307\n"
          ],
          "name": "stdout"
        }
      ]
    },
    {
      "cell_type": "code",
      "metadata": {
        "id": "xAK3EVaoU4J3",
        "colab_type": "code",
        "colab": {
          "base_uri": "https://localhost:8080/",
          "height": 366
        },
        "outputId": "ed8eea06-46e3-48a2-a2c3-603d0f6e9a2f"
      },
      "source": [
        "train_sizes, train_scores, test_scores= learning_curve(third_clf, input_df, target_df, scoring=scoring, train_sizes= train_sizes, verbose=1)\n",
        "show_curve(train_scores, test_scores, 'Learning Curve')"
      ],
      "execution_count": 22,
      "outputs": [
        {
          "output_type": "stream",
          "text": [
            "[learning_curve] Training set sizes: [  241  1498  2755  4012  5270  6527  7784  9041 10298 11556 12813 14070\n",
            " 15327 16584 17842 19099 20356 21613 22870 24128]\n"
          ],
          "name": "stdout"
        },
        {
          "output_type": "stream",
          "text": [
            "[Parallel(n_jobs=1)]: Using backend SequentialBackend with 1 concurrent workers.\n",
            "[Parallel(n_jobs=1)]: Done 100 out of 100 | elapsed:    4.5s finished\n"
          ],
          "name": "stderr"
        },
        {
          "output_type": "display_data",
          "data": {
            "image/png": "[encoded data removed]",
            "text/plain": [
              "<Figure size 432x288 with 1 Axes>"
            ]
          },
          "metadata": {
            "tags": [],
            "needs_background": "light"
          }
        }
      ]
    },
    {
      "cell_type": "code",
      "metadata": {
        "id": "tnsA5o7-wPXN",
        "colab_type": "code",
        "colab": {
          "base_uri": "https://localhost:8080/",
          "height": 295
        },
        "outputId": "f092ef95-f743-4797-cd9f-73b3d4a3f917"
      },
      "source": [
        "train_scores, test_scores= validation_curve(third_clf, input_df, target_df, param_name=param_name, param_range=param_range, scoring=scoring)\n",
        "show_curve(train_scores, test_scores, 'Validation Curve')"
      ],
      "execution_count": 44,
      "outputs": [
        {
          "output_type": "display_data",
          "data": {
            "image/png": "[encoded data removed]",
            "text/plain": [
              "<Figure size 432x288 with 1 Axes>"
            ]
          },
          "metadata": {
            "tags": [],
            "needs_background": "light"
          }
        }
      ]
    }
  ]
}