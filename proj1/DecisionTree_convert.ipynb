{
 "cells": [
  {
   "cell_type": "markdown",
   "metadata": {
    "colab_type": "text",
    "id": "view-in-github"
   },
   "source": [
    "<a href=\"https://colab.research.google.com/github/ngonhan2k5/cs-ml/blob/master/proj1/DecisionTree.ipynb\" target=\"_parent\"><img src=\"https://colab.research.google.com/assets/colab-badge.svg\" alt=\"Open In Colab\"/></a>"
   ]
  },
  {
   "cell_type": "markdown",
   "metadata": {
    "colab_type": "text",
    "id": "7ZryG3cuqsg3"
   },
   "source": [
    "# 1. Prepare dataset"
   ]
  },
  {
   "cell_type": "code",
   "execution_count": 1,
   "metadata": {
    "colab": {
     "base_uri": "https://localhost:8080/",
     "height": 72
    },
    "colab_type": "code",
    "id": "_BF8W7HnPeB3",
    "outputId": "b42f6b0e-787c-43bb-fba1-f480facd9332"
   },
   "outputs": [],
   "source": [
    "import pandas as pd\n",
    "import numpy as np\n",
    "import matplotlib.pyplot as plt\n",
    "import seaborn as sns\n",
    "\n",
    "from IPython.core.interactiveshell import InteractiveShell\n",
    "InteractiveShell.ast_node_interactivity = \"all\""
   ]
  },
  {
   "cell_type": "markdown",
   "metadata": {
    "colab_type": "text",
    "id": "Hn5Ri_Zp40sU"
   },
   "source": [
    "**Load data**"
   ]
  },
  {
   "cell_type": "code",
   "execution_count": 3,
   "metadata": {
    "colab": {
     "base_uri": "https://localhost:8080/",
     "height": 199
    },
    "colab_type": "code",
    "id": "Oxk0skMHRTPe",
    "outputId": "d3a1db1c-ad4a-48db-e121-675bcb78a164"
   },
   "outputs": [
    {
     "data": {
      "text/html": [
       "<div>\n",
       "<style scoped>\n",
       "    .dataframe tbody tr th:only-of-type {\n",
       "        vertical-align: middle;\n",
       "    }\n",
       "\n",
       "    .dataframe tbody tr th {\n",
       "        vertical-align: top;\n",
       "    }\n",
       "\n",
       "    .dataframe thead th {\n",
       "        text-align: right;\n",
       "    }\n",
       "</style>\n",
       "<table border=\"1\" class=\"dataframe\">\n",
       "  <thead>\n",
       "    <tr style=\"text-align: right;\">\n",
       "      <th></th>\n",
       "      <th>age</th>\n",
       "      <th>workclass</th>\n",
       "      <th>fnlwgt</th>\n",
       "      <th>education</th>\n",
       "      <th>education_num</th>\n",
       "      <th>marital_status</th>\n",
       "      <th>occupation</th>\n",
       "      <th>relationship</th>\n",
       "      <th>race</th>\n",
       "      <th>sex</th>\n",
       "      <th>capital_gain</th>\n",
       "      <th>capital_loss</th>\n",
       "      <th>hours_per_week</th>\n",
       "      <th>native_country</th>\n",
       "      <th>income</th>\n",
       "    </tr>\n",
       "  </thead>\n",
       "  <tbody>\n",
       "    <tr>\n",
       "      <th>31354</th>\n",
       "      <td>42</td>\n",
       "      <td>Local-gov</td>\n",
       "      <td>121012</td>\n",
       "      <td>Some-college</td>\n",
       "      <td>10</td>\n",
       "      <td>Married-civ-spouse</td>\n",
       "      <td>Exec-managerial</td>\n",
       "      <td>Husband</td>\n",
       "      <td>White</td>\n",
       "      <td>Male</td>\n",
       "      <td>0</td>\n",
       "      <td>0</td>\n",
       "      <td>45</td>\n",
       "      <td>United-States</td>\n",
       "      <td>&gt;50K</td>\n",
       "    </tr>\n",
       "    <tr>\n",
       "      <th>6170</th>\n",
       "      <td>47</td>\n",
       "      <td>Private</td>\n",
       "      <td>170850</td>\n",
       "      <td>HS-grad</td>\n",
       "      <td>9</td>\n",
       "      <td>Married-civ-spouse</td>\n",
       "      <td>Handlers-cleaners</td>\n",
       "      <td>Husband</td>\n",
       "      <td>White</td>\n",
       "      <td>Male</td>\n",
       "      <td>4064</td>\n",
       "      <td>0</td>\n",
       "      <td>60</td>\n",
       "      <td>United-States</td>\n",
       "      <td>&lt;=50K</td>\n",
       "    </tr>\n",
       "    <tr>\n",
       "      <th>16050</th>\n",
       "      <td>54</td>\n",
       "      <td>Private</td>\n",
       "      <td>221915</td>\n",
       "      <td>Prof-school</td>\n",
       "      <td>15</td>\n",
       "      <td>Never-married</td>\n",
       "      <td>Prof-specialty</td>\n",
       "      <td>Other-relative</td>\n",
       "      <td>White</td>\n",
       "      <td>Female</td>\n",
       "      <td>0</td>\n",
       "      <td>0</td>\n",
       "      <td>65</td>\n",
       "      <td>United-States</td>\n",
       "      <td>&lt;=50K</td>\n",
       "    </tr>\n",
       "    <tr>\n",
       "      <th>24758</th>\n",
       "      <td>59</td>\n",
       "      <td>Self-emp-not-inc</td>\n",
       "      <td>170411</td>\n",
       "      <td>7th-8th</td>\n",
       "      <td>4</td>\n",
       "      <td>Married-civ-spouse</td>\n",
       "      <td>Transport-moving</td>\n",
       "      <td>Husband</td>\n",
       "      <td>White</td>\n",
       "      <td>Male</td>\n",
       "      <td>0</td>\n",
       "      <td>0</td>\n",
       "      <td>40</td>\n",
       "      <td>United-States</td>\n",
       "      <td>&lt;=50K</td>\n",
       "    </tr>\n",
       "  </tbody>\n",
       "</table>\n",
       "</div>"
      ],
      "text/plain": [
       "       age         workclass  fnlwgt     education  education_num  \\\n",
       "31354   42         Local-gov  121012  Some-college             10   \n",
       "6170    47           Private  170850       HS-grad              9   \n",
       "16050   54           Private  221915   Prof-school             15   \n",
       "24758   59  Self-emp-not-inc  170411       7th-8th              4   \n",
       "\n",
       "           marital_status         occupation    relationship   race     sex  \\\n",
       "31354  Married-civ-spouse    Exec-managerial         Husband  White    Male   \n",
       "6170   Married-civ-spouse  Handlers-cleaners         Husband  White    Male   \n",
       "16050       Never-married     Prof-specialty  Other-relative  White  Female   \n",
       "24758  Married-civ-spouse   Transport-moving         Husband  White    Male   \n",
       "\n",
       "       capital_gain  capital_loss  hours_per_week native_country income  \n",
       "31354             0             0              45  United-States   >50K  \n",
       "6170           4064             0              60  United-States  <=50K  \n",
       "16050             0             0              65  United-States  <=50K  \n",
       "24758             0             0              40  United-States  <=50K  "
      ]
     },
     "execution_count": 3,
     "metadata": {},
     "output_type": "execute_result"
    }
   ],
   "source": [
    "#load data\n",
    "df = pd.read_csv('https://archive.ics.uci.edu/ml/machine-learning-databases/adult/adult.data', skipinitialspace=True, na_values=\"?\")\n",
    "df.columns = ['age', 'workclass', 'fnlwgt', 'education', \n",
    "                     'education_num', 'marital_status', 'occupation', 'relationship', 'race', 'sex', \n",
    "                     'capital_gain', 'capital_loss', 'hours_per_week', 'native_country', 'income']\n",
    "#df.describe()\n",
    "df.sample(4)"
   ]
  },
  {
   "cell_type": "markdown",
   "metadata": {
    "colab_type": "text",
    "id": "tVD8rfxJ4r7V"
   },
   "source": [
    "**Clean up data**"
   ]
  },
  {
   "cell_type": "code",
   "execution_count": 113,
   "metadata": {
    "colab": {
     "base_uri": "https://localhost:8080/",
     "height": 34
    },
    "colab_type": "code",
    "id": "tkIZeEzURxD-",
    "outputId": "cb8eb37b-88f1-4d3c-e5f8-2edb6259833f"
   },
   "outputs": [
    {
     "data": {
      "text/plain": [
       "0"
      ]
     },
     "execution_count": 113,
     "metadata": {
      "tags": []
     },
     "output_type": "execute_result"
    }
   ],
   "source": [
    "#remove records missing values\n",
    "no_missing_df= df.drop(df[df.native_country.isnull()].index)\n",
    "no_missing_df= no_missing_df.drop(no_missing_df[no_missing_df.workclass.isnull()].index)\n",
    "no_missing_df= no_missing_df.drop(no_missing_df[no_missing_df.occupation.isnull()].index)\n",
    "no_missing_df.isnull().sum().max() #just checking that there's no missing data missing..."
   ]
  },
  {
   "cell_type": "code",
   "execution_count": 122,
   "metadata": {
    "colab": {},
    "colab_type": "code",
    "id": "1fjvntRCzHCk"
   },
   "outputs": [],
   "source": [
    "#LabelEncoder\n",
    "from sklearn.preprocessing import LabelEncoder\n",
    "le= LabelEncoder()\n",
    "no_missing_df['workclass_num']= le.fit_transform(no_missing_df['workclass'])\n",
    "no_missing_df['marital_status_num']= le.fit_transform(no_missing_df['marital_status'])\n",
    "no_missing_df['occupation_num']= le.fit_transform(no_missing_df['occupation'])\n",
    "no_missing_df['relationship_num']= le.fit_transform(no_missing_df['relationship'])\n",
    "no_missing_df['race_num']= le.fit_transform(no_missing_df['race'])\n",
    "no_missing_df['sex_num']= le.fit_transform(no_missing_df['sex'])\n",
    "no_missing_df['native_country_num']= le.fit_transform(no_missing_df['native_country'])\n",
    "no_missing_df['income_num']= le.fit_transform(no_missing_df['income'])\n",
    "\n",
    "#.columns"
   ]
  },
  {
   "cell_type": "code",
   "execution_count": 121,
   "metadata": {
    "colab": {},
    "colab_type": "code",
    "id": "A3LI20k6XNZv"
   },
   "outputs": [],
   "source": [
    "#remove the unnecessary features\n",
    "neccessary_columns_df= no_missing_df.drop(columns=['fnlwgt', 'education', 'workclass', 'income', 'marital_status', 'occupation', 'sex', 'relationship', 'native_country', 'race'])\n",
    "#neccessary_columns_df.columns"
   ]
  },
  {
   "cell_type": "code",
   "execution_count": 120,
   "metadata": {
    "colab": {},
    "colab_type": "code",
    "id": "_9ll30yRV3Un"
   },
   "outputs": [],
   "source": [
    "#separate input and target\n",
    "input_df= neccessary_columns_df.drop('income_num', axis='columns')\n",
    "target_df= neccessary_columns_df['income_num']"
   ]
  },
  {
   "cell_type": "markdown",
   "metadata": {
    "colab_type": "text",
    "id": "KfL1kESlqi6M"
   },
   "source": [
    "**Split data into Training and Testing**"
   ]
  },
  {
   "cell_type": "code",
   "execution_count": 119,
   "metadata": {
    "colab": {
     "base_uri": "https://localhost:8080/",
     "height": 52
    },
    "colab_type": "code",
    "id": "RtwlumtGaeU9",
    "outputId": "4899529b-a7bd-4c38-ebe1-ba047f0b86bd"
   },
   "outputs": [
    {
     "name": "stdout",
     "output_type": "stream",
     "text": [
      "Training Data: (21112, 12) (21112,)\n",
      "Testing Data : (9049, 12) (9049,)\n"
     ]
    }
   ],
   "source": [
    "#Split data into Training and Testing dataframe\n",
    "from sklearn.model_selection import train_test_split\n",
    "X_train, X_test, y_train, y_test = train_test_split(input_df, target_df, test_size=0.3, random_state=0)\n",
    "print(\"Training Data:\", X_train.shape, y_train.shape)\n",
    "print(\"Testing Data :\", X_test.shape, y_test.shape)"
   ]
  },
  {
   "cell_type": "markdown",
   "metadata": {
    "colab_type": "text",
    "id": "bi3umnYaqVvJ"
   },
   "source": [
    "# 2. Training Model using Decision Tree Classifier"
   ]
  },
  {
   "cell_type": "markdown",
   "metadata": {
    "colab_type": "text",
    "id": "1o-xMU6zCfSM"
   },
   "source": [
    "**Tuning Hyper-Parameter to find the best parameters**"
   ]
  },
  {
   "cell_type": "code",
   "execution_count": 124,
   "metadata": {
    "colab": {},
    "colab_type": "code",
    "id": "IkDGWAVadFwW"
   },
   "outputs": [],
   "source": [
    "from sklearn.model_selection import GridSearchCV\n",
    "def get_the_GridSearcCV(model, param_dist, X, y):\n",
    "  gs= GridSearchCV(model, param_dist)\n",
    "  gs.fit(X, y)\n",
    "  print('Tuning Hyper-Parameters:')\n",
    "  print('  - The best parameters: ', gs.best_params_)\n",
    "  print('  - The best score: ', gs.best_score_)\n",
    "  return gs"
   ]
  },
  {
   "cell_type": "code",
   "execution_count": 125,
   "metadata": {
    "colab": {
     "base_uri": "https://localhost:8080/",
     "height": 70
    },
    "colab_type": "code",
    "id": "f7ZkARBlbWm_",
    "outputId": "e71fd49d-d601-47b6-b965-1ff04c361221"
   },
   "outputs": [
    {
     "name": "stdout",
     "output_type": "stream",
     "text": [
      "Tuning Hyper-Parameters:\n",
      "  - The best parameters:  {'criterion': 'gini', 'max_depth': 9, 'min_samples_leaf': 3, 'min_samples_split': 8}\n",
      "  - The best score:  0.8521602395929374\n"
     ]
    }
   ],
   "source": [
    "#Tuning hyper-parameters by using GridSearchCV\n",
    "from sklearn.tree import DecisionTreeClassifier\n",
    "param_dist= {'criterion': ['gini','entropy'],\n",
    "             'max_depth': [1,2,3,4,5,6,7,8,9],\n",
    "             'min_samples_leaf': [2,3,4,5,6],\n",
    "             'min_samples_split': [4,5,6,7,8,9,10,11,12,13,14,15]}\n",
    "gs= get_the_GridSearcCV(DecisionTreeClassifier(), param_dist,  input_df, target_df)"
   ]
  },
  {
   "cell_type": "markdown",
   "metadata": {
    "colab_type": "text",
    "id": "dtQQiPTABgLj"
   },
   "source": [
    "**Apply the best parameters to train the model**\n",
    "*   The best parameters:  {'criterion': 'gini', 'max_depth': 9, 'min_samples_leaf': 3, 'min_samples_split': 8}\n",
    "*   The best score     :  0.8521602395929374\n"
   ]
  },
  {
   "cell_type": "code",
   "execution_count": 138,
   "metadata": {
    "colab": {
     "base_uri": "https://localhost:8080/",
     "height": 34
    },
    "colab_type": "code",
    "id": "otFRQ0H2Aa2Q",
    "outputId": "5c9bf979-c512-4f36-a9fd-ef87e2c18cd1"
   },
   "outputs": [
    {
     "name": "stdout",
     "output_type": "stream",
     "text": [
      "Testing score:  0.8468339042988176\n"
     ]
    }
   ],
   "source": [
    "clf= DecisionTreeClassifier(criterion= 'gini', max_depth=9, min_samples_leaf=3, min_samples_split=8)\n",
    "clf= clf.fit(X_train, y_train)\n",
    "score= clf.score(X_test, y_test)\n",
    "print(\"Test score: \", score)"
   ]
  },
  {
   "cell_type": "markdown",
   "metadata": {
    "colab_type": "text",
    "id": "U-1qhNWLDgzd"
   },
   "source": [
    "**The confusion matrix**\n",
    "*   Apply the trained model to predict the Test set"
   ]
  },
  {
   "cell_type": "code",
   "execution_count": 139,
   "metadata": {
    "colab": {
     "base_uri": "https://localhost:8080/",
     "height": 124
    },
    "colab_type": "code",
    "id": "t_eMCIdIscX9",
    "outputId": "bc804f5c-9212-4ab9-b2f8-4091ac9b23e2"
   },
   "outputs": [
    {
     "name": "stdout",
     "output_type": "stream",
     "text": [
      "Confussion Matrix when applying the trained model to predict the Test set\n"
     ]
    },
    {
     "data": {
      "text/html": [
       "<div>\n",
       "<style scoped>\n",
       "    .dataframe tbody tr th:only-of-type {\n",
       "        vertical-align: middle;\n",
       "    }\n",
       "\n",
       "    .dataframe tbody tr th {\n",
       "        vertical-align: top;\n",
       "    }\n",
       "\n",
       "    .dataframe thead th {\n",
       "        text-align: right;\n",
       "    }\n",
       "</style>\n",
       "<table border=\"1\" class=\"dataframe\">\n",
       "  <thead>\n",
       "    <tr style=\"text-align: right;\">\n",
       "      <th></th>\n",
       "      <th>0</th>\n",
       "      <th>1</th>\n",
       "    </tr>\n",
       "  </thead>\n",
       "  <tbody>\n",
       "    <tr>\n",
       "      <th>0</th>\n",
       "      <td>6486</td>\n",
       "      <td>384</td>\n",
       "    </tr>\n",
       "    <tr>\n",
       "      <th>1</th>\n",
       "      <td>1002</td>\n",
       "      <td>1177</td>\n",
       "    </tr>\n",
       "  </tbody>\n",
       "</table>\n",
       "</div>"
      ],
      "text/plain": [
       "      0     1\n",
       "0  6486   384\n",
       "1  1002  1177"
      ]
     },
     "execution_count": 139,
     "metadata": {
      "tags": []
     },
     "output_type": "execute_result"
    }
   ],
   "source": [
    "#predict Testing set\n",
    "y_predict= clf.predict(X_test)\n",
    "\n",
    "#Show confusion matrix\n",
    "from sklearn.metrics import confusion_matrix\n",
    "cm= confusion_matrix(y_test, y_predict)\n",
    "confusion_df= pd.DataFrame(cm)\n",
    "print(\"Confussion Matrix when applying the trained model to predict the Test set\")\n",
    "confusion_df"
   ]
  },
  {
   "cell_type": "markdown",
   "metadata": {
    "colab_type": "text",
    "id": "dxhUNhOBEwKk"
   },
   "source": [
    "# 3. Complexity Curve"
   ]
  },
  {
   "cell_type": "markdown",
   "metadata": {
    "colab_type": "text",
    "id": "bL9wIVX1FFVg"
   },
   "source": [
    "# 4. Learning Curve"
   ]
  }
 ],
 "metadata": {
  "accelerator": "GPU",
  "colab": {
   "authorship_tag": "ABX9TyMs7Gw6I8Uvu9msnZsIlTud",
   "include_colab_link": true,
   "name": "DecisionTree.ipynb",
   "provenance": []
  },
  "kernelspec": {
   "display_name": "Python 3",
   "language": "python",
   "name": "python3"
  },
  "language_info": {
   "codemirror_mode": {
    "name": "ipython",
    "version": 3
   },
   "file_extension": ".py",
   "mimetype": "text/x-python",
   "name": "python",
   "nbconvert_exporter": "python",
   "pygments_lexer": "ipython3",
   "version": "3.7.7"
  }
 },
 "nbformat": 4,
 "nbformat_minor": 4
}
