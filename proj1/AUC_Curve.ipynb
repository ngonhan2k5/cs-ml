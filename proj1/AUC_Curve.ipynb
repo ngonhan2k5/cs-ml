{
  "nbformat": 4,
  "nbformat_minor": 0,
  "metadata": {
    "colab": {
      "name": "AUC_Curve.ipynb",
      "provenance": [],
      "authorship_tag": "ABX9TyP2Ps2lyrxOh+4ZJp9iJiNm",
      "include_colab_link": true
    },
    "kernelspec": {
      "name": "python3",
      "display_name": "Python 3"
    }
  },
  "cells": [
    {
      "cell_type": "markdown",
      "metadata": {
        "id": "view-in-github",
        "colab_type": "text"
      },
      "source": [
        "<a href=\"https://colab.research.google.com/github/ngonhan2k5/cs-ml/blob/master/proj1/AUC_Curve.ipynb\" target=\"_parent\"><img src=\"https://colab.research.google.com/assets/colab-badge.svg\" alt=\"Open In Colab\"/></a>"
      ]
    },
    {
      "cell_type": "markdown",
      "metadata": {
        "id": "1PtYdjEC_Xek",
        "colab_type": "text"
      },
      "source": [
        "**Load Data**"
      ]
    },
    {
      "cell_type": "code",
      "metadata": {
        "id": "P3M5e7Gr_3v7",
        "colab_type": "code",
        "colab": {}
      },
      "source": [
        "import pandas as pd\n",
        "import numpy as np\n",
        "import matplotlib.pyplot as plt\n",
        "import seaborn as sns\n",
        "\n",
        "from IPython.core.interactiveshell import InteractiveShell\n",
        "InteractiveShell.ast_node_interactivity = \"all\""
      ],
      "execution_count": 2,
      "outputs": []
    },
    {
      "cell_type": "code",
      "metadata": {
        "id": "0bwWIJLB_-9r",
        "colab_type": "code",
        "colab": {}
      },
      "source": [
        "#load data\n",
        "df = pd.read_csv('https://archive.ics.uci.edu/ml/machine-learning-databases/adult/adult.data', skipinitialspace=True, na_values=\"?\")"
      ],
      "execution_count": 45,
      "outputs": []
    },
    {
      "cell_type": "markdown",
      "metadata": {
        "id": "xLg6vBTn-Xq0",
        "colab_type": "text"
      },
      "source": [
        "# kNN"
      ]
    },
    {
      "cell_type": "code",
      "metadata": {
        "id": "FGlPwpqQ-Ule",
        "colab_type": "code",
        "colab": {}
      },
      "source": [
        ""
      ],
      "execution_count": null,
      "outputs": []
    },
    {
      "cell_type": "code",
      "metadata": {
        "id": "HdX68TyV-bXi",
        "colab_type": "code",
        "colab": {}
      },
      "source": [
        ""
      ],
      "execution_count": null,
      "outputs": []
    },
    {
      "cell_type": "markdown",
      "metadata": {
        "id": "FGogaLhC-eTA",
        "colab_type": "text"
      },
      "source": [
        "# Decision Tree"
      ]
    },
    {
      "cell_type": "code",
      "metadata": {
        "id": "yvY6uZLLAUvK",
        "colab_type": "code",
        "colab": {}
      },
      "source": [
        "def decision_tree(df):\n",
        "  df.columns = ['age', 'workclass', 'fnlwgt', 'education', \n",
        "                     'education_num', 'marital_status', 'occupation', 'relationship', 'race', 'sex', \n",
        "                     'capital_gain', 'capital_loss', 'hours_per_week', 'native_country', 'income']\n",
        "  df.sample(4)\n",
        "\n",
        "  #remove records missing values\n",
        "  no_missing_df= df.drop(df[df.native_country.isnull()].index)\n",
        "  no_missing_df= no_missing_df.drop(no_missing_df[no_missing_df.workclass.isnull()].index)\n",
        "  no_missing_df= no_missing_df.drop(no_missing_df[no_missing_df.occupation.isnull()].index)\n",
        "  no_missing_df.isnull().sum().max() #just checking that there's no missing data missing...\n",
        "\n",
        "  #LabelEncoder\n",
        "  from sklearn.preprocessing import LabelEncoder\n",
        "  le= LabelEncoder()\n",
        "  no_missing_df['workclass_num']= le.fit_transform(no_missing_df['workclass'])\n",
        "  no_missing_df['marital_status_num']= le.fit_transform(no_missing_df['marital_status'])\n",
        "  no_missing_df['occupation_num']= le.fit_transform(no_missing_df['occupation'])\n",
        "  no_missing_df['relationship_num']= le.fit_transform(no_missing_df['relationship'])\n",
        "  no_missing_df['race_num']= le.fit_transform(no_missing_df['race'])\n",
        "  no_missing_df['sex_num']= le.fit_transform(no_missing_df['sex'])\n",
        "  no_missing_df['native_country_num']= le.fit_transform(no_missing_df['native_country'])\n",
        "  no_missing_df['income_num']= le.fit_transform(no_missing_df['income'])\n",
        "\n",
        "  #remove the unnecessary features\n",
        "  neccessary_columns_df= no_missing_df.drop(columns=['fnlwgt', 'education', 'workclass', 'income', 'marital_status', 'occupation', 'sex', 'relationship', 'native_country', 'race'])\n",
        "\n",
        "  #separate input and target\n",
        "  X= neccessary_columns_df.drop('income_num', axis='columns')\n",
        "  y= neccessary_columns_df['income_num']\n",
        "\n",
        "  #Shuffle and Split data into Training, Testing dataframe\n",
        "  from sklearn.model_selection import train_test_split\n",
        "  X_train, X_test, y_train, y_test = train_test_split(X, y, shuffle=True, test_size=0.3, random_state=1)\n",
        "  print(\"Training Data:\", X_train.shape, y_train.shape)\n",
        "  print(\"Testing Data :\", X_test.shape, y_test.shape)\n",
        "  print('Train: {}% | Test {}%'.format(round(len(y_train)/len(y),2), round(len(y_test)/len(y),2)))\n",
        "\n",
        "  from sklearn.tree import DecisionTreeClassifier\n",
        "  best_clf= DecisionTreeClassifier(criterion= 'gini', max_depth=9, min_samples_leaf=3, min_samples_split=8)\n",
        "  best_clf= best_clf.fit(X_train, y_train)\n",
        "  score= best_clf.score(X_test, y_test)\n",
        "  return X_test, y_test, best_clf\n"
      ],
      "execution_count": 50,
      "outputs": []
    },
    {
      "cell_type": "code",
      "metadata": {
        "id": "m8s9iCC9CuI4",
        "colab_type": "code",
        "colab": {
          "base_uri": "https://localhost:8080/",
          "height": 70
        },
        "outputId": "b991329c-5630-411c-b8e1-3ae1e9da943c"
      },
      "source": [
        "X_test_dt, y_test_dt, dt_clf= decision_tree(df)"
      ],
      "execution_count": 66,
      "outputs": [
        {
          "output_type": "stream",
          "text": [
            "Training Data: (21112, 12) (21112,)\n",
            "Testing Data : (9049, 12) (9049,)\n",
            "Train: 0.7% | Test 0.3%\n"
          ],
          "name": "stdout"
        }
      ]
    },
    {
      "cell_type": "markdown",
      "metadata": {
        "id": "-ZurlUYP-i6h",
        "colab_type": "text"
      },
      "source": [
        "## SVM"
      ]
    },
    {
      "cell_type": "code",
      "metadata": {
        "id": "yRHbPU5s-19s",
        "colab_type": "code",
        "colab": {}
      },
      "source": [
        ""
      ],
      "execution_count": null,
      "outputs": []
    },
    {
      "cell_type": "markdown",
      "metadata": {
        "id": "F6q5wId2-2jR",
        "colab_type": "text"
      },
      "source": [
        "# Logit"
      ]
    },
    {
      "cell_type": "code",
      "metadata": {
        "id": "jAJzkmVtG-8G",
        "colab_type": "code",
        "colab": {}
      },
      "source": [
        "def logit(df):\n",
        "  # import pandas as pd \n",
        "  # df = pd.read_csv(\"./adult.csv\", skipinitialspace=True, na_values=\"?\")\n",
        "\n",
        "  df.columns = ['age', 'workclass', 'fnlwgt', 'education', \n",
        "                      'education_num', 'marital_status', 'occupation', 'relationship', 'race', 'sex', \n",
        "                      'capital_gain', 'capital_loss', 'hours_per_week', 'native_country', 'income']\n",
        "  for col in ['workclass', 'education', 'marital_status', 'occupation', 'relationship', 'race', 'sex', 'native_country', 'income']:\n",
        "      df[col] = df[col].astype('category')      \n",
        "  #print(df.dtypes)\n",
        "\n",
        "  category_columns = list(df.select_dtypes(include=['category']).columns)\n",
        "  #print(category_columns)\n",
        "\n",
        "  numberic_columns = list(df.select_dtypes(include=['int64']).columns)\n",
        "  #because education_num had relationship with educatoin\n",
        "  numberic_columns.remove('education_num')\n",
        "  #print(numberic_columns)\n",
        "\n",
        "  # remove rows with missing values\n",
        "  for col in category_columns:\n",
        "      df = df[df[col].str.contains(\"\\\\?\") == False]\n",
        "  nrow2 = df.shape[0]\n",
        "  # print(nrow2)\n",
        "\n",
        "  # df['income'].unique()\n",
        "\n",
        "  # import seaborn as sns\n",
        "  # sns.set(font_scale=1.5)\n",
        "\n",
        "  # import matplotlib.pyplot as plt\n",
        "  # df_low_income = df[df['income'] == '<=50K']\n",
        "  # for col in category_columns:\n",
        "  #     total_column = df[col].unique().size\n",
        "  #     f, ax = plt.subplots(figsize=(14, total_column))\n",
        "      \n",
        "  #     sns.set_color_codes(\"pastel\")\n",
        "  #     sns.countplot(y=col, data=df, color=\"b\", label=\">50K\")\n",
        "      \n",
        "  #     sns.set_color_codes(\"muted\")\n",
        "  #     sns.countplot(y=col, data=df_low_income, color=\"b\", label=\"<=50K\")\n",
        "      \n",
        "  #     max = df[col].value_counts().max()\n",
        "  #     ax.set(xlim=(0, max * 1.05), ylabel=\"\", xlabel=col)\n",
        "      \n",
        "  #     # Add a legend and informative axis label\n",
        "  #     ax.legend(ncol=2, loc=\"lower right\", frameon=True)\n",
        "\n",
        "  df.income = df.income.apply(lambda x:0 if x=='<=50K' else 1)\n",
        "  df.income.head()\n",
        "\n",
        "  # one hot encoding sex \n",
        "  one_hot_coding =  pd.get_dummies(df[['workclass',\n",
        "  'education',\n",
        "  'marital_status',\n",
        "  'occupation',\n",
        "  'relationship',\n",
        "  'race',\n",
        "  'sex']])\n",
        "  one_hot_coding.head()\n",
        "\n",
        "  \n",
        "  columns = list(one_hot_coding.columns) \n",
        "  columns\n",
        "\n",
        "  combined = pd.concat([df['income'], df[numberic_columns], one_hot_coding], axis=1)\n",
        "  combined.head()\n",
        "\n",
        "  # X = df[['age', 'workclass', 'fnlwgt', 'educatoin', 'educatoin_num', 'marital_status', 'occupation', 'relationship', 'race', 'sex', 'capital_gain', 'capital_loss', 'hours_per_week']]\n",
        "  X = combined[columns]\n",
        "  y = combined['income']\n",
        "\n",
        "  from sklearn.model_selection import train_test_split\n",
        "  X_train, X_test, y_train, y_test = train_test_split(X, y,\n",
        "                                                      random_state=42,\n",
        "                                                      stratify=y,\n",
        "                                                      test_size=0.1)\n",
        "  \n",
        "  \n",
        "  from sklearn.linear_model import LogisticRegression\n",
        "  logreg = LogisticRegression(max_iter=1000)\n",
        "  logreg.fit(X_train, y_train)\n",
        "  y_pred = logreg.predict(X_test)\n",
        "  print('Accuracy of logistic regression classifier on test set: {:.2f}'.format(logreg.score(X_test, y_test)))\n",
        "  return X_test, y_test, logreg"
      ],
      "execution_count": 63,
      "outputs": []
    },
    {
      "cell_type": "code",
      "metadata": {
        "id": "7xISsTTiHQTF",
        "colab_type": "code",
        "colab": {
          "base_uri": "https://localhost:8080/",
          "height": 35
        },
        "outputId": "f3d3cf04-1aea-4a71-b4da-f49a883cb73b"
      },
      "source": [
        "X_test_logit, y_test_logit, logit_clf= logit(df)"
      ],
      "execution_count": 67,
      "outputs": [
        {
          "output_type": "stream",
          "text": [
            "Accuracy of logistic regression classifier on test set: 0.83\n"
          ],
          "name": "stdout"
        }
      ]
    },
    {
      "cell_type": "markdown",
      "metadata": {
        "id": "Bqu7XE1W-5vQ",
        "colab_type": "text"
      },
      "source": [
        "# Random Forest"
      ]
    },
    {
      "cell_type": "markdown",
      "metadata": {
        "id": "YT7XEipD_GMS",
        "colab_type": "text"
      },
      "source": [
        "## AUC Curve"
      ]
    },
    {
      "cell_type": "code",
      "metadata": {
        "id": "IHDlbVWkD3vr",
        "colab_type": "code",
        "colab": {
          "base_uri": "https://localhost:8080/",
          "height": 70
        },
        "outputId": "b0728449-dd4f-4754-e29d-3b7f0ebb6e2b"
      },
      "source": [
        "X_test, y_test, dt_clf= decision_tree()"
      ],
      "execution_count": 20,
      "outputs": [
        {
          "output_type": "stream",
          "text": [
            "Training Data: (21112, 12) (21112,)\n",
            "Testing Data : (9049, 12) (9049,)\n",
            "Train: 0.7% | Test 0.3%\n"
          ],
          "name": "stdout"
        }
      ]
    },
    {
      "cell_type": "code",
      "metadata": {
        "id": "mmAsHRV9_JDF",
        "colab_type": "code",
        "colab": {
          "base_uri": "https://localhost:8080/",
          "height": 404
        },
        "outputId": "585cac34-c3bd-4121-ea16-008cd6fbf2ea"
      },
      "source": [
        "#ROC Curve\n",
        "from sklearn.metrics import roc_auc_score\n",
        "from sklearn.metrics import roc_curve\n",
        "\n",
        "plt.figure()\n",
        "\n",
        "#Decision Tree\n",
        "dt_roc_auc = roc_auc_score(y_test_dt, dt_clf.predict(X_test_dt))\n",
        "fpr, tpr, thresholds = roc_curve(y_test_dt, dt_clf.predict_proba(X_test_dt)[:,1])\n",
        "plt.plot(fpr, tpr, label='Decision Tree Classifier (area = %0.2f)' % dt_roc_auc)\n",
        "\n",
        "#Logit\n",
        "logit_roc_auc = roc_auc_score(y_test_logit, logit_clf.predict(X_test_logit))\n",
        "fpr, tpr, thresholds = roc_curve(y_test_logit, logit_clf.predict_proba(X_test_logit)[:,1])\n",
        "plt.plot(fpr, tpr, label='Logistic Regression (area = %0.2f)' % logit_roc_auc)\n",
        "\n",
        "\n",
        "plt.plot([0, 1], [0, 1],'r--')\n",
        "plt.xlim([0.0, 1.0])\n",
        "plt.ylim([0.0, 1.05])\n",
        "plt.xlabel('False Positive Rate')\n",
        "plt.ylabel('True Positive Rate')\n",
        "plt.title('Receiver operating characteristic')\n",
        "plt.legend(loc=\"lower right\")\n",
        "plt.savefig('dt_ROC')\n",
        "plt.show()"
      ],
      "execution_count": 68,
      "outputs": [
        {
          "output_type": "execute_result",
          "data": {
            "text/plain": [
              "<Figure size 432x288 with 0 Axes>"
            ]
          },
          "metadata": {
            "tags": []
          },
          "execution_count": 68
        },
        {
          "output_type": "execute_result",
          "data": {
            "text/plain": [
              "[<matplotlib.lines.Line2D at 0x7f36b65796a0>]"
            ]
          },
          "metadata": {
            "tags": []
          },
          "execution_count": 68
        },
        {
          "output_type": "execute_result",
          "data": {
            "text/plain": [
              "[<matplotlib.lines.Line2D at 0x7f36b908ce80>]"
            ]
          },
          "metadata": {
            "tags": []
          },
          "execution_count": 68
        },
        {
          "output_type": "execute_result",
          "data": {
            "text/plain": [
              "[<matplotlib.lines.Line2D at 0x7f36b6579b00>]"
            ]
          },
          "metadata": {
            "tags": []
          },
          "execution_count": 68
        },
        {
          "output_type": "execute_result",
          "data": {
            "text/plain": [
              "(0.0, 1.0)"
            ]
          },
          "metadata": {
            "tags": []
          },
          "execution_count": 68
        },
        {
          "output_type": "execute_result",
          "data": {
            "text/plain": [
              "(0.0, 1.05)"
            ]
          },
          "metadata": {
            "tags": []
          },
          "execution_count": 68
        },
        {
          "output_type": "execute_result",
          "data": {
            "text/plain": [
              "Text(0.5, 0, 'False Positive Rate')"
            ]
          },
          "metadata": {
            "tags": []
          },
          "execution_count": 68
        },
        {
          "output_type": "execute_result",
          "data": {
            "text/plain": [
              "Text(0, 0.5, 'True Positive Rate')"
            ]
          },
          "metadata": {
            "tags": []
          },
          "execution_count": 68
        },
        {
          "output_type": "execute_result",
          "data": {
            "text/plain": [
              "Text(0.5, 1.0, 'Receiver operating characteristic')"
            ]
          },
          "metadata": {
            "tags": []
          },
          "execution_count": 68
        },
        {
          "output_type": "execute_result",
          "data": {
            "text/plain": [
              "<matplotlib.legend.Legend at 0x7f36b6579e80>"
            ]
          },
          "metadata": {
            "tags": []
          },
          "execution_count": 68
        },
        {
          "output_type": "display_data",
          "data": {
            "image/png": "[encoded data removed]",
            "text/plain": [
              "<Figure size 432x288 with 1 Axes>"
            ]
          },
          "metadata": {
            "tags": [],
            "needs_background": "light"
          }
        }
      ]
    }
  ]
}