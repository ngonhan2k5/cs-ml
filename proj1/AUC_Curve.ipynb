{
  "nbformat": 4,
  "nbformat_minor": 0,
  "metadata": {
    "colab": {
      "name": "AUC_Curve.ipynb",
      "provenance": [],
      "collapsed_sections": [
        "F6q5wId2-2jR",
        "Bqu7XE1W-5vQ"
      ],
      "authorship_tag": "ABX9TyPWNjT0XSmF8Q+VqhbLmOuJ",
      "include_colab_link": true
    },
    "kernelspec": {
      "name": "python3",
      "display_name": "Python 3"
    }
  },
  "cells": [
    {
      "cell_type": "markdown",
      "metadata": {
        "id": "view-in-github",
        "colab_type": "text"
      },
      "source": [
        "<a href=\"https://colab.research.google.com/github/ngonhan2k5/cs-ml/blob/master/proj1/AUC_Curve.ipynb\" target=\"_parent\"><img src=\"https://colab.research.google.com/assets/colab-badge.svg\" alt=\"Open In Colab\"/></a>"
      ]
    },
    {
      "cell_type": "markdown",
      "metadata": {
        "id": "kEDws2U1S3Fv",
        "colab_type": "text"
      },
      "source": [
        ""
      ]
    },
    {
      "cell_type": "markdown",
      "metadata": {
        "id": "1PtYdjEC_Xek",
        "colab_type": "text"
      },
      "source": [
        "# 1. Load Data"
      ]
    },
    {
      "cell_type": "code",
      "metadata": {
        "id": "P3M5e7Gr_3v7",
        "colab_type": "code",
        "colab": {}
      },
      "source": [
        "import pandas as pd\n",
        "import numpy as np\n",
        "import matplotlib.pyplot as plt\n",
        "import seaborn as sns\n",
        "\n",
        "from IPython.core.interactiveshell import InteractiveShell\n",
        "InteractiveShell.ast_node_interactivity = \"all\"\n",
        "#load data\n",
        "df = pd.read_csv('https://archive.ics.uci.edu/ml/machine-learning-databases/adult/adult.data', skipinitialspace=True, na_values=\"?\")\n",
        "df.columns = ['age', 'workclass', 'fnlwgt', 'education', \n",
        "                      'education_num', 'marital_status', 'occupation', 'relationship', 'race', 'sex', \n",
        "                      'capital_gain', 'capital_loss', 'hours_per_week', 'native_country', 'income']\n",
        "# df.sample(4)\n",
        "test_size= 0.2"
      ],
      "execution_count": 229,
      "outputs": []
    },
    {
      "cell_type": "markdown",
      "metadata": {
        "id": "fU3JuQMFk2c7",
        "colab_type": "text"
      },
      "source": [
        "# 2. Algorithm Models"
      ]
    },
    {
      "cell_type": "markdown",
      "metadata": {
        "id": "xLg6vBTn-Xq0",
        "colab_type": "text"
      },
      "source": [
        "## 2.1. kNN"
      ]
    },
    {
      "cell_type": "code",
      "metadata": {
        "id": "FGlPwpqQ-Ule",
        "colab_type": "code",
        "colab": {}
      },
      "source": [
        "def kNN(df, test_size):\n",
        "  # Change all the objects to categorial type\n",
        "  for col in ['workclass', 'education', 'marital_status', 'occupation', 'relationship', 'race', 'sex', 'native_country', 'income']:\n",
        "      df[col] = df[col].astype('category')\n",
        "\n",
        "  # drop all the rows having NaN\n",
        "  df = df.dropna()\n",
        "\n",
        "  # reset the index in the panda:\n",
        "  df = df.reset_index(drop=True)\n",
        "\n",
        "  #LabelEncoder\n",
        "  from sklearn import preprocessing\n",
        "  le = preprocessing.LabelEncoder()\n",
        "\n",
        "  # Converting string labels into numbers.\n",
        "  df[['workclass']]=le.fit_transform(df[['workclass']])\n",
        "  df[['marital_status']]=le.fit_transform(df[['marital_status']])\n",
        "  df[['occupation']]=le.fit_transform(df[['occupation']])\n",
        "  df[['race']] =le.fit_transform(df[['race']])\n",
        "  df[['sex']]=le.fit_transform(df[['sex']])\n",
        "  df[['native_country']]=le.fit_transform(df[['native_country']])\n",
        "  df[['income']]=le.fit_transform(df[['income']])\n",
        "\n",
        "  #Selecting Features\n",
        "  features=df[['age','workclass','education_num','marital_status','occupation','race','sex','capital_gain','hours_per_week','native_country']]\n",
        "  \n",
        "  label = df[['income']]\n",
        "\n",
        "  from sklearn.model_selection import train_test_split\n",
        "  features_, features_actual, label_, label_actual = train_test_split(features, label, test_size=test_size)\n",
        "  features_actual.count()\n",
        "\n",
        "  from sklearn.neighbors import KNeighborsClassifier\n",
        "  classifier = KNeighborsClassifier(n_neighbors=18)\n",
        "  classifier.fit(features_,label_)\n",
        "  score= classifier.score(features_actual, label_actual)\n",
        "  print(\"kNN Score:\", score)\n",
        "  return features_actual, label_actual, classifier"
      ],
      "execution_count": 230,
      "outputs": []
    },
    {
      "cell_type": "markdown",
      "metadata": {
        "id": "FGogaLhC-eTA",
        "colab_type": "text"
      },
      "source": [
        "##2.2. Decision Tree"
      ]
    },
    {
      "cell_type": "code",
      "metadata": {
        "id": "yvY6uZLLAUvK",
        "colab_type": "code",
        "colab": {}
      },
      "source": [
        "def decision_tree(df, test_size):  \n",
        "  #remove records missing values\n",
        "  no_missing_df= df.drop(df[df.native_country.isnull()].index)\n",
        "  no_missing_df= no_missing_df.drop(no_missing_df[no_missing_df.workclass.isnull()].index)\n",
        "  no_missing_df= no_missing_df.drop(no_missing_df[no_missing_df.occupation.isnull()].index)\n",
        "  no_missing_df.isnull().sum().max() #just checking that there's no missing data missing...\n",
        "\n",
        "  #LabelEncoder\n",
        "  from sklearn.preprocessing import LabelEncoder\n",
        "  le= LabelEncoder()\n",
        "  no_missing_df['workclass_num']= le.fit_transform(no_missing_df['workclass'])\n",
        "  no_missing_df['marital_status_num']= le.fit_transform(no_missing_df['marital_status'])\n",
        "  no_missing_df['occupation_num']= le.fit_transform(no_missing_df['occupation'])\n",
        "  no_missing_df['relationship_num']= le.fit_transform(no_missing_df['relationship'])\n",
        "  no_missing_df['race_num']= le.fit_transform(no_missing_df['race'])\n",
        "  no_missing_df['sex_num']= le.fit_transform(no_missing_df['sex'])\n",
        "  no_missing_df['native_country_num']= le.fit_transform(no_missing_df['native_country'])\n",
        "  no_missing_df['income_num']= le.fit_transform(no_missing_df['income'])\n",
        "\n",
        "  #remove the unnecessary features\n",
        "  neccessary_columns_df= no_missing_df.drop(columns=['fnlwgt', 'education', 'workclass', 'income', 'marital_status', 'occupation', 'sex', 'relationship', 'native_country', 'race'])\n",
        "\n",
        "  #separate input and target\n",
        "  X= neccessary_columns_df.drop('income_num', axis='columns')\n",
        "  y= neccessary_columns_df['income_num']\n",
        "\n",
        "  #Shuffle and Split data into Training, Testing dataframe\n",
        "  from sklearn.model_selection import train_test_split\n",
        "  X_train, X_test, y_train, y_test = train_test_split(X, y, shuffle=True, test_size=test_size, random_state=1)\n",
        " \n",
        "  from sklearn.tree import DecisionTreeClassifier\n",
        "  best_clf= DecisionTreeClassifier(criterion= 'gini', max_depth=9, min_samples_leaf=3, min_samples_split=7)\n",
        "  best_clf= best_clf.fit(X_train, y_train)\n",
        "  score= best_clf.score(X_test, y_test)\n",
        "  print(\"Decision Tree Score:\", score)\n",
        "  return X_test, y_test, best_clf\n"
      ],
      "execution_count": 243,
      "outputs": []
    },
    {
      "cell_type": "markdown",
      "metadata": {
        "id": "-ZurlUYP-i6h",
        "colab_type": "text"
      },
      "source": [
        "##2.3. SVM"
      ]
    },
    {
      "cell_type": "code",
      "metadata": {
        "id": "yRHbPU5s-19s",
        "colab_type": "code",
        "colab": {}
      },
      "source": [
        "def svm(df, test_size):\n",
        "  import numpy as np # linear algebra\n",
        "  import pandas as pd # data processing, CSV file I/O (e.g. pd.read_csv)\n",
        "\n",
        "  %matplotlib inline\n",
        "  import matplotlib as mpl\n",
        "  import matplotlib.pyplot as plt\n",
        "  from matplotlib import style\n",
        "\n",
        "  import seaborn as sns \n",
        "\n",
        "  from sklearn import linear_model\n",
        "  from sklearn.linear_model import LogisticRegression\n",
        "  from sklearn.ensemble import RandomForestClassifier\n",
        "  from sklearn.linear_model import Perceptron\n",
        "  from sklearn.linear_model import SGDClassifier\n",
        "  from sklearn.tree import DecisionTreeClassifier\n",
        "  from sklearn.neighbors import KNeighborsClassifier\n",
        "  from sklearn.svm import SVC, LinearSVC\n",
        "  from sklearn.naive_bayes import GaussianNB\n",
        "\n",
        "  cleaned_df = df.copy('true').dropna(axis=0)\n",
        "  cleaned_df.sample(10)\n",
        "\n",
        "  cleaned_df['over_50K'] = np.where(cleaned_df.income == '<=50K', 0, 1)\n",
        "  cleaned_df['sex_num'] = np.where(cleaned_df.sex == 'Female', 0, 1)\n",
        "\n",
        "  cleaned_df['workclass_num'] = cleaned_df.workclass.map({'Self-emp-not-inc' : 0, 'Private':1, 'State-gov':2, \n",
        "                                                            'Without-pay':3, 'Local-gov':4, 'Self-emp-inc':5, 'Federal-gov':6, 'Never-worked':7}).astype(int)\n",
        "\n",
        "\n",
        "  cleaned_df['marital_status_num'] = cleaned_df['marital_status'].map({'Never-married' : 0, 'Widowed' : 1, 'Separated' : 2, \n",
        "                                                                        'Married-spouse-absent' : 3, 'Married-civ-spouse' : 4, 'Divorced' : 5, 'Married-AF-spouse' : 6}).astype(int)\n",
        "\n",
        "  cleaned_df['occupation_num'] = cleaned_df['occupation'].map({'Farming-fishing' : 0, 'Other-service' : 1, 'Transport-moving' : 2, 'Protective-serv' : 3, 'Exec-managerial' : 4, 'Armed-Forces' : 5, \n",
        "  'Machine-op-inspct' : 6, 'Prof-specialty' : 7, 'Tech-support' : 8, 'Handlers-cleaners' : 9, 'Priv-house-serv' : 10, 'Adm-clerical' : 11, 'Craft-repair' : 12, 'Sales' : 13}).astype(int)\n",
        "\n",
        "  cleaned_df['relationship_num'] = cleaned_df['relationship'].map({'Wife' : 0, 'Unmarried' : 1, 'Own-child' : 2, 'Husband' : 3, 'Other-relative' : 4, 'Not-in-family' : 5}).astype(int)\n",
        "  cleaned_df['race_num'] = cleaned_df['race'].map({'White':0, 'Black':1, 'Asian-Pac-Islander':2, 'Amer-Indian-Eskimo':3, 'Other':4})\n",
        "\n",
        "  cleaned_df.drop(columns=['fnlwgt', 'education', 'workclass', 'income', 'marital_status', 'occupation', 'sex', 'relationship', 'native_country', 'race'])\n",
        "\n",
        "  #Split data and pick features\n",
        "  from sklearn.model_selection import train_test_split\n",
        "  from sklearn.preprocessing import StandardScaler\n",
        "\n",
        "  # Pick discussed features\n",
        "  X = cleaned_df[['education_num', 'capital_gain', 'capital_loss', 'hours_per_week', 'sex_num', 'workclass_num', 'marital_status_num', 'occupation_num', 'relationship_num', 'race_num']]\n",
        "\n",
        "  scaler = StandardScaler()\n",
        "  scaler.fit(X)\n",
        "  X = scaler.transform(X)\n",
        "\n",
        "  # Pick the labels (Income)\n",
        "  Y = cleaned_df['over_50K']\n",
        "\n",
        "  # Spliting into 80% for training set and 20% for testing set\n",
        "  X_train, x_test, Y_train, y_test = train_test_split(X, Y, test_size=test_size, random_state=42)\n",
        "\n",
        "  svc_clf = SVC(kernel='rbf', C = 10, gamma = 'scale')\n",
        "  svc_clf.fit(X_train, Y_train)\n",
        "  score= svc_clf.score(x_test, y_test)\n",
        "  print(\"SVM Score:\", score)\n",
        "  return x_test, y_test, svc_clf"
      ],
      "execution_count": 232,
      "outputs": []
    },
    {
      "cell_type": "markdown",
      "metadata": {
        "id": "F6q5wId2-2jR",
        "colab_type": "text"
      },
      "source": [
        "##2.4. Logit"
      ]
    },
    {
      "cell_type": "code",
      "metadata": {
        "id": "jAJzkmVtG-8G",
        "colab_type": "code",
        "colab": {}
      },
      "source": [
        "def logit(df, test_size):\n",
        "  # import pandas as pd \n",
        "  # df = pd.read_csv(\"./adult.csv\", skipinitialspace=True, na_values=\"?\")\n",
        "\n",
        "  for col in ['workclass', 'education', 'marital_status', 'occupation', 'relationship', 'race', 'sex', 'native_country', 'income']:\n",
        "      df[col] = df[col].astype('category')      \n",
        "  #print(df.dtypes)\n",
        "\n",
        "  category_columns = list(df.select_dtypes(include=['category']).columns)\n",
        "  #print(category_columns)\n",
        "\n",
        "  numberic_columns = list(df.select_dtypes(include=['int64']).columns)\n",
        "  #because education_num had relationship with educatoin\n",
        "  numberic_columns.remove('education_num')\n",
        "  #print(numberic_columns)\n",
        "\n",
        "  # remove rows with missing values\n",
        "  for col in category_columns:\n",
        "      df = df[df[col].str.contains(\"\\\\?\") == False]\n",
        "  nrow2 = df.shape[0]\n",
        "\n",
        "  df.income = df.income.apply(lambda x:0 if x=='<=50K' else 1)\n",
        "  df.income.head()\n",
        "\n",
        "  # one hot encoding sex \n",
        "  one_hot_coding =  pd.get_dummies(df[['workclass',\n",
        "  'education',\n",
        "  'marital_status',\n",
        "  'occupation',\n",
        "  'relationship',\n",
        "  'race',\n",
        "  'sex']])\n",
        "  one_hot_coding.head()\n",
        "\n",
        "  \n",
        "  columns = list(one_hot_coding.columns) \n",
        "  columns\n",
        "\n",
        "  combined = pd.concat([df['income'], df[numberic_columns], one_hot_coding], axis=1)\n",
        "  combined.head()\n",
        "\n",
        "  # X = df[['age', 'workclass', 'fnlwgt', 'educatoin', 'educatoin_num', 'marital_status', 'occupation', 'relationship', 'race', 'sex', 'capital_gain', 'capital_loss', 'hours_per_week']]\n",
        "  X = combined[columns]\n",
        "  y = combined['income']\n",
        "\n",
        "  from sklearn.model_selection import train_test_split\n",
        "  X_train, X_test, y_train, y_test = train_test_split(X, y, random_state=42, stratify=y,test_size=test_size)\n",
        "    \n",
        "  from sklearn.linear_model import LogisticRegression\n",
        "  logreg = LogisticRegression(max_iter=1000)\n",
        "  logreg.fit(X_train, y_train)\n",
        "  y_pred = logreg.predict(X_test)\n",
        "  print('Accuracy of logistic regression classifier on test set: {:.2f}'.format(logreg.score(X_test, y_test)))\n",
        "  return X_test, y_test, logreg"
      ],
      "execution_count": 233,
      "outputs": []
    },
    {
      "cell_type": "markdown",
      "metadata": {
        "id": "Bqu7XE1W-5vQ",
        "colab_type": "text"
      },
      "source": [
        "##2.5. Random Forest"
      ]
    },
    {
      "cell_type": "code",
      "metadata": {
        "id": "yub6OXVbo0lv",
        "colab_type": "code",
        "colab": {}
      },
      "source": [
        "def random_forest(df, test_size):\n",
        "  from sklearn.model_selection import train_test_split\n",
        "\n",
        "  df.income = df.income.apply(lambda x: 0 if x=='<=50K' else 1)\n",
        "\n",
        "  #remove records missing values\n",
        "  df= df.drop(df[df.native_country.isnull()].index)\n",
        "  df= df.drop(df[df.workclass.isnull()].index)\n",
        "  df= df.drop(df[df.occupation.isnull()].index)\n",
        "  df.isnull().sum().max() #just checking that there's no missing data missing...\n",
        "\n",
        "  # Pick discussed features\n",
        "  X = df.drop(['income'], axis=1)\n",
        "\n",
        "  # Pick the labels (Income)\n",
        "  y = df['income']\n",
        "\n",
        "  # Spliting into 80% for training set and 20% for testing set\n",
        "  X_train, X_test, y_train, y_test = train_test_split(X, y, test_size=test_size, random_state=10)\n",
        "\n",
        "  DUMMIES_COLS = ['race', 'workclass', 'marital_status', 'occupation', 'relationship', 'sex']\n",
        "  DROP_COLS = ['fnlwgt', 'native_country', 'education']\n",
        "\n",
        "  X_train2 = X_train.copy()\n",
        "  X_train2 = pd.get_dummies(X_train2, columns=DUMMIES_COLS)\n",
        "  # X_train2.columns\n",
        "  X_train2 = X_train2.drop(DROP_COLS, axis=1)\n",
        "  y_train2 = y_train.copy()\n",
        "\n",
        "  X_test2 = pd.get_dummies(X_test, columns=DUMMIES_COLS)\n",
        "  X_test2 = X_test2.drop(DROP_COLS, axis=1)\n",
        "\n",
        "  from sklearn.ensemble import RandomForestClassifier\n",
        "  rf_clf = RandomForestClassifier(n_estimators=100, max_depth=20, random_state=10)\n",
        "  rf_clf.fit(X_train2, y_train2)\n",
        "  score= rf_clf.score(X_test2, y_test)\n",
        "  print(\"Random Forest Classifier Score:\", score)\n",
        "  return X_test2, y_test, rf_clf"
      ],
      "execution_count": 234,
      "outputs": []
    },
    {
      "cell_type": "markdown",
      "metadata": {
        "id": "YT7XEipD_GMS",
        "colab_type": "text"
      },
      "source": [
        "# 3. AUC Curve"
      ]
    },
    {
      "cell_type": "markdown",
      "metadata": {
        "id": "QnUfIjHJlatd",
        "colab_type": "text"
      },
      "source": [
        "**3.1. Run the models**"
      ]
    },
    {
      "cell_type": "code",
      "metadata": {
        "id": "IHDlbVWkD3vr",
        "colab_type": "code",
        "colab": {
          "base_uri": "https://localhost:8080/",
          "height": 107
        },
        "outputId": "b687ac1b-acb1-4847-e399-073b5f76fc79"
      },
      "source": [
        "X_test_knn, y_test_knn, knn_clf = kNN(df, test_size)"
      ],
      "execution_count": 235,
      "outputs": [
        {
          "output_type": "stream",
          "text": [
            "/usr/local/lib/python3.6/dist-packages/sklearn/preprocessing/_label.py:251: DataConversionWarning: A column-vector y was passed when a 1d array was expected. Please change the shape of y to (n_samples, ), for example using ravel().\n",
            "  y = column_or_1d(y, warn=True)\n",
            "/usr/local/lib/python3.6/dist-packages/ipykernel_launcher.py:36: DataConversionWarning: A column-vector y was passed when a 1d array was expected. Please change the shape of y to (n_samples, ), for example using ravel().\n"
          ],
          "name": "stderr"
        },
        {
          "output_type": "stream",
          "text": [
            "kNN Score: 0.8320901707276646\n"
          ],
          "name": "stdout"
        }
      ]
    },
    {
      "cell_type": "code",
      "metadata": {
        "id": "g2lb2Is4w-3I",
        "colab_type": "code",
        "colab": {
          "base_uri": "https://localhost:8080/",
          "height": 34
        },
        "outputId": "a883af0f-2aaf-4d40-eea6-3838c0bfae9a"
      },
      "source": [
        "X_test_dt, y_test_dt, dt_clf= decision_tree(df, test_size)"
      ],
      "execution_count": 244,
      "outputs": [
        {
          "output_type": "stream",
          "text": [
            "Decision Tree Score: 0.8488314271506713\n"
          ],
          "name": "stdout"
        }
      ]
    },
    {
      "cell_type": "code",
      "metadata": {
        "id": "uwGBNuGuxBjj",
        "colab_type": "code",
        "colab": {
          "base_uri": "https://localhost:8080/",
          "height": 34
        },
        "outputId": "11c95877-9e13-434f-c22e-ab05fcb24b29"
      },
      "source": [
        "X_test_svm, y_test_svm, svm_clf= svm(df, test_size)"
      ],
      "execution_count": 237,
      "outputs": [
        {
          "output_type": "stream",
          "text": [
            "SVM Score: 0.8470081219956904\n"
          ],
          "name": "stdout"
        }
      ]
    },
    {
      "cell_type": "code",
      "metadata": {
        "id": "FfYDvHY8xGZ5",
        "colab_type": "code",
        "colab": {
          "base_uri": "https://localhost:8080/",
          "height": 34
        },
        "outputId": "f62acec8-150d-4daa-e793-7bb5dc85972c"
      },
      "source": [
        "X_test_logit, y_test_logit, logit_clf= logit(df, test_size)"
      ],
      "execution_count": 238,
      "outputs": [
        {
          "output_type": "stream",
          "text": [
            "Accuracy of logistic regression classifier on test set: 0.83\n"
          ],
          "name": "stdout"
        }
      ]
    },
    {
      "cell_type": "code",
      "metadata": {
        "id": "_DmXarJ2xIlf",
        "colab_type": "code",
        "colab": {
          "base_uri": "https://localhost:8080/",
          "height": 34
        },
        "outputId": "06e36a8e-bdf2-4e06-bc89-67f6e6b285d0"
      },
      "source": [
        "X_test_rf, y_test_rf, rf_clf= random_forest(df, test_size)"
      ],
      "execution_count": 239,
      "outputs": [
        {
          "output_type": "stream",
          "text": [
            "Random Forest Classifier Score: 0.8659041936018564\n"
          ],
          "name": "stdout"
        }
      ]
    },
    {
      "cell_type": "markdown",
      "metadata": {
        "id": "suFrtXJAliy8",
        "colab_type": "text"
      },
      "source": [
        "**3.2. Draw AUC**"
      ]
    },
    {
      "cell_type": "code",
      "metadata": {
        "id": "mmAsHRV9_JDF",
        "colab_type": "code",
        "colab": {
          "base_uri": "https://localhost:8080/",
          "height": 818
        },
        "outputId": "980d8fd4-7f36-44dd-8845-b1da800384bd"
      },
      "source": [
        "#ROC Curve\n",
        "from sklearn.metrics import roc_curve, auc, roc_auc_score\n",
        "\n",
        "plt.figure(figsize=(10, 10))\n",
        "\n",
        "# print (\"================kNN\",  len(X_test_knn), len(y_test_knn))\n",
        "# print (\"================DT\",  len(X_test_dt), len(y_test_dt))\n",
        "# print (\"================SVM\",  len(X_test_svm), len(y_test_logit))\n",
        "# print (\"================Logistic\",  len(X_test_logit), len(y_test_logit))\n",
        "# print (\"================Random Forest\",  len(X_test_rf), len(y_test_rf))\n",
        "\n",
        "#kNN\n",
        "knn_roc_auc = roc_auc_score(y_test_knn, knn_clf.predict(X_test_knn))\n",
        "fpr, tpr, thresholds = roc_curve(y_test_knn, knn_clf.predict_proba(X_test_knn)[:,1])\n",
        "plt.plot(fpr, tpr, label='kNN Classifier (area = %0.2f)' % knn_roc_auc)\n",
        "\n",
        "#Decision Tree\n",
        "dt_roc_auc = roc_auc_score(y_test_dt, dt_clf.predict(X_test_dt))\n",
        "fpr, tpr, thresholds = roc_curve(y_test_dt, dt_clf.predict_proba(X_test_dt)[:,1])\n",
        "plt.plot(fpr, tpr, label='Decision Tree Classifier (area = %0.2f)' % dt_roc_auc)\n",
        "\n",
        "#SVM\n",
        "svm_roc_auc = roc_auc_score(y_test_svm, svm_clf.predict(X_test_svm))\n",
        "fpr, tpr, thresholds = roc_curve(y_test_svm, svm_clf.decision_function(X_test_svm))\n",
        "plt.plot(fpr, tpr, label='SVM (area = %0.2f)' % svm_roc_auc)\n",
        "\n",
        "#Logit\n",
        "logit_roc_auc = roc_auc_score(y_test_logit, logit_clf.predict(X_test_logit))\n",
        "fpr, tpr, thresholds = roc_curve(y_test_logit, logit_clf.predict_proba(X_test_logit)[:,1])\n",
        "plt.plot(fpr, tpr, label='Logistic Regression (area = %0.2f)' % logit_roc_auc)\n",
        "\n",
        "#Random Forest \n",
        "rf_roc_auc = roc_auc_score(y_test_rf, rf_clf.predict(X_test_rf))\n",
        "fpr, tpr, thresholds = roc_curve(y_test_rf, rf_clf.predict_proba(X_test_rf)[:,1])\n",
        "plt.plot(fpr, tpr, label='Random Forest (area = %0.2f)' % rf_roc_auc)\n",
        "\n",
        "plt.plot([0, 1], [0, 1],'r--')\n",
        "plt.xlim([0.0, 1.0])\n",
        "plt.ylim([0.0, 1.05])\n",
        "plt.xlabel('False Positive Rate')\n",
        "plt.ylabel('True Positive Rate')\n",
        "title= '\\n Receiver operating characteristic \\n\\n kNN(n_neighbors=18) \\n Logistic Regression(max_iter=1000) \\n Support Machine Learning (kernel=rbf, C = 10, gamma = scale) \\n Random Forest Classifier(n_estimators=100, max_depth=20, random_state=10) \\n Decision Tree Classifier(criterion= gini, max_depth=9, min_samples_leaf=3, min_samples_split=7)'\n",
        "plt.title(title)\n",
        "plt.legend(loc=\"lower right\")\n",
        "plt.savefig('dt_ROC')\n",
        "plt.show()"
      ],
      "execution_count": 245,
      "outputs": [
        {
          "output_type": "execute_result",
          "data": {
            "text/plain": [
              "<Figure size 720x720 with 0 Axes>"
            ]
          },
          "metadata": {
            "tags": []
          },
          "execution_count": 245
        },
        {
          "output_type": "execute_result",
          "data": {
            "text/plain": [
              "[<matplotlib.lines.Line2D at 0x7f36b36b6780>]"
            ]
          },
          "metadata": {
            "tags": []
          },
          "execution_count": 245
        },
        {
          "output_type": "execute_result",
          "data": {
            "text/plain": [
              "[<matplotlib.lines.Line2D at 0x7f36b3909c88>]"
            ]
          },
          "metadata": {
            "tags": []
          },
          "execution_count": 245
        },
        {
          "output_type": "execute_result",
          "data": {
            "text/plain": [
              "[<matplotlib.lines.Line2D at 0x7f36b36b6898>]"
            ]
          },
          "metadata": {
            "tags": []
          },
          "execution_count": 245
        },
        {
          "output_type": "execute_result",
          "data": {
            "text/plain": [
              "[<matplotlib.lines.Line2D at 0x7f36b36b6be0>]"
            ]
          },
          "metadata": {
            "tags": []
          },
          "execution_count": 245
        },
        {
          "output_type": "execute_result",
          "data": {
            "text/plain": [
              "[<matplotlib.lines.Line2D at 0x7f36b36cef98>]"
            ]
          },
          "metadata": {
            "tags": []
          },
          "execution_count": 245
        },
        {
          "output_type": "execute_result",
          "data": {
            "text/plain": [
              "[<matplotlib.lines.Line2D at 0x7f36b36ce780>]"
            ]
          },
          "metadata": {
            "tags": []
          },
          "execution_count": 245
        },
        {
          "output_type": "execute_result",
          "data": {
            "text/plain": [
              "(0.0, 1.0)"
            ]
          },
          "metadata": {
            "tags": []
          },
          "execution_count": 245
        },
        {
          "output_type": "execute_result",
          "data": {
            "text/plain": [
              "(0.0, 1.05)"
            ]
          },
          "metadata": {
            "tags": []
          },
          "execution_count": 245
        },
        {
          "output_type": "execute_result",
          "data": {
            "text/plain": [
              "Text(0.5, 0, 'False Positive Rate')"
            ]
          },
          "metadata": {
            "tags": []
          },
          "execution_count": 245
        },
        {
          "output_type": "execute_result",
          "data": {
            "text/plain": [
              "Text(0, 0.5, 'True Positive Rate')"
            ]
          },
          "metadata": {
            "tags": []
          },
          "execution_count": 245
        },
        {
          "output_type": "execute_result",
          "data": {
            "text/plain": [
              "Text(0.5, 1.0, '\\n Receiver operating characteristic \\n\\n kNN(n_neighbors=18) \\n Logistic Regression(max_iter=1000) \\n Support Machine Learning (kernel=rbf, C = 10, gamma = scale) \\n Random Forest Classifier(n_estimators=100, max_depth=20, random_state=10) \\n Decision Tree Classifier(criterion= gini, max_depth=9, min_samples_leaf=3, min_samples_split=7)')"
            ]
          },
          "metadata": {
            "tags": []
          },
          "execution_count": 245
        },
        {
          "output_type": "execute_result",
          "data": {
            "text/plain": [
              "<matplotlib.legend.Legend at 0x7f36b36a00b8>"
            ]
          },
          "metadata": {
            "tags": []
          },
          "execution_count": 245
        },
        {
          "output_type": "display_data",
          "data": {
            "image/png": "[encoded data removed]",
            "text/plain": [
              "<Figure size 720x720 with 1 Axes>"
            ]
          },
          "metadata": {
            "tags": [],
            "needs_background": "light"
          }
        }
      ]
    }
  ]
}